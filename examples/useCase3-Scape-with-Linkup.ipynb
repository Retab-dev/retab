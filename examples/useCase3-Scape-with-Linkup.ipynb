{
 "cells": [
  {
   "cell_type": "markdown",
   "id": "82fb058d",
   "metadata": {},
   "source": [
    "# **SCRAPING USING LINKUP** & **RETAB**"
   ]
  },
  {
   "cell_type": "markdown",
   "id": "6efd5dcb",
   "metadata": {},
   "source": [
    "We show you here how to scrape and structure **the latest Quarterly PR issued by NVIDIA** (Investor Relations page [here](https://investor.nvidia.com/financial-info/financial-reports/)) using:\n",
    "\n",
    "- **[Linkup `Search` Endpoint](https://docs.linkup.so/pages/documentation/api-reference/endpoint/post-search)** to get the clean Markdow of the latest NVIDIA's PR.\n",
    "\n",
    "- **[Retab](https://www.retab.com/)** to define a `schema` and `prompt` and generate precise structured output without LLMs' hallucinations from Firecrawl's clean Markdown. \n",
    "\n",
    "*Retab's platform enables to automatically generale - iterate - deploy our schemas & prompts into production. See the [Documentation here](https://docs.retab.com/overview/introduction)*\n",
    "\n",
    "Built with 🩷 by retab."
   ]
  },
  {
   "cell_type": "markdown",
   "id": "c8e19576",
   "metadata": {},
   "source": [
    "### **INITIALIZATION**"
   ]
  },
  {
   "cell_type": "markdown",
   "id": "ea163863",
   "metadata": {},
   "source": [
    "Initiate your **API Keys** on **[Linkup](https://app.linkup.so/api-keys)** and **[Retab](https://www.retab.com/)** and save them in a `.env` file.\n",
    "\n",
    "You should have:\n",
    "```\n",
    "LINKUP_API_KEY=***\n",
    "RETAB_API_KEY=sk_retab_***\n"
   ]
  },
  {
   "cell_type": "markdown",
   "id": "3618c383",
   "metadata": {},
   "source": [
    "### **RUN**"
   ]
  },
  {
   "cell_type": "code",
   "execution_count": 1,
   "id": "03bec698",
   "metadata": {},
   "outputs": [],
   "source": [
    "# %pip install retab\n",
    "# %pip install linkup-sdk"
   ]
  },
  {
   "cell_type": "code",
   "execution_count": 2,
   "id": "bc168423",
   "metadata": {},
   "outputs": [
    {
     "name": "stdout",
     "output_type": "stream",
     "text": [
      "results=[LinkupSearchTextResult(type='text', name='NVIDIA Announces Financial Results for First Quarter Fiscal 2026 | NVIDIA Newsroom', url='https://nvidianews.nvidia.com/news/nvidia-announces-financial-results-for-first-quarter-fiscal-2026', content='NVIDIA (NASDAQ: NVDA) today reported revenue for the first quarter ended April 27, 2025, of $44.1 billion, up 12% from the previous quarter and up 69% from a year ago.\\n\\nNVIDIA Announces Financial Results for First Quarter Fiscal 2026\\n================================================================\\n\\n*   Revenue of $44.1 billion, up 12% from Q4 and up 69% from a year ago\\n*   Data Center revenue of $39.1 billion, up 10% from Q4 and up 73% from a year ago\\n\\nMay 28, 2025\\n\\n[](https://s3.amazonaws.com/cms.ipressroom.com/219/files/202502/aabe86db-ce89-4434-b83c-495082979801 )\\n\\nNVIDIA (NASDAQ: NVDA) today reported revenue for the first quarter ended April 27, 2025, of $44.1 billion, up 12% from the previous quarter and up 69% from a year ago.\\n\\nOn April 9, 2025, NVIDIA was informed by the U.S. government that a license is required for exports of its H20 products into the China market. As a result of these new requirements, NVIDIA incurred a $4.5 billion charge in the first quarter of fiscal 2026 associated with H20 excess inventory and purchase obligations as the demand for H20 diminished. Sales of H20 products were $4.6 billion for the first quarter of fiscal 2026 prior to the new export licensing requirements. NVIDIA was unable to ship an additional $2.5 billion of H20 revenue in the first quarter.\\n\\nFor the quarter, GAAP and non-GAAP gross margins were 60.5% and 61.0%, respectively. Excluding the $4.5 billion charge, first quarter non-GAAP gross margin would have been 71.3%.\\n\\nFor the quarter, GAAP and non-GAAP earnings per diluted share were $0.76 and $0.81, respectively. Excluding the $4.5 billion charge and related tax impact, first quarter non-GAAP diluted earnings per share would have been $0.96.\\n\\n“Our breakthrough Blackwell NVL72 AI supercomputer — a ‘thinking machine’ designed for reasoning— is now in full-scale production across system makers and cloud service providers,” said Jensen Huang, founder and CEO of NVIDIA. “Global demand for NVIDIA’s AI infrastructure is incredibly strong. AI inference token generation has surged tenfold in just one year, and as AI agents become mainstream, the demand for AI computing will accelerate. Countries around the world are recognizing AI as essential infrastructure — just like electricity and the internet — and NVIDIA stands at the center of this profound transformation.”\\n\\nNVIDIA will pay its next quarterly cash dividend of $0.01 per share on July 3, 2025, to all shareholders of record on June 11, 2025.\\n\\n**Q1 Fiscal 2026 Summary**\\n\\n**GAAP**\\n\\n_($ in millions, except earnings_  \\n_per share)_\\n\\n\\xa0\\n\\n**Q1 FY26**\\n\\n\\xa0\\n\\n\\xa0\\n\\n**Q4 FY25**\\n\\n\\xa0\\n\\n\\xa0\\n\\n**Q1 FY25**\\n\\n\\xa0\\n\\n**Q/Q**\\n\\n\\xa0\\n\\n**Y/Y**\\n\\n\\xa0\\n\\nRevenue\\n\\n$44,062\\n\\n\\xa0\\n\\n$39,331\\n\\n\\xa0\\n\\n$26,044\\n\\n\\xa0\\n\\n12%\\n\\n\\xa0\\n\\n69%\\n\\n\\xa0\\n\\nGross margin\\n\\n\\xa0\\n\\n60.5%\\n\\n\\xa0\\n\\n\\xa0\\n\\n73.0%\\n\\n\\xa0\\n\\n\\xa0\\n\\n78.4%\\n\\n\\xa0\\n\\n(12.5) pts\\n\\n\\xa0\\n\\n(17.9) pts\\n\\n\\xa0\\n\\nOperating expenses\\n\\n$5,030\\n\\n\\xa0\\n\\n$4,689\\n\\n\\xa0\\n\\n$3,497\\n\\n\\xa0\\n\\n7%\\n\\n\\xa0\\n\\n44%\\n\\n\\xa0\\n\\nOperating income\\n\\n$21,638\\n\\n\\xa0\\n\\n$24,034\\n\\n\\xa0\\n\\n$16,909\\n\\n\\xa0\\n\\n(10)%\\n\\n\\xa0\\n\\n28%\\n\\n\\xa0\\n\\nNet income\\n\\n$18,775\\n\\n\\xa0\\n\\n$22,091\\n\\n\\xa0\\n\\n$14,881\\n\\n\\xa0\\n\\n(15)%\\n\\n\\xa0\\n\\n26%\\n\\n\\xa0\\n\\nDiluted earnings per share\\\\*\\n\\n$0.76\\n\\n\\xa0\\n\\n$0.89\\n\\n\\xa0\\n\\n$0.60\\n\\n\\xa0\\n\\n(15)%\\n\\n\\xa0\\n\\n27%\\n\\n\\xa0\\n\\n**Non-GAAP**\\n\\n_($ in millions, except earnings_  \\n_per share)_\\n\\n\\xa0\\n\\n**Q1 FY26**\\n\\n\\xa0\\n\\n\\xa0\\n\\n**Q4 FY25**\\n\\n*   Revenue is expected to be $45.0 billion, plus or minus 2%. This outlook reflects a loss in H20 revenue of approximately $8.0 billion due to the recent export control limitations.\\n*   GAAP and non-GAAP gross margins are expected to be 71.8% and 72.0%, respectively, plus or minus 50 basis points. The company is continuing to work toward achieving gross margins in the mid-70% range late this year.\\n*   GAAP and non-GAAP operating expenses are expected to be approximately $5.7 billion and $4.0 billion, respectively. Full year fiscal 2026 operating expense growth is expected to be in the mid-30% range.\\n*   GAAP and non-GAAP other income and expense are expected to be an income of approximately $450 million, excluding gains and losses from non-marketable and publicly-held equity securities.\\n*   GAAP and non-GAAP tax rates are expected to be 16.5%, plus or minus 1%, excluding any discrete items.\\n\\n**Highlights**  \\nNVIDIA achieved progress since its previous earnings announcement in these areas:\\xa0\\n\\n**Data Center**\\n\\n*   First-quarter revenue was $39.1 billion, up 10% from the previous quarter and up 73% from a year ago.\\n*   Announced that NVIDIA is building [factories in the U.S.](https://blogs.nvidia.com/blog/nvidia-manufacture-american-made-ai-supercomputers-us/ \"factories in the U.S.\")\\n     and working with its partners to produce NVIDIA AI supercomputers in the U.S.\\n*   Introduced [NVIDIA Blackwell Ultra](https://nvidianews.nvidia.com/news/nvidia-blackwell-ultra-ai-factory-platform-paves-way-for-age-of-ai-reasoning \"NVIDIA Blackwell Ultra\")\\n     and [NVIDIA Dynamo](https://nvidianews.nvidia.com/news/nvidia-dynamo-open-source-library-accelerates-and-scales-ai-reasoning-models \"NVIDIA Dynamo\")\\n     for accelerating and scaling AI reasoning models.\\n*   Announced partnership with HUMAIN to build AI factories in the [Kingdom of Saudi Arabia](https://nvidianews.nvidia.com/news/saudi-arabia-and-nvidia-to-build-ai-factories-to-power-next-wave-of-intelligence-for-the-age-of-reasoning \"Kingdom of Saudi Arabia\")\\n     to drive the next wave of artificial intelligence development.\\n*   Unveiled [Stargate UAE](https://www.g42.ai/resources/news/global-tech-alliance-launches-stargate-uae \"Stargate UAE\")\\n    , a next-generation AI infrastructure cluster in Abu Dhabi, United Arab Emirates, alongside strategic partners G42, OpenAI, Oracle, SoftBank Group and Cisco.\\n*   Revealed plans to work with [Foxconn and the Taiwan government](https://nvidianews.nvidia.com/news/foxconn-ai-factory-tsmc-taiwan-nvidia \"Foxconn and the Taiwan government\")\\n     to build an AI factory supercomputer.\\n*   Announced NVIDIA is speeding the IT infrastructure transition to enterprise AI factories with [NVIDIA RTX PRO™ Servers](https://nvidianews.nvidia.com/news/nvidia-rtx-pro-servers-speed-trillion-dollar-enterprise-it-industry-transition-to-ai-factories \"NVIDIA RTX PRO™ Servers\")\\n    .\\n*   Unveiled [NVLink Fusion™](https://nvidianews.nvidia.com/news/nvidia-nvlink-fusion-semi-custom-ai-infrastructure-partner-ecosystem \"NVLink Fusion™\")\\n     for industry to build semi-custom AI infrastructure with NVIDIA’s partner ecosystem.\\n*   Announced [NVIDIA Spectrum-X™](https://nvidianews.nvidia.com/news/nvidia-spectrum-x-co-packaged-optics-networking-switches-ai-factories \"NVIDIA Spectrum-X™\")\\n     and NVIDIA Quantum-X silicon photonics networking switches to scale AI factories to millions of GPUs.\\n*   Introduced the [NVIDIA DGX SuperPOD™](https://nvidianews.nvidia.com/news/blackwell-ultra-dgx-superpod-supercomputer-ai-factories \"NVIDIA DGX SuperPOD™\")\\n     built with NVIDIA Blackwell Ultra GPUs to provide AI factory supercomputing for agentic AI reasoning.\\n*   Announced [joint initiatives](https://nvidianews.nvidia.com/news/nvidia-alphabet-and-google-collaborate-on-the-future-of-agentic-and-physical-ai \"joint initiatives\")\\n     with Alphabet and Google to advance agentic AI solutions, robotics and drug discovery.\\n*   Announced [integration](https://nvidianews.nvidia.com/news/oracle-and-nvidia-collaborate-to-help-enterprises-accelerate-agentic-ai-inference \"integration\")\\n     between NVIDIA accelerated computing and inference software with Oracle’s AI infrastructure.\\n*   Revealed that NVIDIA Blackwell cloud instances are now available on AWS, [Google Cloud](https://blogs.nvidia.com/blog/google-cloud-next-agentic-ai-reasoning/ \"Google Cloud\")\\n    , [Microsoft Azure](https://blogs.nvidia.com/blog/microsoft-build-agentic-ai-innovation-cloud-pc/ \"Microsoft Azure\")\\n     and [Oracle Cloud Infrastructure](https://blogs.nvidia.com/blog/oracle-cloud-infrastructure-blackwell-gpus-agentic-ai-reasoning-models/ \"Oracle Cloud Infrastructure\")\\n    .\\n*   Announced that the [NVIDIA Blackwell](https://blogs.nvidia.com/blog/blackwell-mlperf-inference/ \"NVIDIA Blackwell\")\\n     platform set records in the latest MLPerf inference results, delivering up to 30x higher throughput.\\n*   Announced [NVIDIA DGX Cloud Lepton™](https://nvidianews.nvidia.com/news/nvidia-announces-dgx-cloud-lepton-to-connect-developers-to-nvidias-global-compute-ecosystem \"NVIDIA DGX Cloud Lepton™\")\\n     to connect developers to NVIDIA’s global compute ecosystem.\\n*   Launched the open [Llama Nemotron](https://nvidianews.nvidia.com/news/nvidia-launches-family-of-open-reasoning-ai-models-for-developers-and-enterprises-to-build-agentic-ai-platforms \"Llama Nemotron\")\\n     family of models with reasoning capabilities, providing a foundation for creating advanced AI agents.\\n*   Introduced the [NVIDIA AI Data Platform](https://nvidianews.nvidia.com/news/nvidia-and-storage-industry-leaders-unveil-new-class-of-enterprise-infrastructure-for-the-age-of-ai \"NVIDIA AI Data Platform\")\\n    , a customizable reference design for AI inference workloads.\\n*   Announced the opening of a research center in Japan that hosts the world’s largest [quantum research supercomputer](https://nvidianews.nvidia.com/news/nvidia-powers-worlds-largest-quantum-research-supercomputer \"quantum research supercomputer\")\\n    .\\n\\n**Conference Call and Webcast Information**  \\nNVIDIA will conduct a conference call with analysts and investors to discuss its first quarter fiscal 2026 financial results and current financial prospects today at 2 p.m. Pacific time (5 p.m. Eastern time). A live webcast (listen-only mode) of the conference call will be accessible at NVIDIA’s investor relations website, [https://investor.nvidia.com](https://investor.nvidia.com )\\n. The webcast will be recorded and available for replay until NVIDIA’s conference call to discuss its financial results for its second quarter of fiscal 2026.')]\n"
     ]
    }
   ],
   "source": [
    "# GET THE LATEST PRESS RELEASE MARKDOWN WITH LINKUP\n",
    "from dotenv import load_dotenv\n",
    "from linkup import LinkupClient\n",
    "\n",
    "load_dotenv()\n",
    "\n",
    "client = LinkupClient()\n",
    "\n",
    "response = client.search(\n",
    "    query=\"Extract all the information from this PR: https://nvidianews.nvidia.com/news/nvidia-announces-financial-results-for-first-quarter-fiscal-2026\",\n",
    "    depth=\"standard\",\n",
    "    output_type=\"searchResults\",\n",
    "    include_images=True\n",
    ")\n",
    "\n",
    "print(response)"
   ]
  },
  {
   "cell_type": "markdown",
   "id": "68b388a9",
   "metadata": {},
   "source": [
    "You can use [Retab platform](https://www.retab.com/dashboard) to quickly generate a `schema` & `prompt` to extract the information with high accuracy.\n",
    "\n",
    "You configuration is viewed as a unique `project_id` to be referenced below.\n",
    "\n",
    "You can check the [Documentation here](https://docs.retab.com/core-concepts/Projects)."
   ]
  },
  {
   "cell_type": "code",
   "execution_count": 3,
   "id": "ad364a5d",
   "metadata": {},
   "outputs": [
    {
     "name": "stdout",
     "output_type": "stream",
     "text": [
      "RetabParsedChatCompletion(id='chatcmpl-Bw9IDOWNDiVdsBkmusloWZYq1UTkz', choices=[RetabParsedChoice(finish_reason='stop', index=0, logprobs=None, message=ParsedChatCompletionMessage(content='{\"summary_type\": \"GAAP\", \"last_period\": \"Q1 FY26\", \"caption\": \"Q1 Fiscal 2026 Summary - GAAP ($ in millions, except earnings per share)\", \"rows\": [{\"Metrics\": \"Revenue\", \"values\": [\"$44,062\"]}, {\"Metrics\": \"Gross margin\", \"values\": [\"60.5%\"]}, {\"Metrics\": \"Operating income\", \"values\": [\"$21,638\"]}, {\"Metrics\": \"Operating expenses\", \"values\": [\"$5,030\"]}, {\"Metrics\": \"Net income\", \"values\": [\"$18,775\"]}, {\"Metrics\": \"Diluted earnings per share\", \"values\": [\"$0.76\"]}]}', refusal=None, role='assistant', annotations=None, audio=None, function_call=None, tool_calls=None, parsed={'summary_type': 'GAAP', 'last_period': 'Q1 FY26', 'caption': 'Q1 Fiscal 2026 Summary - GAAP ($ in millions, except earnings per share)', 'rows': [{'Metrics': 'Revenue', 'values': ['$44,062']}, {'Metrics': 'Gross margin', 'values': ['60.5%']}, {'Metrics': 'Operating income', 'values': ['$21,638']}, {'Metrics': 'Operating expenses', 'values': ['$5,030']}, {'Metrics': 'Net income', 'values': ['$18,775']}, {'Metrics': 'Diluted earnings per share', 'values': ['$0.76']}]}), field_locations=None, key_mapping=None)], created=1753198445, model='gpt-4.1-2025-04-14', object='chat.completion', service_tier=None, system_fingerprint=None, usage=CompletionUsage(completion_tokens=205, prompt_tokens=9280, total_tokens=9485, completion_tokens_details=CompletionTokensDetails(accepted_prediction_tokens=0, audio_tokens=0, reasoning_tokens=0, rejected_prediction_tokens=0), prompt_tokens_details=PromptTokensDetails(audio_tokens=0, cached_tokens=0)), extraction_id='extr_zs9-78UCyqbOYSFOJcbsL', likelihoods={}, schema_validation_error=None, request_at=datetime.datetime(2025, 7, 22, 15, 34, 2, 968408, tzinfo=TzInfo(UTC)), first_token_at=datetime.datetime(2025, 7, 22, 15, 34, 7, 794043, tzinfo=TzInfo(UTC)), last_token_at=datetime.datetime(2025, 7, 22, 15, 34, 10, 831522, tzinfo=TzInfo(UTC)), api_cost={'value': 0.0202, 'currency': 'USD'}, api_cost=Amount(value=0.0202, currency='USD'))\n"
     ]
    }
   ],
   "source": [
    "# STRUCTURE THE INFORMATION WITH RETAB\n",
    "from retab import Retab\n",
    "\n",
    "client = Retab()\n",
    "\n",
    "with open(\"nvidia_pr_markdown.md\", \"w\") as f:\n",
    "    f.write(response.results[0].content)\n",
    "\n",
    "completion = client.deployments.extract(\n",
    "    project_id=\"proj_4M3KWJsuk8ivAn0GP-cMH\",\n",
    "    iteration_id=\"base-configuration\",\n",
    "    document=\"nvidia_pr_markdown.md\"\n",
    ")\n",
    "\n",
    "print(completion)"
   ]
  },
  {
   "cell_type": "code",
   "execution_count": 4,
   "id": "1f8c7b8d",
   "metadata": {},
   "outputs": [
    {
     "name": "stdout",
     "output_type": "stream",
     "text": [
      "  {\n",
      "    \"summary_type\": \"GAAP\",\n",
      "    \"last_period\": \"Q1 FY26\",\n",
      "    \"caption\": \"Q1 Fiscal 2026 Summary - GAAP ($ in millions, except earnings per share)\",\n",
      "    \"rows\": [\n",
      "      {\n",
      "        \"Metrics\": \"Revenue\",\n",
      "        \"values\": [\n",
      "          \"$44,062\"\n",
      "        ]\n",
      "      },\n",
      "      {\n",
      "        \"Metrics\": \"Gross margin\",\n",
      "        \"values\": [\n",
      "          \"60.5%\"\n",
      "        ]\n",
      "      },\n",
      "      {\n",
      "        \"Metrics\": \"Operating income\",\n",
      "        \"values\": [\n",
      "          \"$21,638\"\n",
      "        ]\n",
      "      },\n",
      "      {\n",
      "        \"Metrics\": \"Operating expenses\",\n",
      "        \"values\": [\n",
      "          \"$5,030\"\n",
      "        ]\n",
      "      },\n",
      "      {\n",
      "        \"Metrics\": \"Net income\",\n",
      "        \"values\": [\n",
      "          \"$18,775\"\n",
      "        ]\n",
      "      },\n",
      "      {\n",
      "        \"Metrics\": \"Diluted earnings per share\",\n",
      "        \"values\": [\n",
      "          \"$0.76\"\n",
      "        ]\n",
      "      }\n",
      "    ]\n",
      "  }\n"
     ]
    }
   ],
   "source": [
    "import json, textwrap\n",
    "\n",
    "parsed_data = json.loads(completion.choices[0].message.content)\n",
    "formatted_json = json.dumps(parsed_data, indent=2, ensure_ascii=False)\n",
    "print(textwrap.indent(formatted_json, \"  \"))"
   ]
  },
  {
   "cell_type": "code",
   "execution_count": null,
   "id": "865bce26",
   "metadata": {},
   "outputs": [],
   "source": []
  }
 ],
 "metadata": {
  "kernelspec": {
   "display_name": "cube",
   "language": "python",
   "name": "python3"
  },
  "language_info": {
   "codemirror_mode": {
    "name": "ipython",
    "version": 3
   },
   "file_extension": ".py",
   "mimetype": "text/x-python",
   "name": "python",
   "nbconvert_exporter": "python",
   "pygments_lexer": "ipython3",
   "version": "3.13.2"
  }
 },
 "nbformat": 4,
 "nbformat_minor": 5
}
