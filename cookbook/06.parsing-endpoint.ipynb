{
 "cells": [
  {
   "cell_type": "code",
   "execution_count": null,
   "id": "1265b914",
   "metadata": {},
   "outputs": [],
   "source": [
    "# %pip install retab"
   ]
  },
  {
   "cell_type": "code",
   "execution_count": null,
   "id": "35ad7a22",
   "metadata": {},
   "outputs": [
    {
     "name": "stdout",
     "output_type": "stream",
     "text": [
      "document=BaseMIMEData(filename='invoice.jpeg', url='data:image/jpeg;base64,/9j/4AAQSkZJRgABAQAAAQABAAD...', content='/9j/4AAQSkZJRgABAQAAAQABAAD/2wBDAAgGBgcGBQgHBwcJCQ...', mime_type='image/jpeg', extension='jpeg') usage=RetabUsage(page_count=1, credits=1.0) pages=['AMS AMNOSH SUPPLIERS\\n9291 Proin Road\\nLake Charles, ME-11292\\n\\n# Invoice\\n\\n| Date       | Invoice# |\\n| :--------- | :------- |\\n| 11/24/2021 | 1437     |\\n\\n| Bill To             | Ship To               |\\n| :------------------ | :-------------------- |\\n| Johnson Carrie      | Johnny Patel          |\\n| Abcxyz Traders      | Abcxyz Traders        |\\n| 45 Lightning Road,  | 45 Lightning Road,    |\\n| Arizona, AZ 88776   | Arizona, AZ 88776     |\\n\\n| E-mail Address    | Contact Number | Terms | P.O. Number | Status |\\n| :---------------- | :------------- | :---- | :---------- | :----- |\\n| proprietor@abcxyz.com | 321-321-1234   |       |             |        |\\n\\n| Quantity | Description                          | Price Each | Amount    |\\n| :------- | :----------------------------------- | :--------- | :-------- |\\n| 3        | Drag Series Transmission Build - A WD DSM | 1,129.03   | 3,387.09  |\\n| 2        | Drive Shaft Automatic Right          | 243.01     | 486.02    |\\n| 4        | MIZOL 20W40 Engine Oil               | 342.00     | 1,368.00  |\\n| 3        | Spirax W2 ATF                        | 54.50      | 163.50    |\\n| 1        | Hydraulllic Press-25 Tons            | 6,391.85   | 6,391.85  |\\n| 2        | Optional: Slotter Machine            | 45.67      | 91.34     |\\n\\n|                  |             |\\n| :--------------- | :---------- |\\n| Subtotal         | $11,887.80  |\\n| Sales Tax (1.9%) | $225.87     |\\n| **Total**        | **$12,113.67** |\\n| Payments / Credits | -$12,045.66 |\\n| **Balance Due**  | **$68.01**  |\\n\\n| Phone#      | E-mail                    | Web Site                      |\\n| :---------- | :------------------------ | :---------------------------- |\\n| 123-456-7890 | sales@amnoshsuppliers.com | www.amnoshsuppliers.com       |\\n\\nEstimates may be revised up to 20% without express permission.\\nReturned parts may be subject to a 20% restocking fee.\\nUsed parts and electronics are sold AS-IS.\\nWarranty agreement must be signed and returned within 30 days\\nto activate warranty. http://www.amnoshsuppliers.com/pages/faq\\n\\nFB: amnoshsuppliers Twitter:@amnoshsuppliers'] text='AMS AMNOSH SUPPLIERS\\n9291 Proin Road\\nLake Charles, ME-11292\\n\\n# Invoice\\n\\n| Date       | Invoice# |\\n| :--------- | :------- |\\n| 11/24/2021 | 1437     |\\n\\n| Bill To             | Ship To               |\\n| :------------------ | :-------------------- |\\n| Johnson Carrie      | Johnny Patel          |\\n| Abcxyz Traders      | Abcxyz Traders        |\\n| 45 Lightning Road,  | 45 Lightning Road,    |\\n| Arizona, AZ 88776   | Arizona, AZ 88776     |\\n\\n| E-mail Address    | Contact Number | Terms | P.O. Number | Status |\\n| :---------------- | :------------- | :---- | :---------- | :----- |\\n| proprietor@abcxyz.com | 321-321-1234   |       |             |        |\\n\\n| Quantity | Description                          | Price Each | Amount    |\\n| :------- | :----------------------------------- | :--------- | :-------- |\\n| 3        | Drag Series Transmission Build - A WD DSM | 1,129.03   | 3,387.09  |\\n| 2        | Drive Shaft Automatic Right          | 243.01     | 486.02    |\\n| 4        | MIZOL 20W40 Engine Oil               | 342.00     | 1,368.00  |\\n| 3        | Spirax W2 ATF                        | 54.50      | 163.50    |\\n| 1        | Hydraulllic Press-25 Tons            | 6,391.85   | 6,391.85  |\\n| 2        | Optional: Slotter Machine            | 45.67      | 91.34     |\\n\\n|                  |             |\\n| :--------------- | :---------- |\\n| Subtotal         | $11,887.80  |\\n| Sales Tax (1.9%) | $225.87     |\\n| **Total**        | **$12,113.67** |\\n| Payments / Credits | -$12,045.66 |\\n| **Balance Due**  | **$68.01**  |\\n\\n| Phone#      | E-mail                    | Web Site                      |\\n| :---------- | :------------------------ | :---------------------------- |\\n| 123-456-7890 | sales@amnoshsuppliers.com | www.amnoshsuppliers.com       |\\n\\nEstimates may be revised up to 20% without express permission.\\nReturned parts may be subject to a 20% restocking fee.\\nUsed parts and electronics are sold AS-IS.\\nWarranty agreement must be signed and returned within 30 days\\nto activate warranty. http://www.amnoshsuppliers.com/pages/faq\\n\\nFB: amnoshsuppliers Twitter:@amnoshsuppliers'\n"
     ]
    }
   ],
   "source": [
    "# Parse a Document\n",
    "from dotenv import load_dotenv\n",
    "from retab import Retab\n",
    "\n",
    "load_dotenv() # You need to create a .env file containing your RETAB_API_KEY=sk_retab_***\n",
    "\n",
    "client = Retab()\n",
    "\n",
    "# Parse the document\n",
    "response = client.documents.parse(\n",
    "    document=\"../assets/code/invoice.jpeg\",\n",
    "    model=\"gemini-2.5-flash\",\n",
    "    table_parsing_format=\"markdown\",  # Better for RAG\n",
    "    image_resolution_dpi=150          # Higher quality for technical docs\n",
    ")\n",
    "\n",
    "print(response)"
   ]
  },
  {
   "cell_type": "markdown",
   "id": "1ee00075",
   "metadata": {},
   "source": [
    "## **Best Practices**\n",
    "\n",
    "### **Model Selection**\n",
    "* `gemini-2.5-pro`: Most accurate and robust model, recommended for complex or high-stakes document parsing tasks.\n",
    "* `gemini-2.5-flash`: Best for speed and cost-effectiveness, suitable for most general-purpose documents.\n",
    "* `gemini-2.5-flash-lite`: Fastest and most cost-efficient, ideal for simple documents or high-volume batch processing where maximum throughput is needed.\n",
    "​\n",
    "### **Image Quality Settings**\n",
    "* Standard documents: `72-96 DPI`\n",
    "* Technical documents: `150 DPI`\n",
    "* Fine print/small text: `300+ DPI`"
   ]
  },
  {
   "cell_type": "code",
   "execution_count": null,
   "id": "3c4e088a",
   "metadata": {
    "vscode": {
     "languageId": "plaintext"
    }
   },
   "outputs": [],
   "source": []
  }
 ],
 "metadata": {
  "kernelspec": {
   "display_name": "cube",
   "language": "python",
   "name": "python3"
  },
  "language_info": {
   "codemirror_mode": {
    "name": "ipython",
    "version": 3
   },
   "file_extension": ".py",
   "mimetype": "text/x-python",
   "name": "python",
   "nbconvert_exporter": "python",
   "pygments_lexer": "ipython3",
   "version": "3.13.2"
  }
 },
 "nbformat": 4,
 "nbformat_minor": 5
}
