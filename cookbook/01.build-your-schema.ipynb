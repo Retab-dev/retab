{
 "cells": [
  {
   "cell_type": "code",
   "execution_count": 1,
   "id": "3a581dba",
   "metadata": {},
   "outputs": [],
   "source": [
    "# %pip install retab"
   ]
  },
  {
   "cell_type": "markdown",
   "id": "93bbbfeb",
   "metadata": {},
   "source": [
    "We strongly recommend to use [Pydantic](https://docs.pydantic.dev/latest/) to build schemas.\n",
    "\n",
    "Pydantic is the most widely used data validation library for Python."
   ]
  },
  {
   "cell_type": "code",
   "execution_count": 2,
   "id": "03fc872c",
   "metadata": {},
   "outputs": [],
   "source": [
    "# Draft a Schema using Pydantic\n",
    "\n",
    "from pydantic import BaseModel\n",
    "\n",
    "class Invoice(BaseModel):\n",
    "    date: str\n",
    "    invoice_number: str\n",
    "    total: str\n",
    "    status: str\n",
    "    customer: str\n",
    "    customer_address: str\n",
    "    customer_email: str\n",
    "    customer_phone: str\n",
    "    customer_website: str"
   ]
  },
  {
   "cell_type": "code",
   "execution_count": 3,
   "id": "c0c58683",
   "metadata": {},
   "outputs": [
    {
     "name": "stdout",
     "output_type": "stream",
     "text": [
      "{\n",
      "    \"id\": \"chatcmpl-ByhhlMki2637MzgF8CZNoAWzXRboU\",\n",
      "    \"choices\": [\n",
      "        {\n",
      "            \"finish_reason\": \"stop\",\n",
      "            \"index\": 0,\n",
      "            \"logprobs\": null,\n",
      "            \"message\": {\n",
      "                \"content\": \"{\\\"date\\\": \\\"2021-11-24\\\", \\\"invoice_number\\\": \\\"1437\\\", \\\"total\\\": \\\"$12,113.67\\\", \\\"status\\\": \\\"\\\", \\\"customer\\\": \\\"Johnson Carrie\\\", \\\"customer_address\\\": \\\"45 Lightning Road, Arizona, AZ 88776\\\", \\\"customer_email\\\": \\\"proprietor@abcxyz.com\\\", \\\"customer_phone\\\": \\\"321-321-1234\\\", \\\"customer_website\\\": \\\"www.amnoshsuppliers.com\\\"}\",\n",
      "                \"refusal\": null,\n",
      "                \"role\": \"assistant\",\n",
      "                \"annotations\": null,\n",
      "                \"audio\": null,\n",
      "                \"function_call\": null,\n",
      "                \"tool_calls\": null,\n",
      "                \"parsed\": {\n",
      "                    \"date\": \"2021-11-24\",\n",
      "                    \"invoice_number\": \"1437\",\n",
      "                    \"total\": \"$12,113.67\",\n",
      "                    \"status\": \"\",\n",
      "                    \"customer\": \"Johnson Carrie\",\n",
      "                    \"customer_address\": \"45 Lightning Road, Arizona, AZ 88776\",\n",
      "                    \"customer_email\": \"proprietor@abcxyz.com\",\n",
      "                    \"customer_phone\": \"321-321-1234\",\n",
      "                    \"customer_website\": \"www.amnoshsuppliers.com\"\n",
      "                }\n",
      "            },\n",
      "            \"field_locations\": null,\n",
      "            \"key_mapping\": null\n",
      "        }\n",
      "    ],\n",
      "    \"created\": 1753807381,\n",
      "    \"model\": \"gpt-4o-mini-2024-07-18\",\n",
      "    \"object\": \"chat.completion\",\n",
      "    \"service_tier\": null,\n",
      "    \"system_fingerprint\": null,\n",
      "    \"usage\": {\n",
      "        \"completion_tokens\": 81,\n",
      "        \"prompt_tokens\": 2384,\n",
      "        \"total_tokens\": 2465,\n",
      "        \"completion_tokens_details\": {\n",
      "            \"accepted_prediction_tokens\": 0,\n",
      "            \"audio_tokens\": 0,\n",
      "            \"reasoning_tokens\": 0,\n",
      "            \"rejected_prediction_tokens\": 0\n",
      "        },\n",
      "        \"prompt_tokens_details\": {\n",
      "            \"audio_tokens\": 0,\n",
      "            \"cached_tokens\": 2304\n",
      "        }\n",
      "    },\n",
      "    \"extraction_id\": \"extr_Wo1yPVhLnHuOjig5bm3WP\",\n",
      "    \"likelihoods\": {},\n",
      "    \"schema_validation_error\": null,\n",
      "    \"request_at\": \"2025-07-29T16:43:01.096480Z\",\n",
      "    \"first_token_at\": \"2025-07-29T16:43:02.001860Z\",\n",
      "    \"last_token_at\": \"2025-07-29T16:43:02.857687Z\",\n",
      "    \"api_cost\": {\n",
      "        \"value\": 0.00023339999999999998,\n",
      "        \"currency\": \"USD\"\n",
      "    },\n",
      "    \"api_cost\": {\n",
      "        \"value\": 0.00023339999999999998,\n",
      "        \"currency\": \"USD\"\n",
      "    }\n",
      "}\n"
     ]
    }
   ],
   "source": [
    "# Get Structured Data\n",
    "\n",
    "from dotenv import load_dotenv\n",
    "from retab import Retab\n",
    "\n",
    "load_dotenv() # We recommend to create a .env file containing your RETAB_API_KEY=sk_retab_***\n",
    "\n",
    "client = Retab()\n",
    "\n",
    "response = client.documents.extract(\n",
    "    documents=[\"../assets/code/invoice.jpeg\"],\n",
    "    model=\"gpt-4o-mini\",          # or any model your plan supports\n",
    "    json_schema=Invoice.model_json_schema(),\n",
    "    modality=\"text\",            \n",
    ")\n",
    "\n",
    "print(response.model_dump_json(indent=4))"
   ]
  },
  {
   "cell_type": "code",
   "execution_count": null,
   "id": "dad5c3d3",
   "metadata": {},
   "outputs": [],
   "source": []
  }
 ],
 "metadata": {
  "kernelspec": {
   "display_name": "cube",
   "language": "python",
   "name": "python3"
  },
  "language_info": {
   "codemirror_mode": {
    "name": "ipython",
    "version": 3
   },
   "file_extension": ".py",
   "mimetype": "text/x-python",
   "name": "python",
   "nbconvert_exporter": "python",
   "pygments_lexer": "ipython3",
   "version": "3.13.2"
  }
 },
 "nbformat": 4,
 "nbformat_minor": 5
}
