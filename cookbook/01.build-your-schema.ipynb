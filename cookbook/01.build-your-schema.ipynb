{
 "cells": [
  {
   "cell_type": "code",
   "execution_count": 1,
   "id": "3a581dba",
   "metadata": {},
   "outputs": [],
   "source": [
    "# %pip install retab"
   ]
  },
  {
   "cell_type": "code",
   "execution_count": 2,
   "id": "03fc872c",
   "metadata": {},
   "outputs": [
    {
     "name": "stdout",
     "output_type": "stream",
     "text": [
      "{\n",
      "  \"date\": 1.0,\n",
      "  \"invoice_number\": 1.0,\n",
      "  \"total\": 1.0,\n",
      "  \"status\": 0.6,\n",
      "  \"customer\": 1.0,\n",
      "  \"customer_address\": 1.0,\n",
      "  \"customer_email\": 1.0,\n",
      "  \"customer_phone\": 1.0,\n",
      "  \"customer_website\": 1.0\n",
      "}\n"
     ]
    }
   ],
   "source": [
    "# Draft an Initial Schema\n",
    "from pydantic import BaseModel\n",
    "\n",
    "class Invoice(BaseModel):\n",
    "    date: str\n",
    "    invoice_number: str\n",
    "    total: str\n",
    "    status: str\n",
    "    customer: str\n",
    "    customer_address: str\n",
    "    customer_email: str\n",
    "    customer_phone: str\n",
    "    customer_website: str\n",
    "\n",
    "# Execute with Consensus\n",
    "\n",
    "from dotenv import load_dotenv\n",
    "from retab import Retab\n",
    "import json\n",
    "\n",
    "load_dotenv() # You need to create a .env file containing your RETAB_API_KEY=sk_retab_***\n",
    "\n",
    "client = Retab()\n",
    "\n",
    "response = client.documents.extract(\n",
    "    documents=[\"../assets/code/invoice.jpeg\"],\n",
    "    model=\"gpt-4o-mini\",          # or any model your plan supports\n",
    "    json_schema=Invoice.model_json_schema(),\n",
    "    temperature=0.5,              # you need to add temperature\n",
    "    modality=\"text\",            \n",
    "    n_consensus=5\n",
    ")\n",
    "\n",
    "print(json.dumps(response.likelihoods, indent=2))"
   ]
  },
  {
   "cell_type": "code",
   "execution_count": 3,
   "id": "d1ad19e8",
   "metadata": {},
   "outputs": [
    {
     "name": "stdout",
     "output_type": "stream",
     "text": [
      "{\n",
      "  \"date\": 1.0,\n",
      "  \"invoice_number\": 1.0,\n",
      "  \"total\": 1.0,\n",
      "  \"status\": 1.0,\n",
      "  \"customer\": 1.0,\n",
      "  \"customer_address\": 1.0,\n",
      "  \"customer_email\": 1.0,\n",
      "  \"customer_phone\": 1.0,\n",
      "  \"customer_website\": 1.0\n",
      "}\n"
     ]
    }
   ],
   "source": [
    "# Update the Schema\n",
    "\n",
    "from pydantic import BaseModel, Field\n",
    "from enum import Enum\n",
    "\n",
    "class StatusEnum(str, Enum):\n",
    "    Blank  = \"Blank\"\n",
    "    Paid   = \"Paid\"\n",
    "    Unpaid = \"Unpaid\"\n",
    "\n",
    "class Invoice_v2(BaseModel):\n",
    "    date: str\n",
    "    invoice_number: str\n",
    "    total: str\n",
    "\n",
    "    # Improvement on this field\n",
    "    status: StatusEnum = Field(\n",
    "        default=StatusEnum.Blank,\n",
    "        description=\"Invoice status; Blank when no status appears on the document.\" # We add a description to gain in precision\n",
    "    )\n",
    "\n",
    "    customer: str\n",
    "    customer_address: str\n",
    "    customer_email: str\n",
    "    customer_phone: str\n",
    "    customer_website: str\n",
    "\n",
    "    # Evaluate the precision of the new Schema\n",
    "response = client.documents.extract(\n",
    "    documents=[\"../assets/code/invoice.jpeg\"],\n",
    "    model=\"gpt-4o-mini\",          # or any model your plan supports\n",
    "    json_schema=Invoice_v2.model_json_schema(),\n",
    "    temperature=0.5,              # you need to add temperature\n",
    "    modality=\"text\",            \n",
    "    n_consensus=5\n",
    ")\n",
    "\n",
    "print(json.dumps(response.likelihoods, indent=2))"
   ]
  },
  {
   "cell_type": "markdown",
   "id": "a2f6853f",
   "metadata": {},
   "source": [
    "We improve the likelihood on the `status` field from 0.6 to 1.0!"
   ]
  },
  {
   "cell_type": "code",
   "execution_count": null,
   "id": "dad5c3d3",
   "metadata": {},
   "outputs": [],
   "source": []
  }
 ],
 "metadata": {
  "kernelspec": {
   "display_name": "cube",
   "language": "python",
   "name": "python3"
  },
  "language_info": {
   "codemirror_mode": {
    "name": "ipython",
    "version": 3
   },
   "file_extension": ".py",
   "mimetype": "text/x-python",
   "name": "python",
   "nbconvert_exporter": "python",
   "pygments_lexer": "ipython3",
   "version": "3.13.2"
  }
 },
 "nbformat": 4,
 "nbformat_minor": 5
}
