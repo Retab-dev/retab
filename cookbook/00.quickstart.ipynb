{
    "cells": [
        {
            "cell_type": "code",
            "execution_count": 1,
            "id": "5ad2614e",
            "metadata": {},
            "outputs": [],
            "source": [
                "# %pip install retab"
            ]
        },
        {
            "cell_type": "code",
            "execution_count": 2,
            "id": "5b4251b4",
            "metadata": {},
            "outputs": [
                {
                    "name": "stdout",
                    "output_type": "stream",
                    "text": [
                        "object='schema' created_at=datetime.datetime(2025, 7, 22, 13, 46, 37, 454683, tzinfo=TzInfo(UTC)) json_schema={'title': 'Supplier Invoice Document Schema', 'description': 'A schema for storing structured data extracted from supplier invoices, including billing, shipping, order details, contact information, and payment summary.', 'type': 'object', 'X-SchemaType': 'generic', 'properties': {'supplier_name': {'type': 'string', 'description': 'The name of the supplier (free-text).'}, 'supplier_address': {'type': 'string', 'description': 'The address of the supplier (free-text).'}, 'invoice_number': {'type': 'string', 'description': 'The unique invoice number (free-text, may contain alphanumeric characters).'}, 'invoice_date': {'type': 'string', 'description': 'The date of the invoice in ISO-8601 format.'}, 'bill_to': {'$ref': '#/$defs/contact_block'}, 'ship_to': {'$ref': '#/$defs/contact_block'}, 'contact_info': {'$ref': '#/$defs/contact_info_block'}, 'order_details': {'type': 'array', 'description': 'A list of items included in the order.', 'items': {'$ref': '#/$defs/order_item'}}, 'invoice_summary': {'$ref': '#/$defs/invoice_summary_block'}, 'company_contact': {'$ref': '#/$defs/company_contact_block'}, 'notes': {'type': 'string', 'description': 'Additional notes or terms from the invoice (free-text).'}, 'social_media': {'$ref': '#/$defs/social_media_block'}}, 'required': ['supplier_name', 'supplier_address', 'invoice_number', 'invoice_date', 'bill_to', 'ship_to', 'contact_info', 'order_details', 'invoice_summary', 'company_contact', 'notes', 'social_media'], 'additionalProperties': False, '$defs': {'contact_block': {'type': 'object', 'properties': {'name': {'type': 'string', 'description': 'Name of the contact person or entity (free-text).'}, 'company': {'type': 'string', 'description': 'Company name (free-text).'}, 'address': {'type': 'string', 'description': 'Full address (free-text).'}}, 'required': ['name', 'company', 'address'], 'additionalProperties': False}, 'contact_info_block': {'type': 'object', 'properties': {'email': {'type': 'string', 'description': 'Contact email address (free-text).'}, 'phone': {'type': 'string', 'description': 'Contact phone number (free-text).'}, 'terms': {'type': 'string', 'description': 'Terms of the invoice (free-text, may be empty).'}, 'po_number': {'type': 'string', 'description': 'Purchase order number (free-text, may be empty).'}, 'status': {'type': 'string', 'description': 'Status of the invoice or order (free-text, may be empty).'}}, 'required': ['email', 'phone', 'terms', 'po_number', 'status'], 'additionalProperties': False}, 'order_item': {'type': 'object', 'properties': {'quantity': {'type': 'integer', 'description': 'Quantity of the item ordered.'}, 'description': {'type': 'string', 'description': 'Description of the item (free-text).'}, 'price_each': {'type': 'number', 'description': 'Unit price of the item.'}, 'amount': {'type': 'number', 'description': 'Total amount for this item (quantity * price_each).'}}, 'required': ['quantity', 'description', 'price_each', 'amount'], 'additionalProperties': False}, 'invoice_summary_block': {'type': 'object', 'properties': {'subtotal': {'type': 'number', 'description': 'Subtotal amount before tax.'}, 'sales_tax': {'type': 'number', 'description': 'Sales tax amount.'}, 'total': {'type': 'number', 'description': 'Total invoice amount.'}, 'payments_credits': {'type': 'number', 'description': 'Payments or credits applied (may be negative).'}, 'balance_due': {'type': 'number', 'description': 'Final balance due.'}}, 'required': ['subtotal', 'sales_tax', 'total', 'payments_credits', 'balance_due'], 'additionalProperties': False}, 'company_contact_block': {'type': 'object', 'properties': {'phone': {'type': 'string', 'description': 'Company phone number (free-text).'}, 'email': {'type': 'string', 'description': 'Company email address (free-text).'}, 'website': {'type': 'string', 'description': 'Company website URL (free-text).'}}, 'required': ['phone', 'email', 'website'], 'additionalProperties': False}, 'social_media_block': {'type': 'object', 'properties': {'facebook': {'type': 'string', 'description': 'Facebook handle or page (free-text).'}, 'twitter': {'type': 'string', 'description': 'Twitter handle (free-text).'}}, 'required': ['facebook', 'twitter'], 'additionalProperties': False}}} strict=True data_id='sch_data_id_7af8dbcfd0b4498e' id='sch_id_ac39b14d65b982e0'\n"
                    ]
                }
            ],
            "source": [
                "# Generate a Schema\n",
                "\n",
                "from dotenv import load_dotenv\n",
                "from retab import Retab\n",
                "\n",
                "load_dotenv() # You need to create a .env file containing your RETAB_API_KEY=sk_retab_***\n",
                "\n",
                "client = Retab()\n",
                "\n",
                "response = client.schemas.generate(\n",
                "    documents=[\"../assets/code/invoice.jpeg\"],\n",
                "    model=\"gpt-4.1\",          # or any model your plan supports\n",
                "    temperature=0.0,          # keep the generation deterministic\n",
                "    modality=\"native\",        # \"native\" = let the API decide best modality\n",
                ")\n",
                "\n",
                "print(response)"
            ]
        },
        {
            "cell_type": "code",
            "execution_count": 3,
            "id": "064f7bf6",
            "metadata": {},
            "outputs": [
                {
                    "name": "stdout",
                    "output_type": "stream",
                    "text": [
                        "RetabParsedChatCompletion(id='chatcmpl-Bw7cEx8C0Ww1t0Ad3bYKrIsdY2Al1', choices=[RetabParsedChoice(finish_reason='stop', index=0, logprobs=None, message=ParsedChatCompletionMessage(content='{\"supplier_name\": \"AMNOSH SUPPLIERS\", \"supplier_address\": \"9291 Proin Road\\\\nLake Charles, ME-11292\", \"invoice_number\": \"1437\", \"invoice_date\": \"2021-11-24\", \"bill_to\": {\"name\": \"Johnson Carrie\", \"company\": \"Abcxyz Traders\", \"address\": \"45 Lightning Road,\\\\nArizona, AZ 88776\"}, \"ship_to\": {\"name\": \"Johnny Patel\", \"company\": \"Abcxyz Traders\", \"address\": \"45 Lightning Road,\\\\nArizona, AZ 88776\"}, \"contact_info\": {\"email\": \"proprietor@abcxyz.com\", \"phone\": \"321-321-1234\", \"terms\": \"\", \"po_number\": \"\", \"status\": \"\"}, \"order_details\": [{\"quantity\": 3, \"description\": \"Drag Series Transmission Build - A WD DSM\", \"price_each\": 1129.03, \"amount\": 3387.09}, {\"quantity\": 2, \"description\": \"Drive Shaft Automatic Right\", \"price_each\": 243.01, \"amount\": 486.02}, {\"quantity\": 4, \"description\": \"MIZOL 20W40 Engine Oil\", \"price_each\": 342, \"amount\": 1368}, {\"quantity\": 3, \"description\": \"Spirax W2 ATF\", \"price_each\": 54.5, \"amount\": 163.5}, {\"quantity\": 1, \"description\": \"Hydraulic Press-25 Tons\", \"price_each\": 6391.85, \"amount\": 6391.85}, {\"quantity\": 2, \"description\": \"Optional:\\\\nSlotter Machine\", \"price_each\": 45.67, \"amount\": 91.34}], \"invoice_summary\": {\"subtotal\": 11887.8, \"sales_tax\": 225.87, \"total\": 12113.67, \"payments_credits\": -12045.66, \"balance_due\": 68.01}, \"company_contact\": {\"phone\": \"123-456-7890\", \"email\": \"sales@amnoshsuppliers.com\", \"website\": \"www.amnoshsuppliers.com\"}, \"notes\": \"Estimates may be revised up to 20% without express permission.\\\\nReturned parts may be subject to a 20% restocking fee.\\\\nUsed parts and electronics are sold AS-IS.\\\\nWarranty agreement must be signed and returned within 30 days\\\\nto activate warranty. http://www.amnoshsuppliers.com/pages/faq\", \"social_media\": {\"facebook\": \"amnoshsuppliers\", \"twitter\": \"@amnoshsuppliers\"}}', refusal=None, role='assistant', annotations=None, audio=None, function_call=None, tool_calls=None, parsed=Supplier Invoice Document Schema(supplier_name='AMNOSH SUPPLIERS', supplier_address='9291 Proin Road\\nLake Charles, ME-11292', invoice_number='1437', invoice_date='2021-11-24', bill_to=DynamicModel(name='Johnson Carrie', company='Abcxyz Traders', address='45 Lightning Road,\\nArizona, AZ 88776'), ship_to=DynamicModel(name='Johnny Patel', company='Abcxyz Traders', address='45 Lightning Road,\\nArizona, AZ 88776'), contact_info=DynamicModel(email='proprietor@abcxyz.com', phone='321-321-1234', terms='', po_number='', status=''), order_details=[DynamicModel(quantity=3, description='Drag Series Transmission Build - A WD DSM', price_each=1129.03, amount=3387.09), DynamicModel(quantity=2, description='Drive Shaft Automatic Right', price_each=243.01, amount=486.02), DynamicModel(quantity=4, description='MIZOL 20W40 Engine Oil', price_each=342.0, amount=1368.0), DynamicModel(quantity=3, description='Spirax W2 ATF', price_each=54.5, amount=163.5), DynamicModel(quantity=1, description='Hydraulic Press-25 Tons', price_each=6391.85, amount=6391.85), DynamicModel(quantity=2, description='Optional:\\nSlotter Machine', price_each=45.67, amount=91.34)], invoice_summary=DynamicModel(subtotal=11887.8, sales_tax=225.87, total=12113.67, payments_credits=-12045.66, balance_due=68.01), company_contact=DynamicModel(phone='123-456-7890', email='sales@amnoshsuppliers.com', website='www.amnoshsuppliers.com'), notes='Estimates may be revised up to 20% without express permission.\\nReturned parts may be subject to a 20% restocking fee.\\nUsed parts and electronics are sold AS-IS.\\nWarranty agreement must be signed and returned within 30 days\\nto activate warranty. http://www.amnoshsuppliers.com/pages/faq', social_media=DynamicModel(facebook='amnoshsuppliers', twitter='@amnoshsuppliers'))), field_locations=None, key_mapping=None)], created=1753191998, model='gpt-4.1-2025-04-14', object='chat.completion', service_tier=None, system_fingerprint=None, usage=CompletionUsage(completion_tokens=674, prompt_tokens=3764, total_tokens=4438, completion_tokens_details=CompletionTokensDetails(accepted_prediction_tokens=0, audio_tokens=0, reasoning_tokens=0, rejected_prediction_tokens=0), prompt_tokens_details=PromptTokensDetails(audio_tokens=0, cached_tokens=0)), extraction_id='extr_0iKi3GS7ICWwyZY43nVSp', likelihoods={}, schema_validation_error=None, request_at=datetime.datetime(2025, 7, 22, 13, 46, 37, 998312, tzinfo=TzInfo(UTC)), first_token_at=datetime.datetime(2025, 7, 22, 13, 46, 39, 58624, tzinfo=TzInfo(UTC)), last_token_at=datetime.datetime(2025, 7, 22, 13, 46, 42, 307069, tzinfo=TzInfo(UTC)), api_cost={'value': 0.01292, 'currency': 'USD'}, api_cost=Amount(value=0.01292, currency='USD'))\n"
                    ]
                }
            ],
            "source": [
                "# Extract Data\n",
                "\n",
                "extraction = client.documents.extract(\n",
                "    json_schema = response.json_schema,\n",
                "    document = \"../assets/code/invoice.jpeg\",\n",
                "    model=\"gpt-4.1\",\n",
                "    modality=\"text\",\n",
                "    temperature=0\n",
                ")\n",
                "\n",
                "print(extraction)"
            ]
        },
        {
            "cell_type": "markdown",
            "id": "2bc815ad",
            "metadata": {},
            "source": [
                "# **ANNEXES**"
            ]
        },
        {
            "cell_type": "code",
            "execution_count": 4,
            "id": "ac8f3933",
            "metadata": {},
            "outputs": [
                {
                    "name": "stdout",
                    "output_type": "stream",
                    "text": [
                        "[Model(id='auto-large', created=0, object='model', owned_by='Retab'), Model(id='auto-small', created=0, object='model', owned_by='Retab'), Model(id='auto-micro', created=0, object='model', owned_by='Retab'), Model(id='grok-3', created=0, object='model', owned_by='xAI'), Model(id='grok-3-mini', created=0, object='model', owned_by='xAI'), Model(id='o3', created=0, object='model', owned_by='OpenAI'), Model(id='o4-mini', created=0, object='model', owned_by='OpenAI'), Model(id='gpt-4.1', created=0, object='model', owned_by='OpenAI'), Model(id='gpt-4.1-mini', created=0, object='model', owned_by='OpenAI'), Model(id='gpt-4.1-nano', created=0, object='model', owned_by='OpenAI'), Model(id='gemini-2.5-flash', created=0, object='model', owned_by='Google'), Model(id='gemini-2.5-flash-lite-preview-06-17', created=0, object='model', owned_by='Google'), Model(id='gemini-2.5-pro', created=0, object='model', owned_by='Google')]\n"
                    ]
                }
            ],
            "source": [
                "# Check the models available\n",
                "\n",
                "models_list = client.models.list()\n",
                "print(models_list)"
            ]
        },
        {
            "cell_type": "code",
            "execution_count": null,
            "id": "10a4a43c",
            "metadata": {},
            "outputs": [],
            "source": []
        }
    ],
    "metadata": {
        "kernelspec": {
            "display_name": "cube",
            "language": "python",
            "name": "python3"
        },
        "language_info": {
            "codemirror_mode": {
                "name": "ipython",
                "version": 3
            },
            "file_extension": ".py",
            "mimetype": "text/x-python",
            "name": "python",
            "nbconvert_exporter": "python",
            "pygments_lexer": "ipython3",
            "version": "3.13.2"
        }
    },
    "nbformat": 4,
    "nbformat_minor": 5
}
