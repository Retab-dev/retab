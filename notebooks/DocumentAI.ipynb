{
 "cells": [
  {
   "cell_type": "markdown",
   "id": "c6fab1cf-fd78-4567-9cf6-ac25e9d278f9",
   "metadata": {},
   "source": [
    "# Introduction\n",
    "\n",
    "The goal of this tutorial is to provide ready to use templates to process standard documents, inspired from google documentAI templates. \n",
    "\n",
    "We provide templates from the following documents: \n",
    "- bank_statement\n",
    "- contract\n",
    "- driver_license\n",
    "- expense\n",
    "- identity_proofing\n",
    "- invoice\n",
    "- passport\n",
    "- pay_slip\n",
    "- w2\n"
   ]
  },
  {
   "cell_type": "markdown",
   "id": "bf6cd8d7-6574-4fc3-b91c-4cba61711155",
   "metadata": {},
   "source": [
    "## Setup your environment variables"
   ]
  },
  {
   "cell_type": "code",
   "execution_count": 1,
   "id": "a6ed5954-23d8-42c1-91c2-af6a5e762aee",
   "metadata": {},
   "outputs": [],
   "source": [
    "import os\n",
    "\n",
    "os.environ[\"OPENAI_API_KEY\"] = \"YOUR API KEY\"\n",
    "os.environ[\"UIFORM_API_KEY\"] = \"YOUR API KEY\" # go to https://uiform.com to create your API Key"
   ]
  },
  {
   "cell_type": "code",
   "execution_count": null,
   "id": "f9e13b0a-9f54-48ee-b1cd-999109bafa32",
   "metadata": {},
   "outputs": [],
   "source": [
    "from dotenv import load_dotenv\n",
    "import os\n",
    "\n",
    "assert load_dotenv(\"../.env.production\") # Load environment variables from a .env file"
   ]
  },
  {
   "cell_type": "markdown",
   "id": "e49d1c03-9a71-4f80-a7b8-05a72f589b3f",
   "metadata": {},
   "source": [
    "# Select a document, a template, and extract data from it !"
   ]
  },
  {
   "cell_type": "code",
   "execution_count": null,
   "id": "5ccc52e3-8a88-4b1b-9e1c-7dbfc94db721",
   "metadata": {},
   "outputs": [],
   "source": [
    "from uiform import UiForm\n",
    "from typing import Literal\n",
    "\n",
    "uiclient = UiForm()\n",
    "\n",
    "completion = uiclient.documents.templates.documentai.parse(\n",
    "    document = \"documentai/contract_response.pdf\",\n",
    "    template = \"contract\", #  Literal['bank_statement', 'contract', 'driver_license', 'expense', 'identity_proofing', 'invoice', 'passport', 'pay_slip', 'w2']\n",
    "    model = \"gpt-4o-mini\",\n",
    "    modality = \"native+text\"\n",
    ")"
   ]
  },
  {
   "cell_type": "code",
   "execution_count": null,
   "id": "a5abd131-8c79-4dec-bb2b-ec98f7a5f0e0",
   "metadata": {},
   "outputs": [],
   "source": [
    "PRICE_PROMPT_TOKENS = 0.150 / 1000000\n",
    "PRICE_COMPLETION_TOKENS = 0.600 / 1000000\n",
    "print(\"Price:\", f\"${(completion.usage.completion_tokens*PRICE_COMPLETION_TOKENS + completion.usage.prompt_tokens*PRICE_PROMPT_TOKENS):.6f}\")\n",
    "print(\"Result:\",json.dumps(completion.choices[0].message.parsed.model_dump(), indent=2))"
   ]
  },
  {
   "cell_type": "code",
   "execution_count": null,
   "id": "7c513cbe-7426-4d03-9d43-7ce107970dd3",
   "metadata": {},
   "outputs": [],
   "source": []
  }
 ],
 "metadata": {
  "kernelspec": {
   "display_name": "Python 3 (ipykernel)",
   "language": "python",
   "name": "python3"
  },
  "language_info": {
   "codemirror_mode": {
    "name": "ipython",
    "version": 3
   },
   "file_extension": ".py",
   "mimetype": "text/x-python",
   "name": "python",
   "nbconvert_exporter": "python",
   "pygments_lexer": "ipython3",
   "version": "3.12.4"
  }
 },
 "nbformat": 4,
 "nbformat_minor": 5
}
