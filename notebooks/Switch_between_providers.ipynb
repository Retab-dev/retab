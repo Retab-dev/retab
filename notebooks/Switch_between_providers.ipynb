{
 "cells": [
  {
   "cell_type": "markdown",
   "id": "846cf899-0a5e-4da8-9583-3486013d109a",
   "metadata": {},
   "source": [
    "### Setup your environnement variables"
   ]
  },
  {
   "cell_type": "code",
   "execution_count": 1,
   "id": "5462089b-8e87-4972-bd5a-fd9db6029182",
   "metadata": {},
   "outputs": [],
   "source": [
    "import os\n",
    "os.environ[\"OPENAI_API_KEY\"] = \"YOUR API KEY\"\n",
    "os.environ[\"UIFORM_API_KEY\"] = \"YOUR API KEY\" # go to https://uiform.com to create your API Key"
   ]
  },
  {
   "cell_type": "code",
   "execution_count": 1,
   "id": "1e924bcd-c992-48f7-8d68-69a5cdbf924a",
   "metadata": {},
   "outputs": [
    {
     "name": "stdout",
     "output_type": "stream",
     "text": [
      "UIFORM API KEY: sk_3ovI3g3Hq7pmBvySp3tP2OCMlZtHSNsAXfKG6VQjiDI\n"
     ]
    }
   ],
   "source": [
    "from dotenv import load_dotenv\n",
    "import os\n",
    "\n",
    "assert load_dotenv(\"../.env.local\") # Load environment variables from a .env file\n",
    "print(\"UIFORM API KEY:\",os.getenv(\"UIFORM_API_KEY\"))"
   ]
  },
  {
   "cell_type": "markdown",
   "id": "180d7898-2894-4813-8959-dac345b3ae08",
   "metadata": {},
   "source": [
    "## Load the json schema"
   ]
  },
  {
   "cell_type": "code",
   "execution_count": 2,
   "id": "2408aeaa-205b-43d9-8443-2c6766782fc3",
   "metadata": {},
   "outputs": [],
   "source": [
    "from uiform import UiForm, Schema\n",
    "from pydantic import BaseModel, Field, ConfigDict\n",
    "import os\n",
    "\n",
    "uiclient = UiForm()\n",
    "doc_msg = uiclient.documents.create_messages(\n",
    "    document = \"freight/booking_confirmation.jpg\"\n",
    ")\n",
    "\n",
    "class CalendarEvent(BaseModel):\n",
    "    model_config = ConfigDict(json_schema_extra = {\"X-SystemPrompt\": \"You are a useful assistant.\"})\n",
    "\n",
    "    name: str = Field(...,\n",
    "        description=\"The name of the calendar event.\",\n",
    "        json_schema_extra={\"X-FieldPrompt\": \"Provide a descriptive and concise name for the event.\"}\n",
    "    )\n",
    "    date: str = Field(...,\n",
    "        description=\"The date of the calendar event in ISO 8601 format.\",\n",
    "        json_schema_extra={\n",
    "            'X-ReasoningPrompt': 'The user can mention it in any format, like **next week** or **tomorrow**. Infer the right date format from the user input.',\n",
    "        }\n",
    "    )\n",
    "\n",
    "schema_obj =Schema(\n",
    "    pydantic_model = CalendarEvent\n",
    ")\n"
   ]
  },
  {
   "cell_type": "markdown",
   "id": "c42578ea-55af-4c28-9866-4886ab62033e",
   "metadata": {},
   "source": [
    "## OpenAI"
   ]
  },
  {
   "cell_type": "code",
   "execution_count": 9,
   "id": "cf95d31e-7bc0-414d-9907-44a875cea8e9",
   "metadata": {},
   "outputs": [],
   "source": [
    "from openai import OpenAI\n",
    "\n",
    "client = OpenAI()\n",
    "\n",
    "#----\n",
    "\n",
    "completion = client.chat.completions.create(\n",
    "    model=\"gpt-4o-mini\",\n",
    "    messages=doc_msg.openai_messages + [\n",
    "        {\n",
    "            \"role\": \"user\",\n",
    "            \"content\": \"Summarize the document\"\n",
    "        }\n",
    "    ]\n",
    ")\n",
    "\n",
    "# --- OR \n",
    "\n",
    "completion = client.chat.completions.create(\n",
    "    model=\"gpt-4o-mini\",\n",
    "    messages=schema_obj.openai_messages + doc_msg.openai_messages,\n",
    "    response_format={\n",
    "        \"type\": \"json_schema\",\n",
    "        \"json_schema\": {\n",
    "            \"name\": schema_obj.schema_version,\n",
    "            \"schema\": schema_obj.inference_json_schema,\n",
    "            \"strict\": True\n",
    "        }\n",
    "    }\n",
    ")\n",
    "\n",
    "# --- OR \n",
    "\n",
    "completion = client.beta.chat.completions.parse(\n",
    "    model=\"gpt-4o-mini\",\n",
    "    messages=schema_obj.openai_messages + doc_msg.openai_messages,\n",
    "    response_format=schema_obj.inference_pydantic_model\n",
    ")\n",
    "\n"
   ]
  },
  {
   "cell_type": "markdown",
   "id": "f38b1361-2635-4957-8f20-84b8dfbefd5b",
   "metadata": {},
   "source": [
    "# xAI"
   ]
  },
  {
   "cell_type": "code",
   "execution_count": 11,
   "id": "28db307c-7c99-4c44-9859-38241bcde450",
   "metadata": {},
   "outputs": [],
   "source": [
    "from openai import OpenAI\n",
    "\n",
    "client = OpenAI(\n",
    "    api_key=os.getenv(\"XAI_API_KEY\"),\n",
    "    base_url=\"https://api.x.ai/v1\"\n",
    ")\n",
    "\n",
    "#----\n",
    "\n",
    "completion = client.chat.completions.create(\n",
    "    model=\"grok-2-vision-1212\",\n",
    "    messages=doc_msg.openai_messages + [\n",
    "        {\n",
    "            \"role\": \"user\",\n",
    "            \"content\": \"Summarize the document\"\n",
    "        }\n",
    "    ]\n",
    ")\n",
    "\n",
    "# --- OR \n",
    "\n",
    "completion = client.chat.completions.create(\n",
    "    model=\"grok-2-vision-1212\",\n",
    "    messages=schema_obj.openai_messages + doc_msg.openai_messages,\n",
    "    response_format={\n",
    "        \"type\": \"json_schema\",\n",
    "        \"json_schema\": {\n",
    "            \"name\": schema_obj.schema_version,\n",
    "            \"schema\": schema_obj.inference_json_schema,\n",
    "            \"strict\": True\n",
    "        }\n",
    "    }\n",
    ")\n",
    "\n",
    "# --- OR \n",
    "\n",
    "completion = client.beta.chat.completions.parse(\n",
    "    model=\"grok-2-vision-1212\",\n",
    "    messages=schema_obj.openai_messages + doc_msg.openai_messages,\n",
    "    response_format=schema_obj.inference_pydantic_model\n",
    ")\n",
    "\n",
    "\n"
   ]
  },
  {
   "cell_type": "markdown",
   "id": "463756fd-ac2e-43c3-862b-612076703cb0",
   "metadata": {},
   "source": [
    "# Gemini"
   ]
  },
  {
   "cell_type": "code",
   "execution_count": 12,
   "id": "099126d3-0407-4bac-86bd-9715d277e0af",
   "metadata": {},
   "outputs": [],
   "source": [
    "from openai import OpenAI\n",
    "\n",
    "client = OpenAI(\n",
    "    api_key = os.getenv(\"GEMINI_API_KEY\"),\n",
    "    base_url = \"https://generativelanguage.googleapis.com/v1beta/openai/\"\n",
    ")\n",
    "\n",
    "#----\n",
    "\n",
    "completion = client.chat.completions.create(\n",
    "    model=\"gemini-1.5-flash\",\n",
    "    messages=doc_msg.openai_messages + [\n",
    "        {\n",
    "            \"role\": \"user\",\n",
    "            \"content\": \"Summarize the document\"\n",
    "        }\n",
    "    ]\n",
    ")\n",
    "\n",
    "\n",
    "# --- OR \n",
    "\n",
    "completion = client.chat.completions.create(\n",
    "    model=\"gemini-1.5-flash\",\n",
    "    messages=schema_obj.openai_messages + doc_msg.openai_messages + [\n",
    "        {\n",
    "            \"role\": \"user\",\n",
    "            \"content\": \"Extract informations from this document.\"\n",
    "        }\n",
    "    ],\n",
    "    response_format={\n",
    "        \"type\": \"json_schema\",\n",
    "        \"json_schema\": {\n",
    "            \"name\": schema_obj.schema_version,\n",
    "            \"schema\": schema_obj.inference_gemini_json_schema,\n",
    "            \"strict\": True\n",
    "        }\n",
    "    }\n",
    ")\n",
    "\n",
    "# --- Does not work with beta.chat.completions.parse !"
   ]
  },
  {
   "cell_type": "markdown",
   "id": "03acae7e-c80d-4988-ad34-b12e8602a8cc",
   "metadata": {},
   "source": [
    "# Anthropic"
   ]
  },
  {
   "cell_type": "code",
   "execution_count": 9,
   "id": "9feda97a-b500-4290-9867-70ed792e5ec7",
   "metadata": {},
   "outputs": [
    {
     "name": "stdout",
     "output_type": "stream",
     "text": [
      "{\n",
      "  \"name\": \"Dangerous Goods Delivery - Munich\",\n",
      "  \"reasoning___date\": \"The delivery is scheduled for 5/3/2023 from 10:00 to 16:00\",\n",
      "  \"date\": \"2023-05-03T10:00:00Z\"\n",
      "}\n"
     ]
    }
   ],
   "source": [
    "from anthropic import Anthropic\n",
    "\n",
    "client = Anthropic(api_key=os.getenv(\"CLAUDE_API_KEY\"))\n",
    "\n",
    "#----\n",
    "\n",
    "completion = client.messages.create(\n",
    "    model=\"claude-3-5-sonnet-20241022\",\n",
    "    max_tokens=1000,\n",
    "    temperature=0,\n",
    "    system=doc_msg.anthropic_system_prompt,\n",
    "    messages=doc_msg.anthropic_messages + [\n",
    "        {\n",
    "            \"role\": \"user\",\n",
    "            \"content\": \"Summarize this Document\"\n",
    "        }\n",
    "    ]\n",
    ")\n",
    "\n",
    "# --- OR \n",
    "\n",
    "# Using Anthropic's JSON mode\n",
    "completion = client.messages.create(\n",
    "    model=\"claude-3-5-sonnet-20241022\",\n",
    "    max_tokens=1000,\n",
    "    temperature=0,\n",
    "    system=schema_obj.anthropic_system_prompt + doc_msg.anthropic_system_prompt,\n",
    "    messages=schema_obj.anthropic_messages + doc_msg.anthropic_messages\n",
    ")\n",
    "\n",
    "from anthropic.types.text_block import TextBlock\n",
    "assert isinstance(completion.content[0], TextBlock)\n",
    "print(completion.content[0].text)\n"
   ]
  }
 ],
 "metadata": {
  "kernelspec": {
   "display_name": "Python 3 (ipykernel)",
   "language": "python",
   "name": "python3"
  },
  "language_info": {
   "codemirror_mode": {
    "name": "ipython",
    "version": 3
   },
   "file_extension": ".py",
   "mimetype": "text/x-python",
   "name": "python",
   "nbconvert_exporter": "python",
   "pygments_lexer": "ipython3",
   "version": "3.12.4"
  }
 },
 "nbformat": 4,
 "nbformat_minor": 5
}
