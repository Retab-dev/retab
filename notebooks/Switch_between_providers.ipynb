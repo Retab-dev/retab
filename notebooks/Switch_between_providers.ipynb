{
 "cells": [
  {
   "cell_type": "markdown",
   "id": "846cf899-0a5e-4da8-9583-3486013d109a",
   "metadata": {},
   "source": [
    "### Setup your environnement variables"
   ]
  },
  {
   "cell_type": "code",
   "execution_count": 1,
   "id": "5462089b-8e87-4972-bd5a-fd9db6029182",
   "metadata": {},
   "outputs": [],
   "source": [
    "import os\n",
    "os.environ[\"OPENAI_API_KEY\"] = \"YOUR API KEY\"\n",
    "os.environ[\"UIFORM_API_KEY\"] = \"YOUR API KEY\" # go to https://uiform.com to create your API Key"
   ]
  },
  {
   "cell_type": "code",
   "execution_count": 1,
   "id": "1e924bcd-c992-48f7-8d68-69a5cdbf924a",
   "metadata": {},
   "outputs": [],
   "source": [
    "from dotenv import load_dotenv\n",
    "assert load_dotenv(\"../.env.local\") # Load environment variables from a .env file"
   ]
  },
  {
   "cell_type": "code",
   "execution_count": 3,
   "id": "9fe3b72b-e024-442b-a2ee-3035a72085db",
   "metadata": {},
   "outputs": [
    {
     "data": {
      "text/plain": [
       "'sk_3ovI3g3Hq7pmBvySp3tP2OCMlZtHSNsAXfKG6VQjiDI'"
      ]
     },
     "execution_count": 3,
     "metadata": {},
     "output_type": "execute_result"
    }
   ],
   "source": [
    "import os\n",
    "os.getenv(\"UIFORM_API_KEY\")"
   ]
  },
  {
   "cell_type": "code",
   "execution_count": 25,
   "id": "2408aeaa-205b-43d9-8443-2c6766782fc3",
   "metadata": {},
   "outputs": [],
   "source": [
    "from uiform import UiForm, Schema\n",
    "from pydantic import BaseModel, Field, ConfigDict\n",
    "import os\n",
    "\n",
    "uiclient = UiForm()\n",
    "doc_msg = uiclient.documents.create_messages(\n",
    "    document = \"freight/booking_confirmation.jpg\"\n",
    ")\n",
    "\n",
    "class CalendarEvent(BaseModel):\n",
    "    model_config = ConfigDict(json_schema_extra = {\"X-SystemPrompt\": \"You are a useful assistant.\"})\n",
    "\n",
    "    name: str = Field(...,\n",
    "        description=\"The name of the calendar event.\",\n",
    "        json_schema_extra={\"X-FieldPrompt\": \"Provide a descriptive and concise name for the event.\"}\n",
    "    )\n",
    "    date: str = Field(...,\n",
    "        description=\"The date of the calendar event in ISO 8601 format.\",\n",
    "        json_schema_extra={\n",
    "            'X-ReasoningPrompt': 'The user can mention it in any format, like **next week** or **tomorrow**. Infer the right date format from the user input.',\n",
    "        }\n",
    "    )\n",
    "\n",
    "schema_obj =Schema(\n",
    "    pydantic_model = CalendarEvent\n",
    ")\n"
   ]
  },
  {
   "cell_type": "markdown",
   "id": "c42578ea-55af-4c28-9866-4886ab62033e",
   "metadata": {},
   "source": [
    "## OpenAI"
   ]
  },
  {
   "cell_type": "code",
   "execution_count": 9,
   "id": "cf95d31e-7bc0-414d-9907-44a875cea8e9",
   "metadata": {},
   "outputs": [],
   "source": [
    "from openai import OpenAI\n",
    "\n",
    "client = OpenAI()\n",
    "\n",
    "#----\n",
    "\n",
    "completion = client.chat.completions.create(\n",
    "    model=\"gpt-4o-mini\",\n",
    "    messages=doc_msg.openai_messages + [\n",
    "        {\n",
    "            \"role\": \"user\",\n",
    "            \"content\": \"Summarize the document\"\n",
    "        }\n",
    "    ]\n",
    ")\n",
    "\n",
    "# --- OR \n",
    "\n",
    "completion = client.chat.completions.create(\n",
    "    model=\"gpt-4o-mini\",\n",
    "    messages=schema_obj.openai_messages + doc_msg.openai_messages,\n",
    "    response_format={\n",
    "        \"type\": \"json_schema\",\n",
    "        \"json_schema\": {\n",
    "            \"name\": schema_obj.schema_version,\n",
    "            \"schema\": schema_obj.inference_json_schema,\n",
    "            \"strict\": True\n",
    "        }\n",
    "    }\n",
    ")\n",
    "\n",
    "# --- OR \n",
    "\n",
    "completion = client.beta.chat.completions.parse(\n",
    "    model=\"gpt-4o-mini\",\n",
    "    messages=schema_obj.openai_messages + doc_msg.openai_messages,\n",
    "    response_format=schema_obj.inference_pydantic_model\n",
    ")\n",
    "\n"
   ]
  },
  {
   "cell_type": "markdown",
   "id": "f38b1361-2635-4957-8f20-84b8dfbefd5b",
   "metadata": {},
   "source": [
    "# xAI"
   ]
  },
  {
   "cell_type": "code",
   "execution_count": 11,
   "id": "28db307c-7c99-4c44-9859-38241bcde450",
   "metadata": {},
   "outputs": [],
   "source": [
    "from openai import OpenAI\n",
    "\n",
    "client = OpenAI(\n",
    "    api_key=os.getenv(\"XAI_API_KEY\"),\n",
    "    base_url=\"https://api.x.ai/v1\"\n",
    ")\n",
    "\n",
    "#----\n",
    "\n",
    "completion = client.chat.completions.create(\n",
    "    model=\"grok-2-vision-1212\",\n",
    "    messages=doc_msg.openai_messages + [\n",
    "        {\n",
    "            \"role\": \"user\",\n",
    "            \"content\": \"Summarize the document\"\n",
    "        }\n",
    "    ]\n",
    ")\n",
    "\n",
    "# --- OR \n",
    "\n",
    "completion = client.chat.completions.create(\n",
    "    model=\"grok-2-vision-1212\",\n",
    "    messages=schema_obj.openai_messages + doc_msg.openai_messages,\n",
    "    response_format={\n",
    "        \"type\": \"json_schema\",\n",
    "        \"json_schema\": {\n",
    "            \"name\": schema_obj.schema_version,\n",
    "            \"schema\": schema_obj.inference_json_schema,\n",
    "            \"strict\": True\n",
    "        }\n",
    "    }\n",
    ")\n",
    "\n",
    "# --- OR \n",
    "\n",
    "completion = client.beta.chat.completions.parse(\n",
    "    model=\"grok-2-vision-1212\",\n",
    "    messages=schema_obj.openai_messages + doc_msg.openai_messages,\n",
    "    response_format=schema_obj.inference_pydantic_model\n",
    ")\n",
    "\n",
    "\n"
   ]
  },
  {
   "cell_type": "markdown",
   "id": "463756fd-ac2e-43c3-862b-612076703cb0",
   "metadata": {},
   "source": [
    "# Gemini"
   ]
  },
  {
   "cell_type": "code",
   "execution_count": 12,
   "id": "099126d3-0407-4bac-86bd-9715d277e0af",
   "metadata": {},
   "outputs": [],
   "source": [
    "from openai import OpenAI\n",
    "\n",
    "client = OpenAI(\n",
    "    api_key = os.getenv(\"GEMINI_API_KEY\"),\n",
    "    base_url = \"https://generativelanguage.googleapis.com/v1beta/openai/\"\n",
    ")\n",
    "\n",
    "#----\n",
    "\n",
    "completion = client.chat.completions.create(\n",
    "    model=\"gemini-1.5-flash\",\n",
    "    messages=doc_msg.openai_messages + [\n",
    "        {\n",
    "            \"role\": \"user\",\n",
    "            \"content\": \"Summarize the document\"\n",
    "        }\n",
    "    ]\n",
    ")\n",
    "\n",
    "\n",
    "# --- OR \n",
    "\n",
    "completion = client.chat.completions.create(\n",
    "    model=\"gemini-1.5-flash\",\n",
    "    messages=schema_obj.openai_messages + doc_msg.openai_messages + [\n",
    "        {\n",
    "            \"role\": \"user\",\n",
    "            \"content\": \"Extract informations from this document.\"\n",
    "        }\n",
    "    ],\n",
    "    response_format={\n",
    "        \"type\": \"json_schema\",\n",
    "        \"json_schema\": {\n",
    "            \"name\": schema_obj.schema_version,\n",
    "            \"schema\": schema_obj.inference_gemini_json_schema,\n",
    "            \"strict\": True\n",
    "        }\n",
    "    }\n",
    ")\n",
    "\n",
    "# --- Does not work with beta.chat.completions.parse !"
   ]
  },
  {
   "cell_type": "markdown",
   "id": "03acae7e-c80d-4988-ad34-b12e8602a8cc",
   "metadata": {},
   "source": [
    "# Anthropic"
   ]
  },
  {
   "cell_type": "code",
   "execution_count": 9,
   "id": "61abff48-3bd6-4565-b529-9a95ae0034cc",
   "metadata": {},
   "outputs": [],
   "source": [
    "from anthropic import Anthropic\n",
    "\n",
    "client = Anthropic(api_key=os.getenv(\"CLAUDE_API_KEY\"))"
   ]
  },
  {
   "cell_type": "code",
   "execution_count": 27,
   "id": "9feda97a-b500-4290-9867-70ed792e5ec7",
   "metadata": {},
   "outputs": [
    {
     "name": "stdout",
     "output_type": "stream",
     "text": [
      "{'id': 'msg_0114HR8sPeHAEedhVLrfakzT', 'content': [{'text': \"This is a French freight confirmation document (Confirmation d'affrétement) between ACME Corporation and TRANSPORT EXPRESS for a shipping order. Here are the key details:\\n\\n1. Shipping Reference Numbers:\\n- Order #: SHIP-001\\n- Client Ref: BC-67890\\n\\n2. Parties Involved:\\n- Shipper: ACME Corporation (London, UK)\\n- Carrier: TRANSPORT EXPRESS (Paris, France)\\n- Delivery to: Beta Industries (Munich, Germany)\\n\\n3. Cargo Details:\\n- Weight: 500T\\n- 5 Pallets, 10 Units\\n- Volume: 1.44 M3\\n- Temperature requirement: 5°C - 25°C (Cool)\\n- Dangerous goods: UN1202 Class 3 - Flammable liquid\\n\\n4. Timeline:\\n- Pickup: 5/2/2023 (8:00-12:00)\\n- Delivery: 5/3/2023 (10:00-16:00)\\n\\n5. Price: 1500 EUR (excluding VAT), including fuel costs\\n\\n6. Special Conditions:\\n- Carrier must have specific insurance for sensitive goods\\n- Must follow security protocols\\n- Must handle customs documentation properly\\n- Must report any incidents immediately\\n- Pallets must be exchanged at loading or returned within 8 days\\n\\nThe document includes various legal requirements and obligations for the transport company regarding social charges, posted workers regulations, and cabotage rules.\", 'type': 'text'}], 'model': 'claude-3-5-sonnet-20241022', 'role': 'assistant', 'stop_reason': 'end_turn', 'stop_sequence': None, 'type': 'message', 'usage': {'input_tokens': 1494, 'output_tokens': 341, 'cache_creation_input_tokens': 0, 'cache_read_input_tokens': 0}}\n"
     ]
    }
   ],
   "source": [
    "from anthropic import Anthropic\n",
    "\n",
    "message = client.messages.create(\n",
    "    model=\"claude-3-5-sonnet-20241022\",\n",
    "    max_tokens=1000,\n",
    "    temperature=0,\n",
    "    system = doc_msg.anthropic_system_prompt\n",
    "    messages=doc_msg.anthropic_messages + [\n",
    "        {\n",
    "            \"role\": \"user\",\n",
    "            \"content\": \"Summarize this Document\"\n",
    "        }\n",
    "    ],\n",
    ")\n",
    "print(message.model_dump())"
   ]
  },
  {
   "cell_type": "code",
   "execution_count": 18,
   "id": "43cf33e5-2d47-47cc-a665-c68ab14f526d",
   "metadata": {},
   "outputs": [
    {
     "data": {
      "text/plain": [
       "2"
      ]
     },
     "execution_count": 18,
     "metadata": {},
     "output_type": "execute_result"
    }
   ],
   "source": [
    "len(doc_msg.anthropic_messages[0]['content'][0])"
   ]
  }
 ],
 "metadata": {
  "kernelspec": {
   "display_name": "Python 3 (ipykernel)",
   "language": "python",
   "name": "python3"
  },
  "language_info": {
   "codemirror_mode": {
    "name": "ipython",
    "version": 3
   },
   "file_extension": ".py",
   "mimetype": "text/x-python",
   "name": "python",
   "nbconvert_exporter": "python",
   "pygments_lexer": "ipython3",
   "version": "3.12.4"
  }
 },
 "nbformat": 4,
 "nbformat_minor": 5
}
