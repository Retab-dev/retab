{
 "cells": [
  {
   "cell_type": "markdown",
   "id": "b6ba6a64-b71f-431b-8ad3-b84a3ea9e4c4",
   "metadata": {},
   "source": [
    "# Step 0 - Setup your environnement variables"
   ]
  },
  {
   "cell_type": "code",
   "execution_count": 1,
   "id": "73bddae7-cca3-4e6e-bf41-fe6f2801eaf9",
   "metadata": {},
   "outputs": [],
   "source": [
    "import os\n",
    "\n",
    "os.environ[\"OPENAI_API_KEY\"] = \"YOUR API KEY\"\n",
    "os.environ[\"UIFORM_API_KEY\"] = \"YOUR API KEY\""
   ]
  },
  {
   "cell_type": "markdown",
   "id": "9662b99b-cce6-4ecb-8df6-dfaf889bf72d",
   "metadata": {},
   "source": [
    "# Option 1 - Create a data structure from some examples"
   ]
  },
  {
   "cell_type": "code",
   "execution_count": 44,
   "id": "ed8cfbc5-8dd8-4846-8469-ff53e7c9914b",
   "metadata": {},
   "outputs": [],
   "source": [
    "from uiform.client import UiForm\n",
    "\n",
    "client = UiForm()\n",
    "\n",
    "documents = ['visa/visa_a_miller.png','visa/visa_g_raymond.webp','visa/visa_m_demonceaux.webp']\n",
    "\n",
    "generation_response = client.schemas.generate(\n",
    "    documents=documents,\n",
    "    model=\"gpt-4o-2024-11-20\", \n",
    "    temperature=0\n",
    ")\n",
    "\n",
    "with open(\"visa/visa_schema_generated.json\", \"w\") as f:\n",
    "    json.dump(generation_response.json_schema, f, indent=2)"
   ]
  },
  {
   "cell_type": "markdown",
   "id": "cc5b15b2-dbd0-4fc2-912e-b64457df8271",
   "metadata": {},
   "source": [
    "# Option 2 - Enhance an existing data structure from some examples"
   ]
  },
  {
   "cell_type": "code",
   "execution_count": 51,
   "id": "8df6e77f-3c13-49ad-ae28-3067a166d198",
   "metadata": {},
   "outputs": [],
   "source": [
    "from pydantic import BaseModel, Field\n",
    "from typing import Optional\n",
    "from datetime import date\n",
    "from uiform.client import UiForm\n",
    "\n",
    "client = UiForm()\n",
    "\n",
    "class CreditCardInfo(BaseModel):\n",
    "    card_number: str \n",
    "    card_type: str\n",
    "    cardholder_name: str\n",
    "    expiration_date: str \n",
    "    card_network: str \n",
    "    additional_info: Optional[str]\n",
    "\n",
    "promptify_response = client.schemas.promptify(\n",
    "    raw_json_schema=CreditCardInfo.model_json_schema(), \n",
    "    documents=documents\n",
    ")\n",
    "\n",
    "with open(\"visa/visa_schema_promptified.json\", \"w\") as f:\n",
    "    json.dump(promptify_response.json_schema, f, indent=2)\n"
   ]
  },
  {
   "cell_type": "markdown",
   "id": "40098db2-43c6-43f1-ac0b-400f1c599922",
   "metadata": {},
   "source": [
    "# 3 - Extract informations from your documents"
   ]
  },
  {
   "cell_type": "code",
   "execution_count": 52,
   "id": "4d83f665-2223-421b-8f56-f2d8ea37078c",
   "metadata": {},
   "outputs": [],
   "source": [
    "import json\n",
    "from uiform.client import UiForm\n",
    "\n",
    "with open(\"visa/visa_schema_promptified.json\", \"r\") as f:\n",
    "    json_schema = json.load(f)\n",
    "\n",
    "document = \"visa/visa_a_miller.png\"\n",
    "\n",
    "client = UiForm()\n",
    "response = client.documents.extract(\n",
    "    json_schema = json_schema,\n",
    "    document = document,\n",
    "    model=\"gpt-4o-mini-2024-07-18\",\n",
    "    temperature=0\n",
    ")"
   ]
  },
  {
   "cell_type": "code",
   "execution_count": 55,
   "id": "61c1d763-4648-41f9-ab3e-c966aa41f40c",
   "metadata": {},
   "outputs": [
    {
     "name": "stdout",
     "output_type": "stream",
     "text": [
      "{\n",
      "  \"id\": \"64baa15f-803e-4583-8ed5-2bbf4f3ea13f\",\n",
      "  \"model\": \"gpt-4o-mini-2024-07-18\",\n",
      "  \"seed\": null,\n",
      "  \"temperature\": 0.0,\n",
      "  \"document\": {\n",
      "    \"id\": \"6d44400f962ffe7ea550db3892b84590fc764a9002ecdb4ad61481d42ed88b6a\",\n",
      "    \"name\": \"visa_a_miller.png\",\n",
      "    \"size\": 216564,\n",
      "    \"mime_type\": \"image/png\"\n",
      "  },\n",
      "  \"extraction\": {\n",
      "    \"card_number\": \"4000123456789010\",\n",
      "    \"card_type\": \"Credit\",\n",
      "    \"cardholder_name\": \"A. MILLER\",\n",
      "    \"expiration_date\": \"12/20\",\n",
      "    \"card_network\": \"Visa\",\n",
      "    \"additional_info\": null\n",
      "  },\n",
      "  \"likelihoods\": {\n",
      "    \"card_number\": 0.9626727773451229,\n",
      "    \"card_type\": 0.9998316352049432,\n",
      "    \"cardholder_name\": 0.9889269278230699,\n",
      "    \"expiration_date\": 0.9999998063873687,\n",
      "    \"card_network\": 0.9988304590467317,\n",
      "    \"additional_info\": 0.9999996871837189\n",
      "  },\n",
      "  \"regex_instruction_results\": null,\n",
      "  \"additional_context_message\": \"\",\n",
      "  \"usage\": {\n",
      "    \"model\": \"gpt-4o-mini-2024-07-18\",\n",
      "    \"input_tokens\": 877,\n",
      "    \"output_tokens\": 43,\n",
      "    \"cost\": 0.00015735\n",
      "  },\n",
      "  \"modality\": \"native\",\n",
      "  \"ws_identifier\": null\n",
      "}\n"
     ]
    }
   ],
   "source": [
    "print(json.dumps(response.model_dump(),indent=2))"
   ]
  }
 ],
 "metadata": {
  "kernelspec": {
   "display_name": "Python 3 (ipykernel)",
   "language": "python",
   "name": "python3"
  },
  "language_info": {
   "codemirror_mode": {
    "name": "ipython",
    "version": 3
   },
   "file_extension": ".py",
   "mimetype": "text/x-python",
   "name": "python",
   "nbconvert_exporter": "python",
   "pygments_lexer": "ipython3",
   "version": "3.12.4"
  }
 },
 "nbformat": 4,
 "nbformat_minor": 5
}
