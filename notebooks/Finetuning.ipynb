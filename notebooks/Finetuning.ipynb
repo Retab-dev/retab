{
 "cells": [
  {
   "cell_type": "markdown",
   "id": "99654e76-636f-4325-9863-67eab43ed050",
   "metadata": {},
   "source": [
    "# Step 0 - Setup your environnement variables"
   ]
  },
  {
   "cell_type": "code",
   "execution_count": 1,
   "id": "fbdc0a8f-0d4a-4868-a1a2-4094ad9a6507",
   "metadata": {},
   "outputs": [],
   "source": [
    "import os\n",
    "\n",
    "os.environ[\"OPENAI_API_KEY\"] = \"YOUR API KEY\"\n",
    "os.environ[\"UIFORM_API_KEY\"] = \"YOUR API KEY\""
   ]
  },
  {
   "cell_type": "markdown",
   "id": "a2ac57a2-b091-45e6-af8c-dd53119812a6",
   "metadata": {},
   "source": [
    "# Step 1 - Annotate your Dataset"
   ]
  },
  {
   "cell_type": "code",
   "execution_count": 1,
   "id": "f7278de9-d433-41c8-8b17-8728362f18fc",
   "metadata": {},
   "outputs": [],
   "source": [
    "json_schema_file_path = \"example_schema.json\"\n",
    "\n",
    "with open(json_schema_file_path, 'r') as f:\n",
    "    json_schema = json.load(f)\n",
    "\n",
    "from uiform import UiForm\n",
    "\n",
    "client = UiForm()\n",
    "documents = [\"example_1.pdf\",\"example_2.jpg\", \"example_3.docx\"]\n",
    "jsonl_path = 'training_set.jsonl'\n",
    "\n",
    "client.datasets.annotate(json_schema=json_schema, \n",
    "                         documents=documents, \n",
    "                         jsonl_path=jsonl_path,\n",
    "                         model=\"gpt-4o-2024-11-20\", \n",
    "                         temperature=0, \n",
    "                         #modality=\"text\"\n",
    ")\n"
   ]
  },
  {
   "cell_type": "markdown",
   "id": "54e5a2b8-af8a-4ef6-a981-7147e2de476b",
   "metadata": {},
   "source": [
    "# Step 2 - Finetuning with UiForm API"
   ]
  },
  {
   "cell_type": "code",
   "execution_count": 1,
   "id": "a708a3c7-e0a0-4b41-9170-9eca994d30cd",
   "metadata": {
    "scrolled": true
   },
   "outputs": [
    {
     "data": {
      "text/plain": [
       "FineTuningJob(id='ftjob-5XAy4eKgnQpp6s64VHDowZTc', created_at=1735853507, error=Error(code=None, message=None, param=None), fine_tuned_model=None, finished_at=None, hyperparameters=Hyperparameters(n_epochs='auto', batch_size='auto', learning_rate_multiplier='auto'), model='gpt-4o-mini-2024-07-18', object='fine_tuning.job', organization_id='org-fdJ7K6lLzMbBaUdoSutwKQLt', result_files=[], seed=1427207609, status='validating_files', trained_tokens=None, training_file='file-YKsUR65rWjUVyFqTLkFQwB', validation_file=None, estimated_finish=None, integrations=[], user_provided_suffix=None, method={'type': 'supervised', 'supervised': {'hyperparameters': {'n_epochs': 'auto', 'batch_size': 'auto', 'learning_rate_multiplier': 'auto'}}})"
      ]
     },
     "execution_count": 1,
     "metadata": {},
     "output_type": "execute_result"
    }
   ],
   "source": [
    "from uiform.client import UiForm\n",
    "import os\n",
    "\n",
    "jsonl_file_path = \"training_set.jsonl\"\n",
    "\n",
    "client = UiForm()\n",
    "\n",
    "with open(jsonl_file_path, \"rb\") as file:\n",
    "    file_object = client.files.create(\n",
    "        file=file,\n",
    "        purpose=\"fine-tune\"\n",
    "    )\n",
    "\n",
    "distillation_job = client.fine_tuning.jobs.create(\n",
    "    training_file=file_object.id,\n",
    "    model=\"gpt-4o-mini-2024-07-18\"\n",
    ")\n",
    "\n",
    "# Eventually, retrieve the state of a fine-tune\n",
    "client.fine_tuning.jobs.retrieve(distillation_job.id)\n"
   ]
  }
 ],
 "metadata": {
  "kernelspec": {
   "display_name": "Python 3 (ipykernel)",
   "language": "python",
   "name": "python3"
  },
  "language_info": {
   "codemirror_mode": {
    "name": "ipython",
    "version": 3
   },
   "file_extension": ".py",
   "mimetype": "text/x-python",
   "name": "python",
   "nbconvert_exporter": "python",
   "pygments_lexer": "ipython3",
   "version": "3.12.4"
  }
 },
 "nbformat": 4,
 "nbformat_minor": 5
}
