{
 "cells": [
  {
   "cell_type": "markdown",
   "id": "e1b951a4-9ae1-48f6-8312-cdb24390d159",
   "metadata": {},
   "source": [
    "### Setup your environnement variables"
   ]
  },
  {
   "cell_type": "code",
   "execution_count": 5,
   "id": "44b1efd0-7fc5-4d28-a125-0c679aa47c07",
   "metadata": {},
   "outputs": [],
   "source": [
    "import os\n",
    "\n",
    "os.environ[\"OPENAI_API_KEY\"] = \"YOUR API KEY\"\n",
    "os.environ[\"UIFORM_API_KEY\"] = \"YOUR API KEY\" # go to https://uiform.com to create your API Key"
   ]
  },
  {
   "cell_type": "markdown",
   "id": "56461b9f-d82d-4174-8b3c-88798d7da848",
   "metadata": {},
   "source": [
    "# Get started"
   ]
  },
  {
   "cell_type": "code",
   "execution_count": 6,
   "id": "26c38e85-391d-40db-a301-b8d2086d88c6",
   "metadata": {},
   "outputs": [],
   "source": [
    "from dotenv import load_dotenv\n",
    "assert load_dotenv(override=True) # Load environment variables from a .env file"
   ]
  },
  {
   "cell_type": "code",
   "execution_count": 7,
   "id": "cc236f92-87f8-4c65-851f-e1330008f43a",
   "metadata": {},
   "outputs": [
    {
     "data": {
      "text/plain": [
       "['claude-3-5-sonnet-latest',\n",
       " 'claude-3-5-sonnet-20241022',\n",
       " 'claude-3-opus-20240229',\n",
       " 'claude-3-sonnet-20240229',\n",
       " 'claude-3-haiku-20240307',\n",
       " 'gpt-4o',\n",
       " 'gpt-4o-mini',\n",
       " 'chatgpt-4o-latest',\n",
       " 'gpt-4o-2024-11-20',\n",
       " 'gpt-4o-2024-08-06',\n",
       " 'gpt-4o-2024-05-13',\n",
       " 'gpt-4o-mini-2024-07-18',\n",
       " 'o1-2024-12-17',\n",
       " 'o1-mini-2024-09-12',\n",
       " 'grok-2-vision-1212',\n",
       " 'grok-2-1212',\n",
       " 'gemini-2.0-flash-exp',\n",
       " 'gemini-1.5-flash-8b',\n",
       " 'gemini-1.5-flash',\n",
       " 'gemini-1.5-pro']"
      ]
     },
     "execution_count": 7,
     "metadata": {},
     "output_type": "execute_result"
    }
   ],
   "source": [
    "from uiform import AsyncUiForm\n",
    "uiclient = AsyncUiForm()\n",
    "await uiclient.models.list()"
   ]
  },
  {
   "cell_type": "markdown",
   "id": "48beff48-f03e-47fa-b248-a5e40558989b",
   "metadata": {},
   "source": [
    "# Example 1 - Analyze informations from an email"
   ]
  },
  {
   "cell_type": "markdown",
   "id": "8f1e206e-c04e-4a0b-88e2-235cf3ec2047",
   "metadata": {},
   "source": [
    "#### Option A - You use our preprocess endpoint and openAI client"
   ]
  },
  {
   "cell_type": "code",
   "execution_count": 8,
   "id": "acd69f9e-ac82-4122-8b3b-23ebfdcd69c9",
   "metadata": {},
   "outputs": [
    {
     "name": "stdout",
     "output_type": "stream",
     "text": [
      "booking_id='SHIP-001' payment=TransportPriceData(total_price=1500.0, currency='EUR') client=ClientData(company_name='ACME Corporation', VAT_number='GB123456789', city='London', postal_code='WC2N 5DU', country='GB', code=None, email='client@acme.com') shipments=[ShipmentData(shipment_id='SHIP-001', sender=SenderData(company_name='ACME Corporation', address=AddressDataSimple(city='London', postal_code='WC2N 5DU', country='GB', line1='123 Elm Street', line2='Suite 500'), phone_number='+44 20 7946 0958', email_address='client@acme.com', pickup_datetime=PickupDatetimeData(date='2023-02-05', start_time='08:00:00', end_time='12:00:00'), observations='Standard loading procedures apply.'), recipient=RecipientData(company_name='Beta Industries', address=AddressDataSimple(city='Munich', postal_code='80331', country='DE', line1='789 Pine Street', line2=None), phone_number='+49 89 123456', email_address=None, delivery_datetime=DeliveryDatetimeData(date='2023-03-05', start_time='10:00:00', end_time='16:00:00'), observations='Standard unloading procedures apply.'), goods=GoodsData(packing=PackingData(units=10, packing_type='pallet', supplementary_parcels=0, pallets_on_ground=10.0, number_eur_pallet=0, observation='Goods require flammable materials handling.'), dimensions=DimensionsData(loading_meters=10.0, volume=1.44), weight=750.0, temperature_infos=TemperatureInfosData(min_temperature=5.0, max_temperature=25.0, category='Fresh'), dangerous_goods_infos=[DangerousGoodsInfoData(weight=750.0, UN_code=1203, UN_label='Flammable liquid', UN_class='3', UN_packing_group='II', ADR_tunnel_code=None)]), transport_constraints=TruckData(vehicle_type='Carrier', body_type='Tautliner', tail_lift=False, crane=False))]\n"
     ]
    }
   ],
   "source": [
    "import json\n",
    "from uiform import AsyncUiForm, Schema\n",
    "from openai import AsyncOpenAI\n",
    "\n",
    "with open(\"freight/schema.json\", \"r\") as f:\n",
    "    json_schema = json.load(f)\n",
    "\n",
    "\n",
    "uiclient = AsyncUiForm()\n",
    "doc_msg = await uiclient.documents.create_messages(\n",
    "    document = \"freight/booking_confirmation.jpg\",\n",
    ")\n",
    "\n",
    "schema_obj = Schema(\n",
    "    json_schema = json_schema\n",
    ")\n",
    "\n",
    "\n",
    "# Now you can use your favorite model to analyze your document\n",
    "client = AsyncOpenAI()\n",
    "client.beta.chat.completions.stream\n",
    "completion = await client.chat.completions.create(\n",
    "    model=\"gpt-4o-mini\", \n",
    "    messages=schema_obj.openai_messages + doc_msg.openai_messages,\n",
    "    response_format={\n",
    "        \"type\": \"json_schema\",\n",
    "        \"json_schema\": {\n",
    "            \"name\": schema_obj.schema_version,\n",
    "            \"schema\": schema_obj.inference_json_schema,\n",
    "            \"strict\": True\n",
    "        }\n",
    "    }\n",
    ")\n",
    "\n",
    "# Validate the response against the original schema if you want to remove the reasoning fields\n",
    "assert completion.choices[0].message.content is not None\n",
    "extraction = schema_obj.pydantic_model.model_validate_json(\n",
    "    completion.choices[0].message.content\n",
    ")\n",
    "\n",
    "print(extraction)"
   ]
  },
  {
   "cell_type": "markdown",
   "id": "56177728-8447-4dc8-a64a-108924e39688",
   "metadata": {},
   "source": [
    "#### Option B - Using UiForm `extractions.parse` endpoint"
   ]
  },
  {
   "cell_type": "code",
   "execution_count": 9,
   "id": "9cc3ae43-a24d-433e-8c24-465797becc8a",
   "metadata": {},
   "outputs": [
    {
     "name": "stdout",
     "output_type": "stream",
     "text": [
      "booking_id='SHIP-001' payment=TransportPriceData(total_price=1500.0, currency='EUR') client=ClientData(company_name='ACME Corporation', VAT_number='GB123456789', city='London', postal_code='WC2N 5DU', country='GB', code='SHIP-001', email='client@acme.com') shipments=[ShipmentData(shipment_id='SHIP-001', sender=SenderData(company_name='ACME Corporation', address=AddressDataSimple(city='London', postal_code='WC2N 5DU', country='GB', line1='123 Elm Street', line2='Suite 500'), phone_number='+44 20 7946 0958', email_address='client@acme.com', pickup_datetime=PickupDatetimeData(date='2023-02-05', start_time='08:00:00', end_time='12:00:00'), observations=None), recipient=RecipientData(company_name='Beta Industries', address=AddressDataSimple(city='Munich', postal_code='80331', country='DE', line1='789 Pine Street', line2=None), phone_number='+49 89 123456', email_address=None, delivery_datetime=DeliveryDatetimeData(date='2023-03-05', start_time='10:00:00', end_time='16:00:00'), observations=None), goods=GoodsData(packing=PackingData(units=10, packing_type='pallet', supplementary_parcels=None, pallets_on_ground=10.0, number_eur_pallet=0, observation='10 pallets of liquid flammable goods.'), dimensions=DimensionsData(loading_meters=1.44, volume=1.44), weight=500.0, temperature_infos=TemperatureInfosData(min_temperature=5.0, max_temperature=25.0, category='Fresh'), dangerous_goods_infos=[DangerousGoodsInfoData(weight=500.0, UN_code=1202, UN_label='Liquid flammable', UN_class='3', UN_packing_group='II', ADR_tunnel_code='-')]), transport_constraints=TruckData(vehicle_type='Carrier', body_type='Refrigerated', tail_lift=False, crane=False))]\n"
     ]
    }
   ],
   "source": [
    "import json\n",
    "from uiform.client import AsyncUiForm\n",
    "\n",
    "uiclient = AsyncUiForm()\n",
    "completion = await uiclient.documents.extractions.parse(\n",
    "    json_schema = \"freight/schema.json\",\n",
    "    document = \"freight/booking_confirmation.jpg\",\n",
    "    model=\"gpt-4o-mini\",\n",
    "    temperature=0\n",
    ")\n",
    "\n",
    "print(completion.choices[0].message.parsed)"
   ]
  },
  {
   "cell_type": "markdown",
   "id": "a209ee03",
   "metadata": {},
   "source": [
    "#### Option C - Using UiForm `extractions.stream` endpoint"
   ]
  },
  {
   "cell_type": "code",
   "execution_count": 10,
   "id": "d05f0781",
   "metadata": {},
   "outputs": [
    {
     "data": {
      "text/plain": [
       "{'booking_id': 'SHIP-001',\n",
       " 'payment': {'total_price': 1500.0, 'currency': 'EUR'},\n",
       " 'client': {'company_name': 'ACME Corporation',\n",
       "  'VAT_number': 'GB123456789',\n",
       "  'city': 'London',\n",
       "  'postal_code': 'WC2N 5DU',\n",
       "  'country': 'GB',\n",
       "  'code': 'SHIP-001',\n",
       "  'email': 'client@acme.com'},\n",
       " 'shipments': [{'shipment_id': 'SHIP-001',\n",
       "   'sender': {'company_name': 'ACME Corporation',\n",
       "    'address': {'city': 'London',\n",
       "     'postal_code': 'WC2N 5DU',\n",
       "     'country': 'GB',\n",
       "     'line1': '123 Elm Street',\n",
       "     'line2': 'Suite 500'},\n",
       "    'phone_number': '+44 20 7946 0958',\n",
       "    'email_address': 'client@acme.com',\n",
       "    'pickup_datetime': {'date': '2023-02-05',\n",
       "     'start_time': '08:00:00',\n",
       "     'end_time': '12:00:00'},\n",
       "    'observations': None},\n",
       "   'recipient': {'company_name': 'Beta Industries',\n",
       "    'address': {'city': 'Munich',\n",
       "     'postal_code': '80331',\n",
       "     'country': 'DE',\n",
       "     'line1': '789 Pine Street',\n",
       "     'line2': None},\n",
       "    'phone_number': '+49 89 123456',\n",
       "    'email_address': None,\n",
       "    'delivery_datetime': {'date': '2023-03-05',\n",
       "     'start_time': '10:00:00',\n",
       "     'end_time': '16:00:00'},\n",
       "    'observations': None},\n",
       "   'goods': {'packing': {'units': 10,\n",
       "     'packing_type': 'pallet',\n",
       "     'supplementary_parcels': None,\n",
       "     'pallets_on_ground': 10.0,\n",
       "     'number_eur_pallet': 0,\n",
       "     'observation': None},\n",
       "    'dimensions': {'loading_meters': 1.44, 'volume': 1.44},\n",
       "    'weight': 400.0,\n",
       "    'temperature_infos': {'min_temperature': 5.0,\n",
       "     'max_temperature': 25.0,\n",
       "     'category': 'Fresh'},\n",
       "    'dangerous_goods_infos': [{'weight': 400.0,\n",
       "      'UN_code': 1202,\n",
       "      'UN_label': 'Liquid flammable',\n",
       "      'UN_class': '3',\n",
       "      'UN_packing_group': 'II',\n",
       "      'ADR_tunnel_code': None}]},\n",
       "   'transport_constraints': {'vehicle_type': 'Carrier',\n",
       "    'body_type': 'Tautliner',\n",
       "    'tail_lift': False,\n",
       "    'crane': False}}]}"
      ]
     },
     "metadata": {},
     "output_type": "display_data"
    }
   ],
   "source": [
    "import json\n",
    "from uiform.client import AsyncUiForm\n",
    "from IPython.display import clear_output, display\n",
    "\n",
    "uiclient = AsyncUiForm()\n",
    "\n",
    "async with uiclient.documents.extractions.stream(\n",
    "    json_schema = \"freight/schema.json\",\n",
    "    document = \"freight/booking_confirmation.jpg\",\n",
    "    model=\"gpt-4o-mini\",\n",
    "    temperature=0\n",
    ") as stream:\n",
    "    async for completion in stream:\n",
    "        if completion.choices[0].message.parsed is not None:\n",
    "            clear_output(wait=True)\n",
    "            display(completion.choices[0].message.parsed.model_dump())"
   ]
  },
  {
   "cell_type": "markdown",
   "id": "38455c97-b600-44c4-b679-f6382bd33279",
   "metadata": {},
   "source": [
    "## Appendix A - Use text as modality"
   ]
  },
  {
   "cell_type": "code",
   "execution_count": null,
   "id": "257e77d3-8d0b-4ca1-989e-159a8e730f97",
   "metadata": {},
   "outputs": [],
   "source": [
    "from uiform.client import AsyncUiForm\n",
    "\n",
    "uiclient = AsyncUiForm()\n",
    "\n",
    "completion = await uiclient.documents.extractions.parse(\n",
    "    json_schema = \"freight/booking_confirmation_json_schema.json\",\n",
    "    document=\"freight/booking_confirmation.jpg\",\n",
    "    model=\"gpt-4o-mini-2024-07-18\",\n",
    "    temperature=0,\n",
    "    modality='text'\n",
    ")\n",
    "\n",
    "print(completion.choices[0].message.parsed)"
   ]
  },
  {
   "cell_type": "markdown",
   "id": "e91fd043-489a-476c-8f03-718737dc7373",
   "metadata": {},
   "source": [
    "## Appendix B - Add additional context"
   ]
  },
  {
   "cell_type": "code",
   "execution_count": null,
   "id": "ff56ae8b-d576-42e4-ae5e-46486d894598",
   "metadata": {},
   "outputs": [],
   "source": [
    "from uiform.client import AsyncUiForm\n",
    "\n",
    "uiclient = AsyncUiForm()\n",
    "\n",
    "text_operations = {'regex_instructions' : [\n",
    "        {\n",
    "            \"name\": \"vat_number\",\n",
    "            \"pattern\": r\"[Ff][Rr]\\s*(\\d\\s*){11}\",\n",
    "            \"description\": \"VAT number in the format XX999999999\"\n",
    "        }\n",
    "    ]\n",
    "}\n",
    "\n",
    "completion = await uiclient.documents.extractions.parse(\n",
    "    json_schema = \"freight/booking_confirmation_json_schema.json\",\n",
    "    document = \"freight/booking_confirmation.jpg\",\n",
    "    model=\"gpt-4o-mini-2024-07-18\",\n",
    "    temperature=0,\n",
    "    text_operations=text_operations\n",
    ")\n",
    "\n",
    "print(completion.choices[0].message.parsed)"
   ]
  },
  {
   "cell_type": "code",
   "execution_count": null,
   "id": "14819628-9780-4c55-8eb3-c86a545ba772",
   "metadata": {},
   "outputs": [],
   "source": []
  },
  {
   "cell_type": "code",
   "execution_count": null,
   "id": "ff998e2f-b39b-4754-b0e7-f507bc26818a",
   "metadata": {},
   "outputs": [],
   "source": []
  }
 ],
 "metadata": {
  "kernelspec": {
   "display_name": "Python 3",
   "language": "python",
   "name": "python3"
  },
  "language_info": {
   "codemirror_mode": {
    "name": "ipython",
    "version": 3
   },
   "file_extension": ".py",
   "mimetype": "text/x-python",
   "name": "python",
   "nbconvert_exporter": "python",
   "pygments_lexer": "ipython3",
   "version": "3.12.7"
  }
 },
 "nbformat": 4,
 "nbformat_minor": 5
}
