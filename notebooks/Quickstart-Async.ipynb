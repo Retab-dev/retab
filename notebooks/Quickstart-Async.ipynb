{
 "cells": [
  {
   "cell_type": "markdown",
   "id": "e1b951a4-9ae1-48f6-8312-cdb24390d159",
   "metadata": {},
   "source": [
    "### Setup your environnement variables"
   ]
  },
  {
   "cell_type": "code",
   "execution_count": 1,
   "id": "44b1efd0-7fc5-4d28-a125-0c679aa47c07",
   "metadata": {},
   "outputs": [],
   "source": [
    "import os\n",
    "\n",
    "os.environ[\"OPENAI_API_KEY\"] = \"YOUR API KEY\"\n",
    "os.environ[\"UIFORM_API_KEY\"] = \"YOUR API KEY\" # go to https://uiform.com to create your API Key"
   ]
  },
  {
   "cell_type": "markdown",
   "id": "56461b9f-d82d-4174-8b3c-88798d7da848",
   "metadata": {},
   "source": [
    "# Get started"
   ]
  },
  {
   "cell_type": "code",
   "execution_count": 5,
   "id": "26c38e85-391d-40db-a301-b8d2086d88c6",
   "metadata": {},
   "outputs": [],
   "source": [
    "from dotenv import load_dotenv\n",
    "assert load_dotenv(override=True) # Load environment variables from a .env file"
   ]
  },
  {
   "cell_type": "code",
   "execution_count": null,
   "id": "cc236f92-87f8-4c65-851f-e1330008f43a",
   "metadata": {},
   "outputs": [],
   "source": [
    "from uiform import AsyncUiForm\n",
    "uiclient = AsyncUiForm()\n",
    "await uiclient.models.list()"
   ]
  },
  {
   "cell_type": "markdown",
   "id": "48beff48-f03e-47fa-b248-a5e40558989b",
   "metadata": {},
   "source": [
    "# Example 1 - Analyze informations from an email"
   ]
  },
  {
   "cell_type": "markdown",
   "id": "8f1e206e-c04e-4a0b-88e2-235cf3ec2047",
   "metadata": {},
   "source": [
    "#### Option A - You use our preprocess endpoint and openAI client"
   ]
  },
  {
   "cell_type": "code",
   "execution_count": null,
   "id": "acd69f9e-ac82-4122-8b3b-23ebfdcd69c9",
   "metadata": {},
   "outputs": [],
   "source": [
    "import json\n",
    "from uiform import AsyncUiForm, Schema\n",
    "from openai import AsyncOpenAI\n",
    "\n",
    "with open(\"freight/booking_confirmation_json_schema.json\", \"r\") as f:\n",
    "    json_schema = json.load(f)\n",
    "\n",
    "\n",
    "uiclient = AsyncUiForm()\n",
    "doc_msg = await uiclient.documents.create_messages(\n",
    "    document = \"freight/booking_confirmation.jpg\",\n",
    ")\n",
    "\n",
    "schema_obj = Schema(\n",
    "    json_schema = json_schema\n",
    ")\n",
    "\n",
    "\n",
    "# Now you can use your favorite model to analyze your document\n",
    "client = AsyncOpenAI()\n",
    "completion = await client.beta.chat.completions.parse(\n",
    "    model=\"gpt-4o-mini\", \n",
    "    messages=schema_obj.openai_messages + doc_msg.openai_messages,\n",
    "    response_format=schema_obj.inference_pydantic_model\n",
    ")\n",
    "\n",
    "# Validate the response against the original schema if you want to remove the reasoning fields\n",
    "assert completion.choices[0].message.content is not None\n",
    "extraction = schema_obj.pydantic_model.model_validate_json(\n",
    "    completion.choices[0].message.content\n",
    ")\n",
    "\n",
    "print(extraction)"
   ]
  },
  {
   "cell_type": "markdown",
   "id": "56177728-8447-4dc8-a64a-108924e39688",
   "metadata": {},
   "source": [
    "#### Option B - Using UiForm `extraction.parse` endpoint"
   ]
  },
  {
   "cell_type": "code",
   "execution_count": null,
   "id": "9cc3ae43-a24d-433e-8c24-465797becc8a",
   "metadata": {},
   "outputs": [],
   "source": [
    "import json\n",
    "from uiform.client import AsyncUiForm\n",
    "\n",
    "uiclient = AsyncUiForm()\n",
    "completion = await uiclient.documents.extractions.parse(\n",
    "    json_schema = \"freight/booking_confirmation_json_schema.json\",\n",
    "    document = \"freight/booking_confirmation.jpg\",\n",
    "    model=\"gpt-4o-mini\",\n",
    "    temperature=0\n",
    ")\n",
    "\n",
    "print(completion.choices[0].message.parsed)"
   ]
  },
  {
   "cell_type": "markdown",
   "id": "a209ee03",
   "metadata": {},
   "source": [
    "#### Option C - Using UiForm `extraction.stream` endpoint"
   ]
  },
  {
   "cell_type": "code",
   "execution_count": null,
   "id": "d05f0781",
   "metadata": {},
   "outputs": [],
   "source": [
    "import json\n",
    "from uiform.client import UiForm\n",
    "from IPython.display import clear_output, display\n",
    "\n",
    "uiclient = AsyncUiForm()\n",
    "\n",
    "async for completion in uiclient.documents.extractions.stream(\n",
    "    json_schema = \"freight/schema.json\",\n",
    "    document = \"freight/booking_confirmation.jpg\",\n",
    "    model=\"gpt-4o-mini\",\n",
    "    temperature=0\n",
    "):\n",
    "    clear_output(wait=True)\n",
    "    if completion.choices[0].message.parsed is not None:\n",
    "        display(completion.choices[0].message.parsed.model_dump())"
   ]
  },
  {
   "cell_type": "markdown",
   "id": "38455c97-b600-44c4-b679-f6382bd33279",
   "metadata": {},
   "source": [
    "## Appendix A - Use text as modality"
   ]
  },
  {
   "cell_type": "code",
   "execution_count": null,
   "id": "257e77d3-8d0b-4ca1-989e-159a8e730f97",
   "metadata": {},
   "outputs": [],
   "source": [
    "from uiform.client import AsyncUiForm\n",
    "\n",
    "uiclient = AsyncUiForm()\n",
    "\n",
    "completion = await uiclient.documents.extractions.parse(\n",
    "    json_schema = \"freight/booking_confirmation_json_schema.json\",\n",
    "    document=\"freight/booking_confirmation.jpg\",\n",
    "    model=\"gpt-4o-mini-2024-07-18\",\n",
    "    temperature=0,\n",
    "    modality='text'\n",
    ")\n",
    "\n",
    "print(completion.choices[0].message.parsed)"
   ]
  },
  {
   "cell_type": "markdown",
   "id": "e91fd043-489a-476c-8f03-718737dc7373",
   "metadata": {},
   "source": [
    "## Appendix B - Add additional context"
   ]
  },
  {
   "cell_type": "code",
   "execution_count": null,
   "id": "ff56ae8b-d576-42e4-ae5e-46486d894598",
   "metadata": {},
   "outputs": [],
   "source": [
    "from uiform.client import AsyncUiForm\n",
    "\n",
    "uiclient = AsyncUiForm()\n",
    "\n",
    "text_operations = {'regex_instructions' : [\n",
    "        {\n",
    "            \"name\": \"vat_number\",\n",
    "            \"pattern\": r\"[Ff][Rr]\\s*(\\d\\s*){11}\",\n",
    "            \"description\": \"VAT number in the format XX999999999\"\n",
    "        }\n",
    "    ]\n",
    "}\n",
    "\n",
    "completion = await uiclient.documents.extractions.parse(\n",
    "    json_schema = \"freight/booking_confirmation_json_schema.json\",\n",
    "    document = \"freight/booking_confirmation.jpg\",\n",
    "    model=\"gpt-4o-mini-2024-07-18\",\n",
    "    temperature=0,\n",
    "    text_operations=text_operations\n",
    ")\n",
    "\n",
    "print(completion.choices[0].message.parsed)"
   ]
  },
  {
   "cell_type": "code",
   "execution_count": null,
   "id": "14819628-9780-4c55-8eb3-c86a545ba772",
   "metadata": {},
   "outputs": [],
   "source": []
  },
  {
   "cell_type": "code",
   "execution_count": null,
   "id": "ff998e2f-b39b-4754-b0e7-f507bc26818a",
   "metadata": {},
   "outputs": [],
   "source": []
  }
 ],
 "metadata": {
  "kernelspec": {
   "display_name": "Python 3 (ipykernel)",
   "language": "python",
   "name": "python3"
  },
  "language_info": {
   "codemirror_mode": {
    "name": "ipython",
    "version": 3
   },
   "file_extension": ".py",
   "mimetype": "text/x-python",
   "name": "python",
   "nbconvert_exporter": "python",
   "pygments_lexer": "ipython3",
   "version": "3.12.4"
  }
 },
 "nbformat": 4,
 "nbformat_minor": 5
}
