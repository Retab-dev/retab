{
 "cells": [
  {
   "cell_type": "markdown",
   "id": "e1b951a4-9ae1-48f6-8312-cdb24390d159",
   "metadata": {},
   "source": [
    "### Setup your environnement variables"
   ]
  },
  {
   "cell_type": "code",
   "execution_count": 3,
   "id": "44b1efd0-7fc5-4d28-a125-0c679aa47c07",
   "metadata": {},
   "outputs": [],
   "source": [
    "import os\n",
    "\n",
    "os.environ[\"OPENAI_API_KEY\"] = \"YOUR API KEY\"\n",
    "os.environ[\"UIFORM_API_KEY\"] = \"YOUR API KEY\" # go to https://uiform.com to create your API Key"
   ]
  },
  {
   "cell_type": "markdown",
   "id": "56461b9f-d82d-4174-8b3c-88798d7da848",
   "metadata": {},
   "source": [
    "# Get started"
   ]
  },
  {
   "cell_type": "code",
   "execution_count": 15,
   "id": "26c38e85-391d-40db-a301-b8d2086d88c6",
   "metadata": {},
   "outputs": [],
   "source": [
    "from dotenv import load_dotenv\n",
    "assert load_dotenv() # Load environment variables from a .env file"
   ]
  },
  {
   "cell_type": "code",
   "execution_count": 16,
   "id": "cc236f92-87f8-4c65-851f-e1330008f43a",
   "metadata": {},
   "outputs": [
    {
     "data": {
      "text/plain": [
       "['claude-3-5-sonnet-latest',\n",
       " 'claude-3-5-sonnet-20241022',\n",
       " 'claude-3-opus-20240229',\n",
       " 'claude-3-sonnet-20240229',\n",
       " 'claude-3-haiku-20240307',\n",
       " 'gpt-4o',\n",
       " 'gpt-4o-mini',\n",
       " 'chatgpt-4o-latest',\n",
       " 'gpt-4o-2024-11-20',\n",
       " 'gpt-4o-2024-08-06',\n",
       " 'gpt-4o-2024-05-13',\n",
       " 'gpt-4o-mini-2024-07-18',\n",
       " 'o1-2024-12-17',\n",
       " 'o1-mini-2024-09-12',\n",
       " 'grok-2-vision-1212',\n",
       " 'grok-2-1212',\n",
       " 'gemini-2.0-flash-exp',\n",
       " 'gemini-1.5-flash-8b',\n",
       " 'gemini-1.5-flash',\n",
       " 'gemini-1.5-pro']"
      ]
     },
     "execution_count": 16,
     "metadata": {},
     "output_type": "execute_result"
    }
   ],
   "source": [
    "from uiform import AsyncUiForm\n",
    "uiclient = AsyncUiForm()\n",
    "await uiclient.models.list()"
   ]
  },
  {
   "cell_type": "markdown",
   "id": "48beff48-f03e-47fa-b248-a5e40558989b",
   "metadata": {},
   "source": [
    "# Example 1 - Analyze informations from an email"
   ]
  },
  {
   "cell_type": "markdown",
   "id": "8f1e206e-c04e-4a0b-88e2-235cf3ec2047",
   "metadata": {},
   "source": [
    "#### Option A - You use our preprocess endpoint and openAI client"
   ]
  },
  {
   "cell_type": "code",
   "execution_count": 8,
   "id": "acd69f9e-ac82-4122-8b3b-23ebfdcd69c9",
   "metadata": {},
   "outputs": [
    {
     "name": "stdout",
     "output_type": "stream",
     "text": [
      "thinking='Analysis shows:\\n- Confirmed booking document from ACME Corporation\\n- Contains detailed shipment and transport terms\\n- Client identified as ACME Corporation with VAT number GB123456789\\n- Total price of 1500 EUR excluding taxes clearly stated\\n- Shipment contains hazardous materials, specifically UN1202.\\n- Pickup and delivery dates and times outlined clearly.\\n- Important transport requirements and conditions laid out clearly in the document. Verifies that all required documentation and inspections are needed during transport.' booking_id='SHIP-001' payment={'total_price': 1500, 'currency': 'EUR'} client={'company_name': 'ACME Corporation', 'SIREN': None, 'VAT_number_thinking': 'VAT number is identified as GB123456789 which is a valid format for VAT registration in the UK.\\nFound VAT number in the header of the document next to ACME Corporation.', 'VAT_number': 'GB123456789', 'city': 'Manchester', 'postal_code': 'M1 4WP', 'country': 'GB', 'code': None, 'email': 'client@acme.com'} number_of_shipments=1 shipments_thinking='Shipment Analysis:\\n1: The shipment involves hazardous materials classified as UN1202, requiring careful handling due to flammability.\\n2: Sender information clearly states ACME Corporation as the source for pickup.\\n3: Delivery point is Beta Industries located in Munich, which aligns with the documentation provided.\\n4: Document emphasizes the necessity for proper precautions during transport due to the nature of goods.' shipments=[{'thinking': 'Source shows:\\n- Single shipment identified by reference number BC-67890\\n- Pickup from ACME Corporation to delivery point Beta Industries\\n- Must adhere to specific delivery timelines and safety measures due to hazardous nature of goods\\n- References found: SHIP-001 effective management of transport', 'shipment_id': 'SHIP-001', 'sender': {'company_name': 'ACME Corporation', 'address': {'city': 'Manchester', 'postal_code': 'M1 4WP', 'country': 'GB', 'line1': '456 Oak Avenue', 'line2': 'Floor 3'}, 'phone_number': '+44 20 7946 0958', 'email_address': 'client@acme.com', 'pickup_datetime': {'date': '2023-05-02', 'start_time': '08:00', 'end_time': '12:00'}, 'observations': 'Ensure all hazardous materials are documented and comply with local regulations.'}, 'recipient': {'company_name': 'Beta Industries', 'address': {'city': 'Munich', 'postal_code': '80331', 'country': 'DE', 'line1': '789 Pine Street', 'line2': 'Suite 500'}, 'phone_number': '+49 89 123456', 'email_address': None, 'delivery_datetime': {'date': '2023-05-03', 'start_time': '10:00', 'end_time': '16:00'}, 'observations': 'Check for safe handling procedures for hazardous materials upon delivery.'}, 'goods': {'thinking': 'Source indicates:\\n- Shipment comprises hazardous material classified as UN1202, involving liquid flammable substances.\\n- Weight: 500 kg across 10 pallets,\\n- Volume: 1.44 cubic meters,\\n- Temperature range required from 5°C to 25°C (fresh).', 'packing': {'units': 10, 'packing_type': 'pallet', 'supplementary_parcels': 0, 'pallets_on_ground_thinking': '10 pallets account for 10.0 of loading meters.', 'pallets_on_ground': 10, 'number_eur_pallet': 10, 'observation': 'All pallets must be clearly indicated as returnable Euro pallets.'}, 'dimensions': {'loading_meters_thinking': 'Using provided value of 10 loading meters due to 10 pallets. Each pallet typically occupies 1.0 meter.', 'loading_meters': 10, 'volume_thinking': 'Using provided value of 1.44 cubic meters for the total volume of goods.', 'volume': 1.44}, 'weight': 500, 'temperature_infos': {'min_temperature': 5, 'max_temperature': 25, 'category': 'Fresh'}, 'dangerous_goods_infos': [{'thinking': 'This dangerous good is categorized under UN1202, highlighting necessity for specific handling and transport regulations.', 'weight': 500, 'UN_code': 1202, 'UN_label': 'Flammable Liquid', 'UN_class': '3', 'UN_packing_group': 'II', 'ADR_tunnel_code': 'B'}]}, 'transport_constraints': {'thinking': 'Source specifies: special handling needed due to dangerous goods classification, particularly flammable liquids. Regular inspections and compliance with safety standards are paramount.', 'vehicle_type': 'Carrier', 'body_type': 'Dry Van', 'tail_lift': False, 'crane': False}}]\n"
     ]
    }
   ],
   "source": [
    "import json\n",
    "from uiform import AsyncUiForm, Schema\n",
    "from openai import AsyncOpenAI\n",
    "\n",
    "with open(\"freight/booking_confirmation_json_schema.json\", \"r\") as f:\n",
    "    json_schema = json.load(f)\n",
    "\n",
    "\n",
    "uiclient = AsyncUiForm()\n",
    "doc_msg = await uiclient.documents.create_messages(\n",
    "    document = \"freight/booking_confirmation.jpg\",\n",
    ")\n",
    "\n",
    "schema_obj = Schema(\n",
    "    json_schema = json_schema\n",
    ")\n",
    "\n",
    "\n",
    "# Now you can use your favorite model to analyze your document\n",
    "client = AsyncOpenAI()\n",
    "completion = await client.chat.completions.create(\n",
    "    model=\"gpt-4o-mini\", \n",
    "    messages=schema_obj.openai_messages + doc_msg.openai_messages,\n",
    "    response_format=schema_obj.response_format_json\n",
    ")\n",
    "\n",
    "# Validate the response against the original schema if you want to remove the reasoning fields\n",
    "assert completion.choices[0].message.content is not None\n",
    "extraction = schema_obj.pydantic_model.model_validate_json(\n",
    "    completion.choices[0].message.content\n",
    ")\n",
    "\n",
    "print(extraction)"
   ]
  },
  {
   "cell_type": "markdown",
   "id": "56177728-8447-4dc8-a64a-108924e39688",
   "metadata": {},
   "source": [
    "#### Option B - Using UiForm `extract` endpoint"
   ]
  },
  {
   "cell_type": "code",
   "execution_count": 10,
   "id": "9cc3ae43-a24d-433e-8c24-465797becc8a",
   "metadata": {},
   "outputs": [
    {
     "name": "stdout",
     "output_type": "stream",
     "text": [
      "{'thinking': 'Analysis shows:\\n- Clear booking confirmation document from ACME Corporation\\n- Contains 1 distinct shipment under single booking reference\\n- Client identified as ACME Corporation from letterhead\\n- Total value and payment terms clearly stated\\n- All required signatures present', 'booking_id': 'SHIP-001', 'payment': {'total_price': 1500, 'currency': 'EUR'}, 'client': {'company_name': 'ACME Corporation', 'SIREN': 'GB123456789', 'VAT_number': 'GB123456789', 'city': 'London', 'postal_code': 'WC2N 5DU', 'country': 'GB', 'email': 'client@acme.com'}, 'number_of_shipments': 1, 'shipments': [{'shipment_id': 'SHIP-001', 'sender': {'company_name': 'ACME Corporation', 'address': {'line1': '123 Elm Street', 'line2': 'Suite 500', 'city': 'London', 'postal_code': 'WC2N 5DU', 'country': 'GB'}, 'phone_number': '+44 20 7946 0958', 'email_address': 'client@acme.com', 'pickup_datetime': {'date': '2023-02-05', 'start_time': '08:00', 'end_time': '12:00'}, 'observations': 'Pickup at Acme Corporation, ensure all documents are ready.'}, 'recipient': {'company_name': 'Beta Industries', 'address': {'line1': '789 Pine Street', 'line2': '', 'city': 'Munich', 'postal_code': '80331', 'country': 'DE'}, 'phone_number': '+49 89 123456', 'email_address': '', 'delivery_datetime': {'date': '2023-03-05', 'start_time': '10:00', 'end_time': '16:00'}, 'observations': 'Delivery to Beta Industries, ensure unloading equipment is available.'}, 'goods': {'thinking': 'Source indicates:\\n- 500 kg of liquid goods\\n- Reference: UN1202, Class 3 - Flammable\\n- Requires temperature control between 5°C - 25°C\\n- Volume: 1.44 m3\\n- 5 pallets involved', 'packing': {'units': 10, 'packing_type': 'pallet', 'pallets_on_ground': 5, 'number_eur_pallet': 5, 'observation': 'Ensure pallets are exchanged or returned within 8 days.'}, 'dimensions': {'loading_meters': 0.4, 'volume': 1.44}, 'weight': 500, 'temperature_infos': {'min_temperature': 5, 'max_temperature': 25, 'category': 'Fresh'}, 'dangerous_goods_infos': [{'weight': 500, 'UN_code': 1202, 'UN_label': 'Flammable Liquid', 'UN_class': '3', 'UN_packing_group': 'II', 'ADR_tunnel_code': 'C'}], 'transport_constraints': {'thinking': 'Source specifies: ensure compliance with transport regulations and document requirements.', 'vehicle_type': 'Carrier', 'body_type': 'Tanker', 'tail_lift': False, 'crane': False}}}]}\n"
     ]
    }
   ],
   "source": [
    "import json\n",
    "from uiform.client import AsyncUiForm\n",
    "\n",
    "uiclient = AsyncUiForm()\n",
    "completion = await uiclient.documents.extractions.parse(\n",
    "    json_schema = \"freight/booking_confirmation_json_schema.json\",\n",
    "    document = \"freight/booking_confirmation.jpg\",\n",
    "    model=\"gpt-4o-mini\",\n",
    "    temperature=0\n",
    ")\n",
    "\n",
    "print(completion.choices[0].message.parsed)"
   ]
  },
  {
   "cell_type": "markdown",
   "id": "38455c97-b600-44c4-b679-f6382bd33279",
   "metadata": {},
   "source": [
    "## Appendix A - Use text as modality"
   ]
  },
  {
   "cell_type": "code",
   "execution_count": 11,
   "id": "257e77d3-8d0b-4ca1-989e-159a8e730f97",
   "metadata": {},
   "outputs": [
    {
     "name": "stdout",
     "output_type": "stream",
     "text": [
      "{'thinking': 'Analysis shows:\\n- Clear booking confirmation document from ACME Corporation\\n- Client identified as ACME Corporation with VAT number GB123456789\\n- Contains 1 distinct shipment under booking reference SHIP-001\\n- Total price of the booking is 1500 EUR, excluding taxes\\n- All required signatures and contact details present', 'booking_id': 'SHIP-001', 'payment': {'total_price': 1500, 'currency': 'EUR'}, 'client': {'company_name': 'ACME Corporation', 'SIREN': None, 'VAT_number_thinking': 'Found VAT number GB123456789 in the header of the document.', 'VAT_number': 'GB123456789', 'city': 'Manchester', 'postal_code': 'M1 4WP', 'country': 'GB', 'code': None, 'email': 'client@acme.com'}, 'number_of_shipments': 1, 'shipments_thinking': 'Shipment Analysis:\\n- Shipment identified by reference number SHIP-001\\n- Pickup from ACME Corporation, Manchester to Beta Industries, Munich\\n- Delivery scheduled between 5/2/2023 and 5/3/2023\\n- Weight: 500 kg, Volume: 1.44 m3, 5 pallets\\n- Temperature control required between 5°C and 25°C\\n- Dangerous goods UN1202, Class 3 - Flammable liquid', 'shipments': [{'thinking': 'Source shows:\\n- Single shipment identified by reference number SHIP-001\\n- Pickup from ACME Corporation, Manchester to Beta Industries, Munich\\n- Delivery scheduled between 5/2/2023 and 5/3/2023\\n- Weight: 500 kg, Volume: 1.44 m3, 5 pallets\\n- Temperature control required between 5°C and 25°C\\n- Dangerous goods UN1202, Class 3 - Flammable liquid', 'shipment_id': 'SHIP-001', 'sender': {'company_name': 'ACME Corporation', 'address': {'city': 'Manchester', 'postal_code': 'M1 4WP', 'country': 'GB', 'line1': '456 Oak Avenue', 'line2': None}, 'phone_number': '+44 20 7946 0958', 'email_address': 'client@acme.com', 'pickup_datetime': {'date': '2023-02-05', 'start_time': '08:00', 'end_time': '12:00'}, 'observations': 'Contact: Jane Doe'}, 'recipient': {'company_name': 'Beta Industries', 'address': {'city': 'Munich', 'postal_code': '80331', 'country': 'DE', 'line1': '789 Pine Street', 'line2': 'Suite 500'}, 'phone_number': '+49 89 123456', 'email_address': None, 'delivery_datetime': {'date': '2023-03-05', 'start_time': '10:00', 'end_time': '16:00'}, 'observations': None}, 'goods': {'thinking': 'Source indicates:\\n- 5 pallets of flammable liquid (UN1202, Class 3)\\n- Weight: 500 kg\\n- Volume: 1.44 m3\\n- Temperature control required between 5°C and 25°C', 'packing': {'units': 10, 'packing_type': 'pallet', 'supplementary_parcels': None, 'pallets_on_ground_thinking': '5 pallets on ground.', 'pallets_on_ground': 5, 'number_eur_pallet': 5, 'observation': None}, 'dimensions': {'loading_meters_thinking': 'Using provided value of 0.4 loading meters.', 'loading_meters': 0.4, 'volume_thinking': 'Using provided value of 1.44 cubic meters.', 'volume': 1.44}, 'weight': 500, 'temperature_infos': {'min_temperature': 5, 'max_temperature': 25, 'category': 'Fresh'}, 'dangerous_goods_infos': [{'thinking': 'Source indicates:\\n- Dangerous goods UN1202, Class 3 - Flammable liquid', 'weight': 500, 'UN_code': 1202, 'UN_label': 'Flammable liquid', 'UN_class': '3', 'UN_packing_group': 'II', 'ADR_tunnel_code': None}]}, 'transport_constraints': {'thinking': 'Source specifies: specific insurance required for sensitive goods.', 'vehicle_type': None, 'body_type': None, 'tail_lift': None, 'crane': None}}]}\n"
     ]
    }
   ],
   "source": [
    "from uiform.client import AsyncUiForm\n",
    "\n",
    "uiclient = AsyncUiForm()\n",
    "\n",
    "completion = await uiclient.documents.extractions.parse(\n",
    "    json_schema = \"freight/booking_confirmation_json_schema.json\",\n",
    "    document=\"freight/booking_confirmation.jpg\",\n",
    "    model=\"gpt-4o-mini-2024-07-18\",\n",
    "    temperature=0,\n",
    "    modality='text'\n",
    ")\n",
    "\n",
    "print(completion.choices[0].message.parsed)"
   ]
  },
  {
   "cell_type": "markdown",
   "id": "e91fd043-489a-476c-8f03-718737dc7373",
   "metadata": {},
   "source": [
    "## Appendix B - Add additional context"
   ]
  },
  {
   "cell_type": "code",
   "execution_count": 12,
   "id": "ff56ae8b-d576-42e4-ae5e-46486d894598",
   "metadata": {},
   "outputs": [
    {
     "name": "stdout",
     "output_type": "stream",
     "text": [
      "{'thinking': 'Analysis shows:\\n- Clear booking confirmation document from ACME Corporation\\n- Contains 1 distinct shipment under single booking reference\\n- Client identified as ACME Corporation from letterhead\\n- Total value and payment terms clearly stated\\n- All required signatures present', 'booking_id': 'SHIP-001', 'payment': {'total_price': 1500, 'currency': 'EUR'}, 'client': {'company_name': 'ACME Corporation', 'SIREN': 'FR12 345 678 901', 'VAT_number': 'GB123456789', 'city': 'London', 'postal_code': 'WC2N 5DU', 'country': 'GB', 'email': 'client@acme.com'}, 'number_of_shipments': 1, 'shipments': [{'shipment_id': 'SHIP-001', 'sender': {'company_name': 'ACME Corporation', 'address': {'line1': '123 Elm Street', 'line2': 'Suite 500', 'city': 'London', 'postal_code': 'WC2N 5DU', 'country': 'GB'}, 'phone_number': '+44 20 7946 0958', 'email_address': 'client@acme.com', 'pickup_datetime': {'date': '2023-05-02', 'start_time': '08:00', 'end_time': '12:00'}, 'observations': 'Pickup at Acme Corporation, 123 Elm Street, Suite 500, London, Greater London.'}, 'recipient': {'company_name': 'Beta Industries', 'address': {'line1': '789 Pine Street', 'line2': '', 'city': 'Munich', 'postal_code': '80331', 'country': 'DE'}, 'phone_number': '+49 89 123456', 'email_address': None, 'delivery_datetime': {'date': '2023-05-03', 'start_time': '10:00', 'end_time': '16:00'}, 'observations': 'Delivery to Beta Industries, 789 Pine Street, Munich, Bavaria.'}, 'goods': {'thinking': 'Source indicates:\\n- 500 kg of goods\\n- 5 pallets, 10 units, total volume 1.44 m3\\n- Temperature range: 5°C - 25°C (Fresh)\\n- Dangerous goods: UN1202 Class 3 - Liquid flammable', 'packing': {'units': 10, 'packing_type': 'pallet', 'pallets_on_ground': 5, 'number_eur_pallet': 0, 'observation': '5 pallets of goods.'}, 'dimensions': {'loading_meters': 0.4, 'volume': 1.44}, 'weight': 500, 'temperature_infos': {'min_temperature': 5, 'max_temperature': 25, 'category': 'Fresh'}, 'dangerous_goods_infos': [{'weight': 500, 'UN_code': 1202, 'UN_label': 'Flammable Liquid', 'UN_class': '3', 'UN_packing_group': 'II', 'ADR_tunnel_code': 'C'}], 'transport_constraints': {'thinking': 'Source specifies: standard transport conditions apply, no special vehicle requirements noted.', 'vehicle_type': 'Carrier', 'body_type': 'Dry Van', 'tail_lift': False, 'crane': False}}}]}\n"
     ]
    }
   ],
   "source": [
    "from uiform.client import AsyncUiForm\n",
    "\n",
    "uiclient = AsyncUiForm()\n",
    "\n",
    "text_operations = {'regex_instructions' : [\n",
    "        {\n",
    "            \"name\": \"vat_number\",\n",
    "            \"pattern\": r\"[Ff][Rr]\\s*(\\d\\s*){11}\",\n",
    "            \"description\": \"VAT number in the format XX999999999\"\n",
    "        }\n",
    "    ]\n",
    "}\n",
    "\n",
    "completion = await uiclient.documents.extractions.parse(\n",
    "    json_schema = \"freight/booking_confirmation_json_schema.json\",\n",
    "    document = \"freight/booking_confirmation.jpg\",\n",
    "    model=\"gpt-4o-mini-2024-07-18\",\n",
    "    temperature=0,\n",
    "    text_operations=text_operations\n",
    ")\n",
    "\n",
    "print(completion.choices[0].message.parsed)"
   ]
  },
  {
   "cell_type": "code",
   "execution_count": null,
   "id": "14819628-9780-4c55-8eb3-c86a545ba772",
   "metadata": {},
   "outputs": [],
   "source": []
  },
  {
   "cell_type": "code",
   "execution_count": null,
   "id": "ff998e2f-b39b-4754-b0e7-f507bc26818a",
   "metadata": {},
   "outputs": [],
   "source": []
  }
 ],
 "metadata": {
  "kernelspec": {
   "display_name": "Python 3 (ipykernel)",
   "language": "python",
   "name": "python3"
  },
  "language_info": {
   "codemirror_mode": {
    "name": "ipython",
    "version": 3
   },
   "file_extension": ".py",
   "mimetype": "text/x-python",
   "name": "python",
   "nbconvert_exporter": "python",
   "pygments_lexer": "ipython3",
   "version": "3.12.4"
  }
 },
 "nbformat": 4,
 "nbformat_minor": 5
}
