{
 "cells": [
  {
   "cell_type": "markdown",
   "id": "1a2a2fd0-c8ce-4142-8499-ab79701b50f4",
   "metadata": {},
   "source": [
    "### Setup your environnement variables"
   ]
  },
  {
   "cell_type": "code",
   "execution_count": 3,
   "id": "5400407f-31cc-4ad1-89fa-04ee2d482d1b",
   "metadata": {},
   "outputs": [],
   "source": [
    "import os\n",
    "\n",
    "os.environ[\"OPENAI_API_KEY\"] = \"YOUR API KEY\"\n",
    "os.environ[\"UIFORM_API_KEY\"] = \"YOUR API KEY\" # go to https://uiform.com to create your API Key"
   ]
  },
  {
   "cell_type": "code",
   "execution_count": 1,
   "id": "e5bfe9bd-b890-4033-bef0-345149987d88",
   "metadata": {},
   "outputs": [],
   "source": [
    "from dotenv import load_dotenv\n",
    "assert load_dotenv(\"../.env.local\") # Load environment variables from a .env file"
   ]
  },
  {
   "cell_type": "markdown",
   "id": "e873ea72-2fa6-4233-8e0d-9f220aeb4a36",
   "metadata": {},
   "source": [
    "# Get started"
   ]
  },
  {
   "cell_type": "code",
   "execution_count": 3,
   "id": "9c8b5c2f-d6af-4347-8e8f-208cc6aa9b13",
   "metadata": {},
   "outputs": [],
   "source": [
    "from uiform import UiForm\n",
    "uiclient = UiForm()\n",
    "models_list = uiclient.models.list()"
   ]
  },
  {
   "cell_type": "markdown",
   "id": "48beff48-f03e-47fa-b248-a5e40558989b",
   "metadata": {},
   "source": [
    "# Example 1 - Analyze informations from a document"
   ]
  },
  {
   "cell_type": "markdown",
   "id": "8f1e206e-c04e-4a0b-88e2-235cf3ec2047",
   "metadata": {},
   "source": [
    "#### Option A - You use our preprocess endpoint and openAI client"
   ]
  },
  {
   "cell_type": "code",
   "execution_count": 5,
   "id": "177d3be9",
   "metadata": {},
   "outputs": [
    {
     "name": "stdout",
     "output_type": "stream",
     "text": [
      "booking_id='SHIP-001' payment=TransportPriceData(total_price=1500, currency='EUR') client=ClientData(company_name='Acme Corporation', VAT_number='GB123456789', city='London', postal_code='WC2N 5DU', country='GB', code=None, email='client@acme.com') shipments=[ShipmentData(shipment_id='SHIP-001', sender=SenderData(company_name='Acme Corporation', address=AddressDataSimple(city='London', postal_code='WC2N 5DU', country='GB', line1='123 Elm Street', line2='Suite 500'), phone_number=None, email_address=None, pickup_datetime=PickupDatetimeData(date='2023-05-02', start_time='08:00:00', end_time='12:00:00'), observations='Pickup at Acme Corporation as per provided address in billing section.'), recipient=RecipientData(company_name='Beta Industries', address=AddressDataSimple(city='Munich', postal_code='80331', country='DE', line1='789 Pine Street', line2=None), phone_number='+49 89 123456', email_address=None, delivery_datetime=DeliveryDatetimeData(date='2023-05-03', start_time='10:00:00', end_time='16:00:00'), observations='Delivery at Beta Industries as per the provided location details.'), goods=GoodsData(packing=PackingData(units=10, packing_type='pallet', supplementary_parcels=None, pallets_on_ground=5, number_eur_pallet=5, observation='10 units refer to individual items; 5 palettes are used for transport.'), dimensions=DimensionsData(loading_meters=0.4, volume=1.44), weight=500, temperature_infos={'min_temperature': 5, 'max_temperature': 25, 'category': 'Fresh'}, dangerous_goods_infos=[DangerousGoodsInfoData(weight=None, UN_code=1202, UN_label='Liquide inflammable', UN_class='3', UN_packing_group=None, ADR_tunnel_code=None)]), transport_constraints=TruckData(vehicle_type=None, body_type=None, tail_lift=None, crane=None))]\n"
     ]
    }
   ],
   "source": [
    "from uiform.client import UiForm\n",
    "\n",
    "uiclient = UiForm()\n",
    "\n",
    "completion = uiclient.documents.extractions.parse(\n",
    "    json_schema = \"freight/schema.json\",\n",
    "    document = \"freight/booking_confirmation.jpg\",\n",
    "    model=\"o3-mini\",\n",
    "    modality=\"text\",\n",
    "    temperature=0,\n",
    "    reasoning_effort=\"low\",\n",
    "    image_resolution_dpi=96,\n",
    "    browser_canvas=\"A4\",\n",
    ")\n",
    "\n",
    "print(completion.choices[0].message.parsed)"
   ]
  },
  {
   "cell_type": "code",
   "execution_count": 7,
   "id": "75578b63",
   "metadata": {},
   "outputs": [
    {
     "data": {
      "text/plain": [
       "{'id': 'chatcmpl-BAxbTyV5rIjhiI41ghUaCsEXetppK',\n",
       " 'choices': [{'finish_reason': 'stop',\n",
       "   'index': 0,\n",
       "   'logprobs': None,\n",
       "   'message': {'content': '{\"reasoning___root\": \"The document is a clear booking confirmation in French with sectioned details including client, transporter, loading site, billing address, shipment details, and pricing. A single shipment is described with explicit pickup and delivery details, goods specifications including dangerous goods and temperature requirements, as well as agreed transport price.\", \"booking_id\": \"SHIP-001\", \"payment\": {\"total_price\": 1500, \"currency\": \"EUR\"}, \"client\": {\"company_name\": \"Acme Corporation\", \"reasoning___VAT_number\": \"Found VAT number GB123456789 in the billing address section labelled \\'TVA\\'. Although a French TVA appears for the transporter, the billing address uses GB VAT which is more relevant for the client.\", \"VAT_number\": \"GB123456789\", \"city\": \"London\", \"postal_code\": \"WC2N 5DU\", \"country\": \"GB\", \"code\": null, \"email\": \"client@acme.com\"}, \"reasoning___shipments\": \"The shipment details are extracted from the \\'Prise en charge et livraison\\' section and the \\'Nature des marchandises\\' section. The sender is indicated with Acme Corporation at the billing address. The recipient is Beta Industries with a clear address in Munich. Goods details including weight, volume, loading meters, temperature range, dangerous goods information, and packing details are explicitly provided.\", \"shipments\": [{\"shipment_id\": \"SHIP-001\", \"reasoning___sender\": \"The sender information is taken from the Prise en charge section where the pickup location is stated as Acme Corporation, 123 Elm Street, Suite 500, London, Greater London, WC2N 5DU GB. The pickup date is 5/2/2023 with pickup time from 08:00 to 12:00.\", \"sender\": {\"company_name\": \"Acme Corporation\", \"address\": {\"city\": \"London\", \"postal_code\": \"WC2N 5DU\", \"country\": \"GB\", \"line1\": \"123 Elm Street\", \"line2\": \"Suite 500\"}, \"phone_number\": null, \"email_address\": null, \"pickup_datetime\": {\"date\": \"2023-05-02\", \"start_time\": \"08:00:00\", \"end_time\": \"12:00:00\"}, \"observations\": \"Pickup at Acme Corporation as per provided address in billing section.\"}, \"reasoning___recipient\": \"Recipient details are provided in the Livraison section. The recipient is Beta Industries located at 789 Pine Street, Munich, Bavaria, 80331 in Germany with a contact phone number.\", \"recipient\": {\"company_name\": \"Beta Industries\", \"address\": {\"city\": \"Munich\", \"postal_code\": \"80331\", \"country\": \"DE\", \"line1\": \"789 Pine Street\", \"line2\": null}, \"phone_number\": \"+49 89 123456\", \"email_address\": null, \"delivery_datetime\": {\"date\": \"2023-05-03\", \"start_time\": \"10:00:00\", \"end_time\": \"16:00:00\"}, \"observations\": \"Delivery at Beta Industries as per the provided location details.\"}, \"reasoning___goods\": \"Goods are described under \\'Nature des marchandises\\'. Explicit details include weight, volume, loading meters, number of palettes, units, temperature requirements and dangerous goods information.\", \"goods\": {\"packing\": {\"units\": 10, \"packing_type\": \"pallet\", \"supplementary_parcels\": null, \"reasoning___pallets_on_ground\": \"The document explicitly states \\'Nombre de palettes: 5\\'. These 5 pallets are assumed to be European standard pallets.\", \"pallets_on_ground\": 5, \"number_eur_pallet\": 5, \"observation\": \"10 units refer to individual items; 5 palettes are used for transport.\"}, \"dimensions\": {\"reasoning___loading_meters\": \"Using provided loading meters value explicitly stated as 0.4 ML.\", \"loading_meters\": 0.4, \"reasoning___volume\": \"Using provided volume value explicitly stated as 1.44 M3.\", \"volume\": 1.44}, \"weight\": 500, \"temperature_infos\": {\"min_temperature\": 5, \"max_temperature\": 25, \"category\": \"Fresh\"}, \"reasoning___dangerous_goods_infos\": \"The dangerous goods are explicitly indicated as \\'UN1202 Classe 3 - Liquide inflammable\\'.\", \"dangerous_goods_infos\": [{\"weight\": null, \"UN_code\": 1202, \"UN_label\": \"Liquide inflammable\", \"UN_class\": \"3\", \"UN_packing_group\": null, \"ADR_tunnel_code\": null}]}, \"reasoning___transport_constraints\": \"The document includes transporter commitments and insurance clauses, but no explicit vehicle type, body type, tail lift, or crane details are provided.\", \"transport_constraints\": {\"vehicle_type\": null, \"body_type\": null, \"tail_lift\": null, \"crane\": null}}]}',\n",
       "    'refusal': None,\n",
       "    'role': 'assistant',\n",
       "    'audio': None,\n",
       "    'function_call': None,\n",
       "    'tool_calls': [],\n",
       "    'parsed': {'booking_id': 'SHIP-001',\n",
       "     'payment': {'total_price': 1500, 'currency': 'EUR'},\n",
       "     'client': {'company_name': 'Acme Corporation',\n",
       "      'VAT_number': 'GB123456789',\n",
       "      'city': 'London',\n",
       "      'postal_code': 'WC2N 5DU',\n",
       "      'country': 'GB',\n",
       "      'code': None,\n",
       "      'email': 'client@acme.com'},\n",
       "     'shipments': [{'shipment_id': 'SHIP-001',\n",
       "       'sender': {'company_name': 'Acme Corporation',\n",
       "        'address': {'city': 'London',\n",
       "         'postal_code': 'WC2N 5DU',\n",
       "         'country': 'GB',\n",
       "         'line1': '123 Elm Street',\n",
       "         'line2': 'Suite 500'},\n",
       "        'phone_number': None,\n",
       "        'email_address': None,\n",
       "        'pickup_datetime': {'date': '2023-05-02',\n",
       "         'start_time': '08:00:00',\n",
       "         'end_time': '12:00:00'},\n",
       "        'observations': 'Pickup at Acme Corporation as per provided address in billing section.'},\n",
       "       'recipient': {'company_name': 'Beta Industries',\n",
       "        'address': {'city': 'Munich',\n",
       "         'postal_code': '80331',\n",
       "         'country': 'DE',\n",
       "         'line1': '789 Pine Street',\n",
       "         'line2': None},\n",
       "        'phone_number': '+49 89 123456',\n",
       "        'email_address': None,\n",
       "        'delivery_datetime': {'date': '2023-05-03',\n",
       "         'start_time': '10:00:00',\n",
       "         'end_time': '16:00:00'},\n",
       "        'observations': 'Delivery at Beta Industries as per the provided location details.'},\n",
       "       'goods': {'packing': {'units': 10,\n",
       "         'packing_type': 'pallet',\n",
       "         'supplementary_parcels': None,\n",
       "         'pallets_on_ground': 5,\n",
       "         'number_eur_pallet': 5,\n",
       "         'observation': '10 units refer to individual items; 5 palettes are used for transport.'},\n",
       "        'dimensions': {'loading_meters': 0.4, 'volume': 1.44},\n",
       "        'weight': 500,\n",
       "        'temperature_infos': {'min_temperature': 5,\n",
       "         'max_temperature': 25,\n",
       "         'category': 'Fresh'},\n",
       "        'dangerous_goods_infos': [{'weight': None,\n",
       "          'UN_code': 1202,\n",
       "          'UN_label': 'Liquide inflammable',\n",
       "          'UN_class': '3',\n",
       "          'UN_packing_group': None,\n",
       "          'ADR_tunnel_code': None}]},\n",
       "       'transport_constraints': {'vehicle_type': None,\n",
       "        'body_type': None,\n",
       "        'tail_lift': None,\n",
       "        'crane': None}}]},\n",
       "    'annotations': []}}],\n",
       " 'created': 1741952095,\n",
       " 'model': 'o3-mini-2025-01-31',\n",
       " 'object': 'chat.completion',\n",
       " 'service_tier': 'default',\n",
       " 'system_fingerprint': 'fp_42bfad963b',\n",
       " 'usage': {'completion_tokens': 2093,\n",
       "  'prompt_tokens': 13724,\n",
       "  'total_tokens': 15817,\n",
       "  'completion_tokens_details': {'accepted_prediction_tokens': 0,\n",
       "   'audio_tokens': 0,\n",
       "   'reasoning_tokens': 896,\n",
       "   'rejected_prediction_tokens': 0},\n",
       "  'prompt_tokens_details': {'audio_tokens': 0, 'cached_tokens': 12800}},\n",
       " 'likelihoods': {},\n",
       " 'schema_validation_error': None,\n",
       " 'request_at': datetime.datetime(2025, 3, 14, 11, 34, 55, 188963, tzinfo=TzInfo(UTC)),\n",
       " 'first_token_at': datetime.datetime(2025, 3, 14, 11, 35, 13, 842959, tzinfo=TzInfo(UTC)),\n",
       " 'last_token_at': datetime.datetime(2025, 3, 14, 11, 35, 13, 842959, tzinfo=TzInfo(UTC))}"
      ]
     },
     "execution_count": 7,
     "metadata": {},
     "output_type": "execute_result"
    }
   ],
   "source": [
    "completion.model_dump()"
   ]
  },
  {
   "cell_type": "code",
   "execution_count": 13,
   "id": "14819628-9780-4c55-8eb3-c86a545ba772",
   "metadata": {},
   "outputs": [],
   "source": [
    "import json\n",
    "from uiform import UiForm, Schema\n",
    "from openai import OpenAI\n",
    "\n",
    "with open(\"freight/schema.json\", \"r\") as f:\n",
    "    json_schema = json.load(f)\n",
    "\n",
    "\n",
    "uiclient = UiForm()\n",
    "doc_msg = uiclient.documents.create_messages(\n",
    "    document = \"/Users/sachaichbiah/CUBE_local/monorepo/backend/data/freight_documents/BookingConfirmation.pdf\",\n",
    "    modality=\"text\"\n",
    ")\n",
    "\n",
    "schema_obj = Schema(\n",
    "    json_schema = json_schema\n",
    ")\n",
    "\n",
    "\n",
    "# Now you can use your favorite model to analyze your document\n",
    "client = OpenAI()\n",
    "completion = client.beta.chat.completions.parse(\n",
    "    model=\"o3-mini\", \n",
    "    messages=schema_obj.openai_messages + doc_msg.openai_messages,\n",
    "    response_format={\n",
    "        \"type\": \"json_schema\",\n",
    "        \"json_schema\": {\n",
    "            \"name\": schema_obj.id,\n",
    "            \"schema\": schema_obj.inference_json_schema,\n",
    "            \"strict\": True\n",
    "        }\n",
    "    },\n",
    "    reasoning_effort=\"low\"\n",
    ")"
   ]
  },
  {
   "cell_type": "code",
   "execution_count": 14,
   "id": "038fb495",
   "metadata": {},
   "outputs": [
    {
     "data": {
      "text/plain": [
       "{'id': 'chatcmpl-BAxgkNL6zHDXV4suMFdbMfZ5MjLog',\n",
       " 'choices': [{'finish_reason': 'stop',\n",
       "   'index': 0,\n",
       "   'logprobs': None,\n",
       "   'message': {'content': '{\\n  \"reasoning___root\": \"This document is a booking confirmation (confirmation d\\'affrètement) issued on 30/11/23 by TRANSPORTS DU VEXIN. It provides details for a single shipment with specified pickup and delivery instructions, pricing, and special instructions. Key parties include the issuer TRANSPORTS DU VEXIN (client/billing party) and the recipient GROUSSARD for the proof of contact information; however, the shipment itself is arranged from FORAGE MECANIQUE DE PRECISION (sender) to MAN ENERGY SOLUTIONS (recipient). The document specifies transport times, cargo details, pricing and payment terms, and several operational instructions. Some fields, like vehicle type and specific equipment needs, are not explicitly provided and have been left as null.\",\\n  \"booking_id\": \"2311523D\",\\n  \"payment\": {\\n    \"total_price\": 183.00,\\n    \"currency\": \"EUR\"\\n  },\\n  \"client\": {\\n    \"company_name\": \"TRANSPORTS DU VEXIN\",\\n    \"reasoning___VAT_number\": \"The document lists \\'TVA/CEE : FR 93 391 294 535\\'. Removing spaces provides the VAT number FR93391294535. It is located near the SIRET number in the header information.\",\\n    \"VAT_number\": \"FR93391294535\",\\n    \"city\": \"VIGNY\",\\n    \"postal_code\": \"95450\",\\n    \"country\": \"FR\",\\n    \"code\": null,\\n    \"email\": \"b.morin75@orange.fr\"\\n  },\\n  \"reasoning___shipments\": \"The document contains details for a single shipment. The shipment includes a cargo described as \\'1 CAISSE 98X98X67 - 1500KG\\'. The pickup and delivery details are explicitly provided with exact dates and time windows. Sender and recipient information are clearly delineated in the document with full addresses and contact cues. The document also provides special instructions regarding fragile materials and prohibition of reaffrètement without agreement.\",\\n  \"shipments\": [\\n    {\\n      \"shipment_id\": null,\\n      \"reasoning___sender\": \"The sender information is provided under the \\'Chargement\\' section. The sender is FORAGE MECANIQUE DE PRECISION with address details: \\'4 RUE DU RAPPORTEUR, ZA DES BETHUNES, 95310 ST-OUEN-L\\'AUMONE\\'. Contact details are sparse although the document does not list a phone number or email here. The pickup date is clearly given as 01/12/23 before 15:00 (CHARGEMENT LE 01/12 AVANT 15H).\",\\n      \"sender\": {\\n        \"company_name\": \"FORAGE MECANIQUE DE PRECISION\",\\n        \"address\": {\\n          \"city\": \"ST-OUEN-L\\'AUMONE\",\\n          \"postal_code\": \"95310\",\\n          \"country\": \"FR\",\\n          \"line1\": \"4 RUE DU RAPPORTEUR\",\\n          \"line2\": \"ZA DES BETHUNES\"\\n        },\\n        \"phone_number\": null,\\n        \"email_address\": null,\\n        \"pickup_datetime\": {\\n          \"date\": \"2023-12-01\",\\n          \"start_time\": null,\\n          \"end_time\": null\\n        },\\n        \"observations\": \"Pickup must occur before 15:00 as indicated by \\'CHARGEMENT LE 01/12 AVANT 15H\\'.\"\\n      },\\n      \"reasoning___recipient\": \"The recipient details are provided under the \\'Livraison\\' section. The recipient is MAN ENERGY SOLUTIONS located at \\'8 AVENUE ANTOINE BOURDELLE, PORTE 7, 44600 ST-NAZAIRE\\'. The document indicates a delivery date of either 04/12/23 or 05/12/23. The earlier date (04/12/23) is chosen for documentation.\",\\n      \"recipient\": {\\n        \"company_name\": \"MAN ENERGY SOLUTIONS\",\\n        \"address\": {\\n          \"city\": \"ST-NAZAIRE\",\\n          \"postal_code\": \"44600\",\\n          \"country\": \"FR\",\\n          \"line1\": \"8 AVENUE ANTOINE BOURDELLE\",\\n          \"line2\": \"PORTE 7\"\\n        },\\n        \"phone_number\": null,\\n        \"email_address\": null,\\n        \"delivery_datetime\": {\\n          \"date\": \"2023-12-04\",\\n          \"start_time\": null,\\n          \"end_time\": null\\n        },\\n        \"observations\": \"Delivery can occur on 04/12/23 or 05/12/23; the earlier date was selected for documentation.\"\\n      },\\n      \"reasoning___goods\": \"The cargo is described as a single crate (\\'1 CAISSE\\') with dimensions given as 98X98X67 cm and a weight of 1500KG. No additional dangerous goods or special handling (aside from arrimage for fragile materials) details are provided explicitly.\",\\n      \"goods\": {\\n        \"packing\": {\\n          \"units\": 1,\\n          \"packing_type\": \"other\",\\n          \"supplementary_parcels\": null,\\n          \"reasoning___pallets_on_ground\": \"Since the cargo is a single crate and not a pallet, no floor pallet equivalent calculation is applicable.\",\\n          \"pallets_on_ground\": null,\\n          \"number_eur_pallet\": 0,\\n          \"observation\": \"Item is described as a \\'CAISSE\\' which typically is not considered a standard pallet.\"\\n        },\\n        \"dimensions\": {\\n          \"reasoning___loading_meters\": \"Dimensions provided are 98 cm x 98 cm. Converting to meters (0.98 x 0.98) and dividing by truck width (2.4 m) gives (0.98*0.98)/2.4 = 0.9604/2.4 ≈ 0.40 loading meters.\",\\n          \"loading_meters\": 0.40,\\n          \"reasoning___volume\": \"Volume calculated as: 0.98 m * 0.98 m * 0.67 m ≈ 0.643 cubic meters.\",\\n          \"volume\": 0.64\\n        },\\n        \"weight\": 1500,\\n        \"temperature_infos\": {\\n          \"min_temperature\": null,\\n          \"max_temperature\": null,\\n          \"category\": null\\n        },\\n        \"reasoning___dangerous_goods_infos\": \"There is no mention of dangerous goods in the document.\",\\n        \"dangerous_goods_infos\": []\\n      },\\n      \"reasoning___transport_constraints\": \"The document includes several operational instructions: No reaffrètement is allowed without explicit agreement, fragile materials require proper arrimage, and no load change is allowed without consent. However, there are no explicit details regarding vehicle type or specific equipment aside from these instructions.\",\\n      \"transport_constraints\": {\\n        \"vehicle_type\": null,\\n        \"body_type\": null,\\n        \"tail_lift\": null,\\n        \"crane\": null\\n      }\\n    }\\n  ]\\n}',\n",
       "    'refusal': None,\n",
       "    'role': 'assistant',\n",
       "    'audio': None,\n",
       "    'function_call': None,\n",
       "    'tool_calls': [],\n",
       "    'parsed': None,\n",
       "    'annotations': []}}],\n",
       " 'created': 1741952422,\n",
       " 'model': 'o3-mini-2025-01-31',\n",
       " 'object': 'chat.completion',\n",
       " 'service_tier': 'default',\n",
       " 'system_fingerprint': 'fp_42bfad963b',\n",
       " 'usage': {'completion_tokens': 2180,\n",
       "  'prompt_tokens': 13209,\n",
       "  'total_tokens': 15389,\n",
       "  'completion_tokens_details': {'accepted_prediction_tokens': 0,\n",
       "   'audio_tokens': 0,\n",
       "   'reasoning_tokens': 704,\n",
       "   'rejected_prediction_tokens': 0},\n",
       "  'prompt_tokens_details': {'audio_tokens': 0, 'cached_tokens': 12544}}}"
      ]
     },
     "execution_count": 14,
     "metadata": {},
     "output_type": "execute_result"
    }
   ],
   "source": [
    "completion.model_dump()"
   ]
  },
  {
   "cell_type": "code",
   "execution_count": null,
   "id": "5d89017b",
   "metadata": {},
   "outputs": [],
   "source": []
  }
 ],
 "metadata": {
  "kernelspec": {
   "display_name": "base",
   "language": "python",
   "name": "python3"
  },
  "language_info": {
   "codemirror_mode": {
    "name": "ipython",
    "version": 3
   },
   "file_extension": ".py",
   "mimetype": "text/x-python",
   "name": "python",
   "nbconvert_exporter": "python",
   "pygments_lexer": "ipython3",
   "version": "3.12.4"
  }
 },
 "nbformat": 4,
 "nbformat_minor": 5
}
