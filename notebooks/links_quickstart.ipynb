{
    "cells": [
        {
            "cell_type": "markdown",
            "id": "95c7e96e",
            "metadata": {},
            "source": [
                "# Step 0 : Create an API key, load your env file and retab client"
            ]
        },
        {
            "cell_type": "code",
            "execution_count": 1,
            "id": "b8f77dd0-24cf-4f4d-b5ac-4568eda04ac4",
            "metadata": {},
            "outputs": [],
            "source": [
                "from dotenv import load_dotenv\n",
                "#assert load_dotenv(\"../.env.local\") \n",
                "assert load_dotenv(\"../.env.production\") \n",
                "\n",
                "from retab import Retab\n",
                "from airbnb.airbnb import Deck\n",
                "\n",
                "reclient = Retab()"
            ]
        },
        {
            "cell_type": "markdown",
            "id": "4685bd32",
            "metadata": {},
            "source": [
                "# Step 1 : Create a new processor"
            ]
        },
        {
            "cell_type": "code",
            "execution_count": 2,
            "id": "e7311090-d2a2-41fe-a47e-4530eac60466",
            "metadata": {},
            "outputs": [
                {
                    "name": "stdout",
                    "output_type": "stream",
                    "text": [
                        "Processor ID: proc_n_93jqQuCy1M08N3cDLjh. Processor available at https://www.retab.dev/dashboard/processors/proc_n_93jqQuCy1M08N3cDLjh\n"
                    ]
                }
            ],
            "source": [
                "from retab import Retab\n",
                "\n",
                "# Step 1: Create a processor with your extraction configuration\n",
                "processor = reclient.processors.create(\n",
                "    name=\"Invoice Processor\",\n",
                "    model=\"gpt-4o-mini\",\n",
                "    modality=\"native\",\n",
                "    json_schema={\n",
                "        \"X-SystemPrompt\": \"You are an expert at analyzing invoice documents.\",\n",
                "        \"properties\": {\n",
                "            \"total_amount\": {\n",
                "                \"type\": \"number\",\n",
                "                \"description\": \"The total invoice amount\",\n",
                "            },\n",
                "            \"date\": {\n",
                "                \"type\": \"string\",\n",
                "                \"description\": \"Invoice date in YYYY-MM-DD format\",\n",
                "                \"X-ReasoningPrompt\": \"Look for dates labeled as 'Invoice Date', 'Date', etc.\"\n",
                "            }\n",
                "        },\n",
                "        \"required\": [\"total_amount\", \"date\"]\n",
                "    }\n",
                ")\n"
            ]
        },
        {
            "cell_type": "code",
            "execution_count": 5,
            "id": "304cac22-31a8-4b92-950b-69a61a7c7f33",
            "metadata": {},
            "outputs": [
                {
                    "name": "stdout",
                    "output_type": "stream",
                    "text": [
                        "Mailbox invoicees@mailbox.retab.dev created. Url: https://www.retab.dev/dashboard/processors/automations/mb_dAq38KAQmvemQem-Clr-K\n",
                        "✅ Processor created: proc_Er-BFMGLzLivWndSH6Jul\n",
                        "✅ Mailbox created: invoicees@mailbox.retab.dev\n"
                    ]
                }
            ],
            "source": [
                "# Step 2: Create a mailbox automation and attach it to the processor\n",
                "link = reclient.processors.automations.links.create(\n",
                "    name=\"Invoices Link\",\n",
                "    processor_id=processor.id,\n",
                "    webhook_url=\"https://your-server.com/webhook\",  # Replace with your actual webhook URL\n",
                ")"
            ]
        },
        {
            "cell_type": "markdown",
            "id": "0f13fd41-a69f-42a8-a531-f945aeaafe73",
            "metadata": {},
            "source": [
                "# Step 2 : Create a new link"
            ]
        },
        {
            "cell_type": "code",
            "execution_count": 7,
            "id": "cc97a1aa-e03b-49e4-9a37-6a83e2b54ceb",
            "metadata": {},
            "outputs": [
                {
                    "name": "stdout",
                    "output_type": "stream",
                    "text": [
                        "Link Created. Url: https://www.retab.dev/dashboard/processors/automations/lnk_zr0LB9rjnDemYiTOALXdF\n"
                    ]
                }
            ],
            "source": []
        },
        {
            "cell_type": "markdown",
            "id": "3e8d409c-bb0d-4f57-98dd-09e452ff0020",
            "metadata": {},
            "source": [
                "# Step 3 : Test the integration"
            ]
        },
        {
            "cell_type": "code",
            "execution_count": 7,
            "id": "b25d2e06-4bac-4d22-8ac1-85e9e113ec1c",
            "metadata": {},
            "outputs": [
                {
                    "name": "stdout",
                    "output_type": "stream",
                    "text": [
                        "\n",
                        "TEST WEBHOOK RESULTS:\n",
                        "\n",
                        "#########################\n",
                        "Status Code: 200\n",
                        "Duration: 123.32ms\n",
                        "\n",
                        "--------------\n",
                        "RESPONSE BODY:\n",
                        "--------------\n",
                        "{\n",
                        "  \"message\": \"Webhook received\"\n",
                        "}\n",
                        "\n",
                        "--------------\n",
                        "RESPONSE HEADERS:\n",
                        "--------------\n",
                        "{\n",
                        "  \"date\": \"Mon, 03 Feb 2025 16:13:38 GMT\",\n",
                        "  \"server\": \"uvicorn\",\n",
                        "  \"content-length\": \"30\",\n",
                        "  \"content-type\": \"application/json\"\n",
                        "}\n"
                    ]
                }
            ],
            "source": [
                "log = reclient.processors.automations.links.tests.webhook(\n",
                "    link_id=link_obj.id\n",
                ")"
            ]
        },
        {
            "cell_type": "code",
            "execution_count": 9,
            "id": "dba535d0-7a05-47ce-b874-474b322ef177",
            "metadata": {},
            "outputs": [
                {
                    "name": "stdout",
                    "output_type": "stream",
                    "text": [
                        "\n",
                        "TEST FILE UPLOAD RESULTS:\n",
                        "\n",
                        "#########################\n",
                        "Status Code: 200\n",
                        "Duration: 48.77ms\n",
                        "\n",
                        "--------------\n",
                        "RESPONSE BODY:\n",
                        "--------------\n",
                        "{\n",
                        "  \"message\": \"Webhook received\"\n",
                        "}\n",
                        "\n",
                        "--------------\n",
                        "RESPONSE HEADERS:\n",
                        "--------------\n",
                        "{\n",
                        "  \"date\": \"Mon, 03 Feb 2025 16:13:59 GMT\",\n",
                        "  \"server\": \"uvicorn\",\n",
                        "  \"content-length\": \"30\",\n",
                        "  \"content-type\": \"application/json\"\n",
                        "}\n"
                    ]
                }
            ],
            "source": [
                "log = reclient.processors.automations.links.tests.upload(\n",
                "    link_id=link_obj.id,\n",
                "    document=\"airbnb/airbnb_pitch_deck.pdf\"\n",
                ")"
            ]
        },
        {
            "cell_type": "code",
            "execution_count": 18,
            "id": "fd05e4e4-4320-459a-9694-bbc5839a732b",
            "metadata": {},
            "outputs": [
                {
                    "data": {
                        "text/plain": [
                            "1.3"
                        ]
                    },
                    "execution_count": 18,
                    "metadata": {},
                    "output_type": "execute_result"
                }
            ],
            "source": [
                "0.13* 10"
            ]
        },
        {
            "cell_type": "code",
            "execution_count": 23,
            "id": "813d53d8-da36-4097-a64f-6c2c827535ce",
            "metadata": {},
            "outputs": [
                {
                    "data": {
                        "text/plain": [
                            "UUID('a7bffa50-ffcd-447a-9dc7-f54df8cdac32')"
                        ]
                    },
                    "execution_count": 23,
                    "metadata": {},
                    "output_type": "execute_result"
                }
            ],
            "source": [
                "import uuid\n",
                "uuid.uuid4()"
            ]
        },
        {
            "cell_type": "code",
            "execution_count": null,
            "id": "ac7b33f9-f220-4573-8d00-2fc980745232",
            "metadata": {},
            "outputs": [],
            "source": []
        }
    ],
    "metadata": {
        "kernelspec": {
            "display_name": "Python 3",
            "language": "python",
            "name": "python3"
        },
        "language_info": {
            "codemirror_mode": {
                "name": "ipython",
                "version": 3
            },
            "file_extension": ".py",
            "mimetype": "text/x-python",
            "name": "python",
            "nbconvert_exporter": "python",
            "pygments_lexer": "ipython3",
            "version": "3.12.7"
        }
    },
    "nbformat": 4,
    "nbformat_minor": 5
}
