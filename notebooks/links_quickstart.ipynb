{
    "cells": [
        {
            "cell_type": "markdown",
            "id": "95c7e96e",
            "metadata": {},
            "source": [
                "# Step 0 : Create an API key, load your env file and retab client"
            ]
        },
        {
            "cell_type": "code",
            "execution_count": 1,
            "id": "b8f77dd0-24cf-4f4d-b5ac-4568eda04ac4",
            "metadata": {},
            "outputs": [],
            "source": [
                "from dotenv import load_dotenv\n",
                "#assert load_dotenv(\"../.env.local\") \n",
                "assert load_dotenv(\"../.env.production\") \n",
                "\n",
                "from retab import Retab\n",
                "from airbnb.airbnb import Deck\n",
                "\n",
                "reclient = Retab()"
            ]
        },
        {
            "cell_type": "markdown",
            "id": "4685bd32",
            "metadata": {},
            "source": [
                "# Step 1 : Create a new processor"
            ]
        },
        {
            "cell_type": "code",
            "execution_count": 3,
            "id": "e7311090-d2a2-41fe-a47e-4530eac60466",
            "metadata": {},
            "outputs": [
                {
                    "name": "stdout",
                    "output_type": "stream",
                    "text": [
                        "Processor ID: proc_Er-BFMGLzLivWndSH6Jul. Processor available at https://www.retab.dev/dashboard/processors/proc_Er-BFMGLzLivWndSH6Jul\n"
                    ]
                }
            ],
            "source": [
                "from retab import Retab\n",
                "\n",
                "# Step 1: Create a processor with your extraction configuration\n",
                "processor = reclient.processors.create(\n",
                "    name=\"Invoice Processor\",\n",
                "    model=\"gpt-4o-mini\",\n",
                "    modality=\"native\",\n",
                "    json_schema={\n",
                "        \"X-SystemPrompt\": \"You are an expert at analyzing invoice documents.\",\n",
                "        \"properties\": {\n",
                "            \"total_amount\": {\n",
                "                \"type\": \"number\",\n",
                "                \"description\": \"The total invoice amount\",\n",
                "            },\n",
                "            \"date\": {\n",
                "                \"type\": \"string\",\n",
                "                \"description\": \"Invoice date in YYYY-MM-DD format\",\n",
                "                \"X-ReasoningPrompt\": \"Look for dates labeled as 'Invoice Date', 'Date', etc.\"\n",
                "            }\n",
                "        },\n",
                "        \"required\": [\"total_amount\", \"date\"]\n",
                "    }\n",
                ")\n"
            ]
        },
        {
            "cell_type": "code",
            "execution_count": 5,
            "id": "304cac22-31a8-4b92-950b-69a61a7c7f33",
            "metadata": {},
            "outputs": [
                {
                    "name": "stdout",
                    "output_type": "stream",
                    "text": [
                        "Mailbox invoicees@mailbox.retab.dev created. Url: https://www.retab.dev/dashboard/processors/automations/mb_dAq38KAQmvemQem-Clr-K\n",
                        "✅ Processor created: proc_Er-BFMGLzLivWndSH6Jul\n",
                        "✅ Mailbox created: invoicees@mailbox.retab.dev\n"
                    ]
                }
            ],
            "source": []
        },
        {
            "cell_type": "markdown",
            "id": "0f13fd41-a69f-42a8-a531-f945aeaafe73",
            "metadata": {},
            "source": [
                "# Step 2 : Create a new link"
            ]
        },
        {
            "cell_type": "code",
            "execution_count": 9,
            "id": "cc97a1aa-e03b-49e4-9a37-6a83e2b54ceb",
            "metadata": {},
            "outputs": [
                {
                    "ename": "RuntimeError",
                    "evalue": "Request failed (400): {\"detail\":{\"code\":\"LINK_NAME_ALREADY_EXISTS\",\"message\":\"A link with this name already exists. Link id: lnk_Jrpo4_mjDAnHL4upAiloY\",\"details\":null}}",
                    "output_type": "error",
                    "traceback": [
                        "\u001b[31m---------------------------------------------------------------------------\u001b[39m",
                        "\u001b[31mRuntimeError\u001b[39m                              Traceback (most recent call last)",
                        "\u001b[36mCell\u001b[39m\u001b[36m \u001b[39m\u001b[32mIn[9]\u001b[39m\u001b[32m, line 2\u001b[39m\n\u001b[32m      1\u001b[39m \u001b[38;5;66;03m# Step 2: Create a mailbox automation and attach it to the processor\u001b[39;00m\n\u001b[32m----> \u001b[39m\u001b[32m2\u001b[39m link = \u001b[43mreclient\u001b[49m\u001b[43m.\u001b[49m\u001b[43mprocessors\u001b[49m\u001b[43m.\u001b[49m\u001b[43mautomations\u001b[49m\u001b[43m.\u001b[49m\u001b[43mlinks\u001b[49m\u001b[43m.\u001b[49m\u001b[43mcreate\u001b[49m\u001b[43m(\u001b[49m\n\u001b[32m      3\u001b[39m \u001b[43m    \u001b[49m\u001b[43mname\u001b[49m\u001b[43m=\u001b[49m\u001b[33;43m\"\u001b[39;49m\u001b[33;43mInvoice Link\u001b[39;49m\u001b[33;43m\"\u001b[39;49m\u001b[43m,\u001b[49m\n\u001b[32m      4\u001b[39m \u001b[43m    \u001b[49m\u001b[43mprocessor_id\u001b[49m\u001b[43m=\u001b[49m\u001b[43mprocessor\u001b[49m\u001b[43m.\u001b[49m\u001b[43mid\u001b[49m\u001b[43m,\u001b[49m\n\u001b[32m      5\u001b[39m \u001b[43m    \u001b[49m\u001b[43mwebhook_url\u001b[49m\u001b[43m=\u001b[49m\u001b[33;43m\"\u001b[39;49m\u001b[33;43mhttps://your-server.com/webhook\u001b[39;49m\u001b[33;43m\"\u001b[39;49m\u001b[43m,\u001b[49m\u001b[43m  \u001b[49m\u001b[38;5;66;43;03m# Replace with your actual webhook URL\u001b[39;49;00m\n\u001b[32m      6\u001b[39m \u001b[43m)\u001b[49m\n\u001b[32m      8\u001b[39m \u001b[38;5;28mprint\u001b[39m(\u001b[33mf\u001b[39m\u001b[33m\"\u001b[39m\u001b[33m✅ Processor created: \u001b[39m\u001b[38;5;132;01m{\u001b[39;00mprocessor.id\u001b[38;5;132;01m}\u001b[39;00m\u001b[33m\"\u001b[39m)\n",
                        "\u001b[36mFile \u001b[39m\u001b[32m~/.local/lib/python3.12/site-packages/retab/resources/processors/automations/links.py:129\u001b[39m, in \u001b[36mLinks.create\u001b[39m\u001b[34m(self, processor_id, name, webhook_url, webhook_headers, need_validation, password)\u001b[39m\n\u001b[32m    103\u001b[39m \u001b[38;5;250m\u001b[39m\u001b[33;03m\"\"\"Create a new extraction link configuration.\u001b[39;00m\n\u001b[32m    104\u001b[39m \n\u001b[32m    105\u001b[39m \u001b[33;03mArgs:\u001b[39;00m\n\u001b[32m   (...)\u001b[39m\u001b[32m    118\u001b[39m \u001b[33;03m    Link: The created extraction link configuration\u001b[39;00m\n\u001b[32m    119\u001b[39m \u001b[33;03m\"\"\"\u001b[39;00m\n\u001b[32m    121\u001b[39m request = \u001b[38;5;28mself\u001b[39m.prepare_create(\n\u001b[32m    122\u001b[39m     processor_id=processor_id,\n\u001b[32m    123\u001b[39m     name=name,\n\u001b[32m   (...)\u001b[39m\u001b[32m    127\u001b[39m     password=password,\n\u001b[32m    128\u001b[39m )\n\u001b[32m--> \u001b[39m\u001b[32m129\u001b[39m response = \u001b[38;5;28;43mself\u001b[39;49m\u001b[43m.\u001b[49m\u001b[43m_client\u001b[49m\u001b[43m.\u001b[49m\u001b[43m_prepared_request\u001b[49m\u001b[43m(\u001b[49m\u001b[43mrequest\u001b[49m\u001b[43m)\u001b[49m\n\u001b[32m    131\u001b[39m \u001b[38;5;28mprint\u001b[39m(\u001b[33mf\u001b[39m\u001b[33m\"\u001b[39m\u001b[33mLink Created. Url: https://www.retab.dev/dashboard/processors/automations/\u001b[39m\u001b[38;5;132;01m{\u001b[39;00mresponse[\u001b[33m'\u001b[39m\u001b[33mid\u001b[39m\u001b[33m'\u001b[39m]\u001b[38;5;132;01m}\u001b[39;00m\u001b[33m\"\u001b[39m)\n\u001b[32m    132\u001b[39m \u001b[38;5;28;01mreturn\u001b[39;00m Link.model_validate(response)\n",
                        "\u001b[36mFile \u001b[39m\u001b[32m~/.local/lib/python3.12/site-packages/retab/client.py:370\u001b[39m, in \u001b[36mRetab._prepared_request\u001b[39m\u001b[34m(self, request)\u001b[39m\n\u001b[32m    369\u001b[39m \u001b[38;5;28;01mdef\u001b[39;00m\u001b[38;5;250m \u001b[39m\u001b[34m_prepared_request\u001b[39m(\u001b[38;5;28mself\u001b[39m, request: PreparedRequest) -> Any:\n\u001b[32m--> \u001b[39m\u001b[32m370\u001b[39m     \u001b[38;5;28;01mreturn\u001b[39;00m \u001b[38;5;28;43mself\u001b[39;49m\u001b[43m.\u001b[49m\u001b[43m_request\u001b[49m\u001b[43m(\u001b[49m\n\u001b[32m    371\u001b[39m \u001b[43m        \u001b[49m\u001b[43mmethod\u001b[49m\u001b[43m=\u001b[49m\u001b[43mrequest\u001b[49m\u001b[43m.\u001b[49m\u001b[43mmethod\u001b[49m\u001b[43m,\u001b[49m\n\u001b[32m    372\u001b[39m \u001b[43m        \u001b[49m\u001b[43mendpoint\u001b[49m\u001b[43m=\u001b[49m\u001b[43mrequest\u001b[49m\u001b[43m.\u001b[49m\u001b[43murl\u001b[49m\u001b[43m,\u001b[49m\n\u001b[32m    373\u001b[39m \u001b[43m        \u001b[49m\u001b[43mdata\u001b[49m\u001b[43m=\u001b[49m\u001b[43mrequest\u001b[49m\u001b[43m.\u001b[49m\u001b[43mdata\u001b[49m\u001b[43m,\u001b[49m\n\u001b[32m    374\u001b[39m \u001b[43m        \u001b[49m\u001b[43mparams\u001b[49m\u001b[43m=\u001b[49m\u001b[43mrequest\u001b[49m\u001b[43m.\u001b[49m\u001b[43mparams\u001b[49m\u001b[43m,\u001b[49m\n\u001b[32m    375\u001b[39m \u001b[43m        \u001b[49m\u001b[43mform_data\u001b[49m\u001b[43m=\u001b[49m\u001b[43mrequest\u001b[49m\u001b[43m.\u001b[49m\u001b[43mform_data\u001b[49m\u001b[43m,\u001b[49m\n\u001b[32m    376\u001b[39m \u001b[43m        \u001b[49m\u001b[43mfiles\u001b[49m\u001b[43m=\u001b[49m\u001b[43mrequest\u001b[49m\u001b[43m.\u001b[49m\u001b[43mfiles\u001b[49m\u001b[43m,\u001b[49m\n\u001b[32m    377\u001b[39m \u001b[43m        \u001b[49m\u001b[43midempotency_key\u001b[49m\u001b[43m=\u001b[49m\u001b[43mrequest\u001b[49m\u001b[43m.\u001b[49m\u001b[43midempotency_key\u001b[49m\u001b[43m,\u001b[49m\n\u001b[32m    378\u001b[39m \u001b[43m        \u001b[49m\u001b[43mraise_for_status\u001b[49m\u001b[43m=\u001b[49m\u001b[43mrequest\u001b[49m\u001b[43m.\u001b[49m\u001b[43mraise_for_status\u001b[49m\u001b[43m,\u001b[49m\n\u001b[32m    379\u001b[39m \u001b[43m    \u001b[49m\u001b[43m)\u001b[49m\n",
                        "\u001b[36mFile \u001b[39m\u001b[32m~/.local/lib/python3.12/site-packages/retab/client.py:278\u001b[39m, in \u001b[36mRetab._request\u001b[39m\u001b[34m(self, method, endpoint, data, params, form_data, files, idempotency_key, raise_for_status)\u001b[39m\n\u001b[32m    276\u001b[39m     \u001b[38;5;28;01mreturn\u001b[39;00m raw_request()\n\u001b[32m    277\u001b[39m \u001b[38;5;28;01melse\u001b[39;00m:\n\u001b[32m--> \u001b[39m\u001b[32m278\u001b[39m     \u001b[38;5;28;01mreturn\u001b[39;00m \u001b[43mwrapped_request\u001b[49m\u001b[43m(\u001b[49m\u001b[43m)\u001b[49m\n",
                        "\u001b[36mFile \u001b[39m\u001b[32m~/.local/lib/python3.12/site-packages/backoff/_sync.py:105\u001b[39m, in \u001b[36mretry_exception.<locals>.retry\u001b[39m\u001b[34m(*args, **kwargs)\u001b[39m\n\u001b[32m     96\u001b[39m details = {\n\u001b[32m     97\u001b[39m     \u001b[33m\"\u001b[39m\u001b[33mtarget\u001b[39m\u001b[33m\"\u001b[39m: target,\n\u001b[32m     98\u001b[39m     \u001b[33m\"\u001b[39m\u001b[33margs\u001b[39m\u001b[33m\"\u001b[39m: args,\n\u001b[32m   (...)\u001b[39m\u001b[32m    101\u001b[39m     \u001b[33m\"\u001b[39m\u001b[33melapsed\u001b[39m\u001b[33m\"\u001b[39m: elapsed,\n\u001b[32m    102\u001b[39m }\n\u001b[32m    104\u001b[39m \u001b[38;5;28;01mtry\u001b[39;00m:\n\u001b[32m--> \u001b[39m\u001b[32m105\u001b[39m     ret = \u001b[43mtarget\u001b[49m\u001b[43m(\u001b[49m\u001b[43m*\u001b[49m\u001b[43margs\u001b[49m\u001b[43m,\u001b[49m\u001b[43m \u001b[49m\u001b[43m*\u001b[49m\u001b[43m*\u001b[49m\u001b[43mkwargs\u001b[49m\u001b[43m)\u001b[49m\n\u001b[32m    106\u001b[39m \u001b[38;5;28;01mexcept\u001b[39;00m exception \u001b[38;5;28;01mas\u001b[39;00m e:\n\u001b[32m    107\u001b[39m     max_tries_exceeded = (tries == max_tries_value)\n",
                        "\u001b[36mFile \u001b[39m\u001b[32m~/.local/lib/python3.12/site-packages/retab/client.py:272\u001b[39m, in \u001b[36mRetab._request.<locals>.wrapped_request\u001b[39m\u001b[34m()\u001b[39m\n\u001b[32m    270\u001b[39m \u001b[38;5;129m@backoff\u001b[39m.on_exception(backoff.expo, httpx.HTTPStatusError, max_tries=\u001b[38;5;28mself\u001b[39m.max_retries + \u001b[32m1\u001b[39m, on_giveup=raise_max_tries_exceeded)\n\u001b[32m    271\u001b[39m \u001b[38;5;28;01mdef\u001b[39;00m\u001b[38;5;250m \u001b[39m\u001b[34mwrapped_request\u001b[39m() -> Any:\n\u001b[32m--> \u001b[39m\u001b[32m272\u001b[39m     \u001b[38;5;28;01mreturn\u001b[39;00m \u001b[43mraw_request\u001b[49m\u001b[43m(\u001b[49m\u001b[43m)\u001b[49m\n",
                        "\u001b[36mFile \u001b[39m\u001b[32m~/.local/lib/python3.12/site-packages/retab/client.py:267\u001b[39m, in \u001b[36mRetab._request.<locals>.raw_request\u001b[39m\u001b[34m()\u001b[39m\n\u001b[32m    264\u001b[39m     request_kwargs[\u001b[33m\"\u001b[39m\u001b[33mjson\u001b[39m\u001b[33m\"\u001b[39m] = data\n\u001b[32m    266\u001b[39m response = \u001b[38;5;28mself\u001b[39m.client.request(**request_kwargs)\n\u001b[32m--> \u001b[39m\u001b[32m267\u001b[39m \u001b[38;5;28;43mself\u001b[39;49m\u001b[43m.\u001b[49m\u001b[43m_validate_response\u001b[49m\u001b[43m(\u001b[49m\u001b[43mresponse\u001b[49m\u001b[43m)\u001b[49m\n\u001b[32m    268\u001b[39m \u001b[38;5;28;01mreturn\u001b[39;00m \u001b[38;5;28mself\u001b[39m._parse_response(response)\n",
                        "\u001b[36mFile \u001b[39m\u001b[32m~/.local/lib/python3.12/site-packages/retab/client.py:118\u001b[39m, in \u001b[36mBaseRetab._validate_response\u001b[39m\u001b[34m(self, response_object)\u001b[39m\n\u001b[32m    116\u001b[39m     \u001b[38;5;28;01mraise\u001b[39;00m \u001b[38;5;167;01mRuntimeError\u001b[39;00m(\u001b[33mf\u001b[39m\u001b[33m\"\u001b[39m\u001b[33mValidation error (422): \u001b[39m\u001b[38;5;132;01m{\u001b[39;00mresponse_object.text\u001b[38;5;132;01m}\u001b[39;00m\u001b[33m\"\u001b[39m)\n\u001b[32m    117\u001b[39m \u001b[38;5;28;01melif\u001b[39;00m \u001b[38;5;129;01mnot\u001b[39;00m response_object.is_success:\n\u001b[32m--> \u001b[39m\u001b[32m118\u001b[39m     \u001b[38;5;28;01mraise\u001b[39;00m \u001b[38;5;167;01mRuntimeError\u001b[39;00m(\u001b[33mf\u001b[39m\u001b[33m\"\u001b[39m\u001b[33mRequest failed (\u001b[39m\u001b[38;5;132;01m{\u001b[39;00mresponse_object.status_code\u001b[38;5;132;01m}\u001b[39;00m\u001b[33m): \u001b[39m\u001b[38;5;132;01m{\u001b[39;00mresponse_object.text\u001b[38;5;132;01m}\u001b[39;00m\u001b[33m\"\u001b[39m)\n",
                        "\u001b[31mRuntimeError\u001b[39m: Request failed (400): {\"detail\":{\"code\":\"LINK_NAME_ALREADY_EXISTS\",\"message\":\"A link with this name already exists. Link id: lnk_Jrpo4_mjDAnHL4upAiloY\",\"details\":null}}"
                    ]
                }
            ],
            "source": [
                "# Step 2: Create a mailbox automation and attach it to the processor\n",
                "link = reclient.processors.automations.links.create(\n",
                "    name=\"Invoice Link\",\n",
                "    processor_id=processor.id,\n",
                "    webhook_url=\"https://your-server.com/webhook\",  # Replace with your actual webhook URL\n",
                ")\n",
                "\n",
                "print(f\"✅ Processor created: {processor.id}\")"
            ]
        },
        {
            "cell_type": "markdown",
            "id": "3e8d409c-bb0d-4f57-98dd-09e452ff0020",
            "metadata": {},
            "source": [
                "# Step 3 : Test the integration"
            ]
        },
        {
            "cell_type": "code",
            "execution_count": 7,
            "id": "b25d2e06-4bac-4d22-8ac1-85e9e113ec1c",
            "metadata": {},
            "outputs": [
                {
                    "name": "stdout",
                    "output_type": "stream",
                    "text": [
                        "\n",
                        "TEST WEBHOOK RESULTS:\n",
                        "\n",
                        "#########################\n",
                        "Status Code: 200\n",
                        "Duration: 123.32ms\n",
                        "\n",
                        "--------------\n",
                        "RESPONSE BODY:\n",
                        "--------------\n",
                        "{\n",
                        "  \"message\": \"Webhook received\"\n",
                        "}\n",
                        "\n",
                        "--------------\n",
                        "RESPONSE HEADERS:\n",
                        "--------------\n",
                        "{\n",
                        "  \"date\": \"Mon, 03 Feb 2025 16:13:38 GMT\",\n",
                        "  \"server\": \"uvicorn\",\n",
                        "  \"content-length\": \"30\",\n",
                        "  \"content-type\": \"application/json\"\n",
                        "}\n"
                    ]
                }
            ],
            "source": [
                "log = reclient.processors.automations.links.tests.webhook(\n",
                "    link_id=link_obj.id\n",
                ")"
            ]
        },
        {
            "cell_type": "code",
            "execution_count": 9,
            "id": "dba535d0-7a05-47ce-b874-474b322ef177",
            "metadata": {},
            "outputs": [
                {
                    "name": "stdout",
                    "output_type": "stream",
                    "text": [
                        "\n",
                        "TEST FILE UPLOAD RESULTS:\n",
                        "\n",
                        "#########################\n",
                        "Status Code: 200\n",
                        "Duration: 48.77ms\n",
                        "\n",
                        "--------------\n",
                        "RESPONSE BODY:\n",
                        "--------------\n",
                        "{\n",
                        "  \"message\": \"Webhook received\"\n",
                        "}\n",
                        "\n",
                        "--------------\n",
                        "RESPONSE HEADERS:\n",
                        "--------------\n",
                        "{\n",
                        "  \"date\": \"Mon, 03 Feb 2025 16:13:59 GMT\",\n",
                        "  \"server\": \"uvicorn\",\n",
                        "  \"content-length\": \"30\",\n",
                        "  \"content-type\": \"application/json\"\n",
                        "}\n"
                    ]
                }
            ],
            "source": [
                "log = reclient.processors.automations.links.tests.upload(\n",
                "    link_id=link_obj.id,\n",
                "    document=\"airbnb/airbnb_pitch_deck.pdf\"\n",
                ")"
            ]
        },
        {
            "cell_type": "code",
            "execution_count": 18,
            "id": "fd05e4e4-4320-459a-9694-bbc5839a732b",
            "metadata": {},
            "outputs": [
                {
                    "data": {
                        "text/plain": [
                            "1.3"
                        ]
                    },
                    "execution_count": 18,
                    "metadata": {},
                    "output_type": "execute_result"
                }
            ],
            "source": [
                "0.13* 10"
            ]
        },
        {
            "cell_type": "code",
            "execution_count": 23,
            "id": "813d53d8-da36-4097-a64f-6c2c827535ce",
            "metadata": {},
            "outputs": [
                {
                    "data": {
                        "text/plain": [
                            "UUID('a7bffa50-ffcd-447a-9dc7-f54df8cdac32')"
                        ]
                    },
                    "execution_count": 23,
                    "metadata": {},
                    "output_type": "execute_result"
                }
            ],
            "source": [
                "import uuid\n",
                "uuid.uuid4()"
            ]
        },
        {
            "cell_type": "code",
            "execution_count": null,
            "id": "ac7b33f9-f220-4573-8d00-2fc980745232",
            "metadata": {},
            "outputs": [],
            "source": []
        }
    ],
    "metadata": {
        "kernelspec": {
            "display_name": "Python 3",
            "language": "python",
            "name": "python3"
        },
        "language_info": {
            "codemirror_mode": {
                "name": "ipython",
                "version": 3
            },
            "file_extension": ".py",
            "mimetype": "text/x-python",
            "name": "python",
            "nbconvert_exporter": "python",
            "pygments_lexer": "ipython3",
            "version": "3.12.7"
        }
    },
    "nbformat": 4,
    "nbformat_minor": 5
}
