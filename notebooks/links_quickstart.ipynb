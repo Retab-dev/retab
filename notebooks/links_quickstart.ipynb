{
 "cells": [
  {
   "cell_type": "code",
   "execution_count": 10,
   "id": "b8f77dd0-24cf-4f4d-b5ac-4568eda04ac4",
   "metadata": {},
   "outputs": [],
   "source": [
    "from dotenv import load_dotenv\n",
    "assert load_dotenv(\"../.env.local\") \n",
    "\n",
    "from uiform import UiForm\n",
    "from airbnb.airbnb import Deck\n",
    "\n",
    "uiclient = UiForm()"
   ]
  },
  {
   "cell_type": "code",
   "execution_count": 21,
   "id": "49c284e7-f9c6-4962-a7db-fdb684572283",
   "metadata": {},
   "outputs": [
    {
     "data": {
      "text/plain": [
       "'{\"name\": \"Heppner\", \"website\": \"heppner.fr\", \"country\": \"FR\", \"reasoning___investors\": \"No investors explicitly mentioned in the documents.\", \"investors\": {\"name\": \"\", \"type\": \"investor\", \"relationship\": \"investor\"}, \"reasoning___competitors\": \"No competitors explicitly mentioned in the documents.\", \"competitors\": {\"name\": \"\", \"type\": \"startup\", \"relationship\": \"competitor\"}, \"reasoning___clients\": \"The documents mention Heppner Tours as a transport service provider, but no specific clients are identified.\", \"clients\": {\"name\": \"\", \"type\": \"corporate\", \"relationship\": \"client\"}, \"reasoning___team\": \"The team includes LORET NICOLAS as a contact person for Heppner Tours, but no additional team members are specified.\", \"team\": [{\"firstName\": \"LORET\"}]}'"
      ]
     },
     "execution_count": 21,
     "metadata": {},
     "output_type": "execute_result"
    }
   ],
   "source": [
    "\"\"\"{\\\"name\\\": \\\"Heppner\\\", \\\"website\\\": \\\"heppner.fr\\\", \\\"country\\\": \\\"FR\\\", \\\"reasoning___investors\\\": \\\"No investors explicitly mentioned in the documents.\\\", \\\"investors\\\": {\\\"name\\\": \\\"\\\", \\\"type\\\": \\\"investor\\\", \\\"relationship\\\": \\\"investor\\\"}, \\\"reasoning___competitors\\\": \\\"No competitors explicitly mentioned in the documents.\\\", \\\"competitors\\\": {\\\"name\\\": \\\"\\\", \\\"type\\\": \\\"startup\\\", \\\"relationship\\\": \\\"competitor\\\"}, \\\"reasoning___clients\\\": \\\"The documents mention Heppner Tours as a transport service provider, but no specific clients are identified.\\\", \\\"clients\\\": {\\\"name\\\": \\\"\\\", \\\"type\\\": \\\"corporate\\\", \\\"relationship\\\": \\\"client\\\"}, \\\"reasoning___team\\\": \\\"The team includes LORET NICOLAS as a contact person for Heppner Tours, but no additional team members are specified.\\\", \\\"team\\\": [{\\\"firstName\\\": \\\"LORET\\\"}]}\"\"\""
   ]
  },
  {
   "cell_type": "code",
   "execution_count": 13,
   "id": "b690c300-674b-458b-bba8-fdbcc9285d80",
   "metadata": {},
   "outputs": [],
   "source": [
    "from openai import OpenAI\n",
    "client = OpenAI()"
   ]
  },
  {
   "cell_type": "code",
   "execution_count": 16,
   "id": "8bb8903e-3aea-4dec-9a62-a38165dec50a",
   "metadata": {},
   "outputs": [
    {
     "name": "stdout",
     "output_type": "stream",
     "text": [
      "gpt-4o-mini-audio-preview\n",
      "gpt-4o-mini-audio-preview-2024-12-17\n",
      "gpt-4o-2024-08-06\n",
      "gpt-4o-mini-realtime-preview\n",
      "dall-e-2\n",
      "gpt-4o\n",
      "o1-mini-2024-09-12\n",
      "o1-preview-2024-09-12\n",
      "o1-mini\n",
      "o1-preview\n",
      "whisper-1\n",
      "dall-e-3\n",
      "gpt-4-turbo\n",
      "gpt-4-turbo-preview\n",
      "gpt-4o-audio-preview\n",
      "gpt-4o-audio-preview-2024-10-01\n",
      "gpt-4o-2024-11-20\n",
      "babbage-002\n",
      "omni-moderation-latest\n",
      "omni-moderation-2024-09-26\n",
      "tts-1-hd-1106\n",
      "o3-mini\n",
      "o3-mini-2025-01-31\n",
      "chatgpt-4o-latest\n",
      "gpt-4o-2024-05-13\n",
      "tts-1-hd\n",
      "o1\n",
      "o1-2024-12-17\n",
      "gpt-4-turbo-2024-04-09\n",
      "tts-1\n",
      "gpt-3.5-turbo-16k\n",
      "tts-1-1106\n",
      "davinci-002\n",
      "gpt-4o-mini-realtime-preview-2024-12-17\n",
      "gpt-3.5-turbo-1106\n",
      "gpt-4o-mini-2024-07-18\n",
      "gpt-3.5-turbo-instruct\n",
      "gpt-4o-mini\n",
      "gpt-4o-realtime-preview-2024-10-01\n",
      "gpt-3.5-turbo-instruct-0914\n",
      "gpt-3.5-turbo-0125\n",
      "gpt-4o-audio-preview-2024-12-17\n",
      "gpt-4o-realtime-preview-2024-12-17\n",
      "gpt-3.5-turbo\n",
      "text-embedding-3-large\n",
      "gpt-4o-realtime-preview\n",
      "text-embedding-3-small\n",
      "gpt-4\n",
      "gpt-4-0125-preview\n",
      "gpt-4-1106-preview\n",
      "text-embedding-ada-002\n",
      "gpt-4-0613\n",
      "ft:gpt-3.5-turbo-0125:personal::9MOqgOay:ckpt-step-902\n",
      "ft:gpt-3.5-turbo-0125:personal::9MOqgBd1:ckpt-step-1804\n",
      "ft:gpt-3.5-turbo-0125:personal::9MOqgZds\n",
      "ft:gpt-4o-mini-2024-07-18:personal::ANfMGuob:ckpt-step-72\n",
      "ft:gpt-4o-mini-2024-07-18:personal::ANfMGG3s:ckpt-step-84\n",
      "ft:gpt-4o-mini-2024-07-18:personal::ANfMGzEj\n",
      "ft:gpt-4o-2024-08-06:cube:bert-and-you-2024-10-29-v0:ANlJhBaO:ckpt-step-238\n",
      "ft:gpt-4o-2024-08-06:cube:bert-and-you-2024-10-29-v0:ANlJiFMP:ckpt-step-476\n",
      "ft:gpt-4o-2024-08-06:cube:bert-and-you-2024-10-29-v0:ANlJiKIa\n"
     ]
    }
   ],
   "source": [
    "res = client.models.list()\n",
    "for model in res.data: \n",
    "    print(model.id)"
   ]
  },
  {
   "cell_type": "markdown",
   "id": "e7234696-4dd1-4d6c-9b15-c370772531ba",
   "metadata": {},
   "source": [
    "# Step 1 : Store securely your API key in the secrets "
   ]
  },
  {
   "cell_type": "code",
   "execution_count": 3,
   "id": "f140b8a8-43a0-4a9a-9e42-cfbfe6031fca",
   "metadata": {},
   "outputs": [
    {
     "data": {
      "text/plain": [
       "{'status': 'success', 'message': 'OpenAI API key updated successfully'}"
      ]
     },
     "execution_count": 3,
     "metadata": {},
     "output_type": "execute_result"
    }
   ],
   "source": [
    "import os\n",
    "\n",
    "uiclient.secrets.external_api_keys.create(\n",
    "    provider=\"OpenAI\", \n",
    "    api_key=os.getenv(\"OPENAI_API_KEY\")\n",
    ")"
   ]
  },
  {
   "cell_type": "markdown",
   "id": "0f13fd41-a69f-42a8-a531-f945aeaafe73",
   "metadata": {},
   "source": [
    "# Step 2 : Create a new link"
   ]
  },
  {
   "cell_type": "code",
   "execution_count": 5,
   "id": "cc97a1aa-e03b-49e4-9a37-6a83e2b54ceb",
   "metadata": {},
   "outputs": [
    {
     "name": "stdout",
     "output_type": "stream",
     "text": [
      "Extraction Link Created. Link available at https://uiform.com/links/lnk_4771c9e0-bf04-46d5-ad5b-34834700830f\n"
     ]
    }
   ],
   "source": [
    "from tqdm import tqdm\n",
    "\n",
    "link_obj = uiclient.automations.links.create(\n",
    "    name=\"invoices-test\", \n",
    "    model=\"gpt-4o-mini\",\n",
    "    json_schema=Deck.model_json_schema(), \n",
    "    webhook_url='http://localhost:4000/test-webhook',\n",
    ")"
   ]
  },
  {
   "cell_type": "code",
   "execution_count": null,
   "id": "c688517a-979a-49b7-93d2-3db99c1b7c52",
   "metadata": {},
   "outputs": [],
   "source": [
    "# To delete the object\n",
    "#uiclient.automations.links.delete(\n",
    "#    link_id=\"lnk_ecf3c0c6-7234-4057-874e-ea80e90e3b6c\"\n",
    "#)   "
   ]
  },
  {
   "cell_type": "markdown",
   "id": "3e8d409c-bb0d-4f57-98dd-09e452ff0020",
   "metadata": {},
   "source": [
    "# Step 3 : Test the integration"
   ]
  },
  {
   "cell_type": "code",
   "execution_count": 7,
   "id": "b25d2e06-4bac-4d22-8ac1-85e9e113ec1c",
   "metadata": {},
   "outputs": [
    {
     "name": "stdout",
     "output_type": "stream",
     "text": [
      "\n",
      "TEST WEBHOOK RESULTS:\n",
      "\n",
      "#########################\n",
      "Status Code: 200\n",
      "Duration: 123.32ms\n",
      "\n",
      "--------------\n",
      "RESPONSE BODY:\n",
      "--------------\n",
      "{\n",
      "  \"message\": \"Webhook received\"\n",
      "}\n",
      "\n",
      "--------------\n",
      "RESPONSE HEADERS:\n",
      "--------------\n",
      "{\n",
      "  \"date\": \"Mon, 03 Feb 2025 16:13:38 GMT\",\n",
      "  \"server\": \"uvicorn\",\n",
      "  \"content-length\": \"30\",\n",
      "  \"content-type\": \"application/json\"\n",
      "}\n"
     ]
    }
   ],
   "source": [
    "log = uiclient.automations.links.tests.webhook(\n",
    "    link_id=link_obj.id\n",
    ")"
   ]
  },
  {
   "cell_type": "code",
   "execution_count": 9,
   "id": "dba535d0-7a05-47ce-b874-474b322ef177",
   "metadata": {},
   "outputs": [
    {
     "name": "stdout",
     "output_type": "stream",
     "text": [
      "\n",
      "TEST FILE UPLOAD RESULTS:\n",
      "\n",
      "#########################\n",
      "Status Code: 200\n",
      "Duration: 48.77ms\n",
      "\n",
      "--------------\n",
      "RESPONSE BODY:\n",
      "--------------\n",
      "{\n",
      "  \"message\": \"Webhook received\"\n",
      "}\n",
      "\n",
      "--------------\n",
      "RESPONSE HEADERS:\n",
      "--------------\n",
      "{\n",
      "  \"date\": \"Mon, 03 Feb 2025 16:13:59 GMT\",\n",
      "  \"server\": \"uvicorn\",\n",
      "  \"content-length\": \"30\",\n",
      "  \"content-type\": \"application/json\"\n",
      "}\n"
     ]
    }
   ],
   "source": [
    "log = uiclient.automations.links.tests.upload(\n",
    "    link_id=link_obj.id,\n",
    "    document=\"airbnb/airbnb_pitch_deck.pdf\"\n",
    ")"
   ]
  },
  {
   "cell_type": "code",
   "execution_count": 18,
   "id": "fd05e4e4-4320-459a-9694-bbc5839a732b",
   "metadata": {},
   "outputs": [
    {
     "data": {
      "text/plain": [
       "1.3"
      ]
     },
     "execution_count": 18,
     "metadata": {},
     "output_type": "execute_result"
    }
   ],
   "source": [
    "0.13* 10"
   ]
  },
  {
   "cell_type": "code",
   "execution_count": null,
   "id": "813d53d8-da36-4097-a64f-6c2c827535ce",
   "metadata": {},
   "outputs": [],
   "source": []
  }
 ],
 "metadata": {
  "kernelspec": {
   "display_name": "Python 3 (ipykernel)",
   "language": "python",
   "name": "python3"
  },
  "language_info": {
   "codemirror_mode": {
    "name": "ipython",
    "version": 3
   },
   "file_extension": ".py",
   "mimetype": "text/x-python",
   "name": "python",
   "nbconvert_exporter": "python",
   "pygments_lexer": "ipython3",
   "version": "3.12.4"
  }
 },
 "nbformat": 4,
 "nbformat_minor": 5
}
