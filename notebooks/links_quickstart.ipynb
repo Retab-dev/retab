{
 "cells": [
  {
   "cell_type": "code",
   "execution_count": 2,
   "id": "b8f77dd0-24cf-4f4d-b5ac-4568eda04ac4",
   "metadata": {},
   "outputs": [],
   "source": [
    "from dotenv import load_dotenv\n",
    "assert load_dotenv(\"../.env.local\") \n",
    "\n",
    "from uiform import UiForm\n",
    "from airbnb.airbnb import Deck\n",
    "\n",
    "uiclient = UiForm()"
   ]
  },
  {
   "cell_type": "markdown",
   "id": "e7234696-4dd1-4d6c-9b15-c370772531ba",
   "metadata": {},
   "source": [
    "# Step 1 : Store securely your API key in the secrets "
   ]
  },
  {
   "cell_type": "code",
   "execution_count": 3,
   "id": "f140b8a8-43a0-4a9a-9e42-cfbfe6031fca",
   "metadata": {},
   "outputs": [
    {
     "data": {
      "text/plain": [
       "{'status': 'success', 'message': 'OpenAI API key updated successfully'}"
      ]
     },
     "execution_count": 3,
     "metadata": {},
     "output_type": "execute_result"
    }
   ],
   "source": [
    "import os\n",
    "\n",
    "uiclient.secrets.external_api_keys.create(\n",
    "    provider=\"OpenAI\", \n",
    "    api_key=os.getenv(\"OPENAI_API_KEY\")\n",
    ")"
   ]
  },
  {
   "cell_type": "markdown",
   "id": "0f13fd41-a69f-42a8-a531-f945aeaafe73",
   "metadata": {},
   "source": [
    "# Step 2 : Create a new link"
   ]
  },
  {
   "cell_type": "code",
   "execution_count": 5,
   "id": "cc97a1aa-e03b-49e4-9a37-6a83e2b54ceb",
   "metadata": {},
   "outputs": [
    {
     "name": "stdout",
     "output_type": "stream",
     "text": [
      "Extraction Link Created. Link available at https://uiform.com/links/lnk_4771c9e0-bf04-46d5-ad5b-34834700830f\n"
     ]
    }
   ],
   "source": [
    "from tqdm import tqdm\n",
    "\n",
    "link_obj = uiclient.automations.links.create(\n",
    "    name=\"invoices-test\", \n",
    "    model=\"gpt-4o-mini\",\n",
    "    json_schema=Deck.model_json_schema(), \n",
    "    webhook_url='http://localhost:4000/test-webhook',\n",
    ")"
   ]
  },
  {
   "cell_type": "code",
   "execution_count": null,
   "id": "c688517a-979a-49b7-93d2-3db99c1b7c52",
   "metadata": {},
   "outputs": [],
   "source": [
    "# To delete the object\n",
    "#uiclient.automations.links.delete(\n",
    "#    link_id=\"lnk_ecf3c0c6-7234-4057-874e-ea80e90e3b6c\"\n",
    "#)   "
   ]
  },
  {
   "cell_type": "markdown",
   "id": "3e8d409c-bb0d-4f57-98dd-09e452ff0020",
   "metadata": {},
   "source": [
    "# Step 3 : Test the integration"
   ]
  },
  {
   "cell_type": "code",
   "execution_count": 7,
   "id": "b25d2e06-4bac-4d22-8ac1-85e9e113ec1c",
   "metadata": {},
   "outputs": [
    {
     "name": "stdout",
     "output_type": "stream",
     "text": [
      "\n",
      "TEST WEBHOOK RESULTS:\n",
      "\n",
      "#########################\n",
      "Status Code: 200\n",
      "Duration: 123.32ms\n",
      "\n",
      "--------------\n",
      "RESPONSE BODY:\n",
      "--------------\n",
      "{\n",
      "  \"message\": \"Webhook received\"\n",
      "}\n",
      "\n",
      "--------------\n",
      "RESPONSE HEADERS:\n",
      "--------------\n",
      "{\n",
      "  \"date\": \"Mon, 03 Feb 2025 16:13:38 GMT\",\n",
      "  \"server\": \"uvicorn\",\n",
      "  \"content-length\": \"30\",\n",
      "  \"content-type\": \"application/json\"\n",
      "}\n"
     ]
    }
   ],
   "source": [
    "log = uiclient.automations.links.tests.webhook(\n",
    "    link_id=link_obj.id\n",
    ")"
   ]
  },
  {
   "cell_type": "code",
   "execution_count": 9,
   "id": "dba535d0-7a05-47ce-b874-474b322ef177",
   "metadata": {},
   "outputs": [
    {
     "name": "stdout",
     "output_type": "stream",
     "text": [
      "\n",
      "TEST FILE UPLOAD RESULTS:\n",
      "\n",
      "#########################\n",
      "Status Code: 200\n",
      "Duration: 48.77ms\n",
      "\n",
      "--------------\n",
      "RESPONSE BODY:\n",
      "--------------\n",
      "{\n",
      "  \"message\": \"Webhook received\"\n",
      "}\n",
      "\n",
      "--------------\n",
      "RESPONSE HEADERS:\n",
      "--------------\n",
      "{\n",
      "  \"date\": \"Mon, 03 Feb 2025 16:13:59 GMT\",\n",
      "  \"server\": \"uvicorn\",\n",
      "  \"content-length\": \"30\",\n",
      "  \"content-type\": \"application/json\"\n",
      "}\n"
     ]
    }
   ],
   "source": [
    "log = uiclient.automations.links.tests.upload(\n",
    "    link_id=link_obj.id,\n",
    "    document=\"airbnb/airbnb_pitch_deck.pdf\"\n",
    ")"
   ]
  },
  {
   "cell_type": "code",
   "execution_count": null,
   "id": "fd05e4e4-4320-459a-9694-bbc5839a732b",
   "metadata": {},
   "outputs": [],
   "source": []
  }
 ],
 "metadata": {
  "kernelspec": {
   "display_name": "Python 3 (ipykernel)",
   "language": "python",
   "name": "python3"
  },
  "language_info": {
   "codemirror_mode": {
    "name": "ipython",
    "version": 3
   },
   "file_extension": ".py",
   "mimetype": "text/x-python",
   "name": "python",
   "nbconvert_exporter": "python",
   "pygments_lexer": "ipython3",
   "version": "3.12.4"
  }
 },
 "nbformat": 4,
 "nbformat_minor": 5
}
