{
    "cells": [
        {
            "cell_type": "code",
            "execution_count": 1,
            "id": "b8f77dd0-24cf-4f4d-b5ac-4568eda04ac4",
            "metadata": {},
            "outputs": [],
            "source": [
                "from dotenv import load_dotenv\n",
                "assert load_dotenv(\"../.env.local\") \n",
                "\n",
                "from retab import Retab\n",
                "from airbnb.airbnb import Deck\n",
                "\n",
                "reclient = Retab()"
            ]
        },
        {
            "cell_type": "code",
            "execution_count": null,
            "id": "f85004a6-26cc-4680-8312-9c4a9c764ee5",
            "metadata": {},
            "outputs": [],
            "source": []
        },
        {
            "cell_type": "code",
            "execution_count": null,
            "id": "b8d5f62f-e464-4096-a6cd-eb1b46d161c4",
            "metadata": {},
            "outputs": [],
            "source": []
        },
        {
            "cell_type": "markdown",
            "id": "e7234696-4dd1-4d6c-9b15-c370772531ba",
            "metadata": {},
            "source": [
                "# Step 1 : Store securely your API key in the secrets "
            ]
        },
        {
            "cell_type": "code",
            "execution_count": 4,
            "id": "f140b8a8-43a0-4a9a-9e42-cfbfe6031fca",
            "metadata": {},
            "outputs": [
                {
                    "data": {
                        "text/plain": [
                            "{'status': 'success', 'message': 'OpenAI API key updated successfully'}"
                        ]
                    },
                    "execution_count": 4,
                    "metadata": {},
                    "output_type": "execute_result"
                }
            ],
            "source": [
                "import os\n",
                "\n",
                "reclient.secrets.external_api_keys.create(\n",
                "    provider=\"OpenAI\", \n",
                "    api_key=os.getenv(\"OPENAI_API_KEY\")\n",
                ")"
            ]
        },
        {
            "cell_type": "markdown",
            "id": "0f13fd41-a69f-42a8-a531-f945aeaafe73",
            "metadata": {},
            "source": [
                "# Step 2 : Create a mailbox"
            ]
        },
        {
            "cell_type": "code",
            "execution_count": 2,
            "id": "cc97a1aa-e03b-49e4-9a37-6a83e2b54ceb",
            "metadata": {},
            "outputs": [
                {
                    "ename": "AttributeError",
                    "evalue": "'Mailboxes' object has no attribute 'process'",
                    "output_type": "error",
                    "traceback": [
                        "\u001b[0;31m---------------------------------------------------------------------------\u001b[0m",
                        "\u001b[0;31mAttributeError\u001b[0m                            Traceback (most recent call last)",
                        "Cell \u001b[0;32mIn[2], line 3\u001b[0m\n\u001b[1;32m      1\u001b[0m \u001b[38;5;28;01mfrom\u001b[39;00m\u001b[38;5;250m \u001b[39m\u001b[38;5;21;01mtqdm\u001b[39;00m\u001b[38;5;250m \u001b[39m\u001b[38;5;28;01mimport\u001b[39;00m tqdm\n\u001b[0;32m----> 3\u001b[0m mailbox_obj \u001b[38;5;241m=\u001b[39m \u001b[43mreclient\u001b[49m\u001b[38;5;241;43m.\u001b[39;49m\u001b[43mautomations\u001b[49m\u001b[38;5;241;43m.\u001b[39;49m\u001b[43mmailboxes\u001b[49m\u001b[38;5;241;43m.\u001b[39;49m\u001b[43mprocess\u001b[49m(\n\u001b[1;32m      4\u001b[0m     email\u001b[38;5;241m=\u001b[39m\u001b[38;5;124m\"\u001b[39m\u001b[38;5;124mtest-mailbox-local@devmail.retab.dev\u001b[39m\u001b[38;5;124m\"\u001b[39m, \n\u001b[1;32m      5\u001b[0m     model\u001b[38;5;241m=\u001b[39m\u001b[38;5;124m\"\u001b[39m\u001b[38;5;124mgpt-4o-mini\u001b[39m\u001b[38;5;124m\"\u001b[39m,\n\u001b[1;32m      6\u001b[0m     json_schema\u001b[38;5;241m=\u001b[39mCompany\u001b[38;5;241m.\u001b[39mmodel_json_schema(), \n\u001b[1;32m      7\u001b[0m     webhook_url\u001b[38;5;241m=\u001b[39m\u001b[38;5;124m'\u001b[39m\u001b[38;5;124mhttp://localhost:4000/test-webhook\u001b[39m\u001b[38;5;124m'\u001b[39m,\n\u001b[1;32m      8\u001b[0m )\n",
                        "\u001b[0;31mAttributeError\u001b[0m: 'Mailboxes' object has no attribute 'process'"
                    ]
                }
            ],
            "source": [
                "from tqdm import tqdm\n",
                "\n",
                "mailbox_obj = reclient.processors.automations.mailboxes.create(\n",
                "    email=\"test-mailbox-local@devmail.retab.dev\", \n",
                "    model=\"gpt-4o-mini\",\n",
                "    json_schema=Company.model_json_schema(), \n",
                "    webhook_url='http://localhost:4000/test-webhook',\n",
                ")"
            ]
        },
        {
            "cell_type": "code",
            "execution_count": null,
            "id": "14791bcb-ee87-49c0-b097-ee7dcf3791d6",
            "metadata": {},
            "outputs": [],
            "source": [
                "# To delete the object\n",
                "#reclient.processors.automations.mailboxes.delete(\n",
                "#    email=\"test-mailbox@mailbox.retab.dev\"\n",
                "#)\n",
                "    "
            ]
        },
        {
            "cell_type": "markdown",
            "id": "3e8d409c-bb0d-4f57-98dd-09e452ff0020",
            "metadata": {},
            "source": [
                "# Step 3 : Test the integration"
            ]
        },
        {
            "cell_type": "code",
            "execution_count": 5,
            "id": "b25d2e06-4bac-4d22-8ac1-85e9e113ec1c",
            "metadata": {},
            "outputs": [
                {
                    "name": "stdout",
                    "output_type": "stream",
                    "text": [
                        "\n",
                        "TEST WEBHOOK RESULTS:\n",
                        "\n",
                        "#########################\n",
                        "Status Code: 200\n",
                        "Duration: 45.82ms\n",
                        "\n",
                        "--------------\n",
                        "RESPONSE BODY:\n",
                        "--------------\n",
                        "{\n",
                        "  \"message\": \"Webhook received\"\n",
                        "}\n",
                        "\n",
                        "--------------\n",
                        "RESPONSE HEADERS:\n",
                        "--------------\n",
                        "{\n",
                        "  \"date\": \"Wed, 05 Feb 2025 17:54:38 GMT\",\n",
                        "  \"server\": \"uvicorn\",\n",
                        "  \"content-length\": \"30\",\n",
                        "  \"content-type\": \"application/json\"\n",
                        "}\n"
                    ]
                }
            ],
            "source": [
                "log = reclient.processors.automations.mailboxes.tests.webhook(\n",
                "    email=\"test-mailbox-local@devmail.retab.dev\", \n",
                "    webhook_url=\"http://localhost:4000/test-webhook\"\n",
                ")"
            ]
        },
        {
            "cell_type": "code",
            "execution_count": 17,
            "id": "dba535d0-7a05-47ce-b874-474b322ef177",
            "metadata": {},
            "outputs": [
                {
                    "name": "stdout",
                    "output_type": "stream",
                    "text": [
                        "\n",
                        "TEST EMAIL PROCESSING RESULTS:\n",
                        "\n",
                        "#########################\n",
                        "Status Code: 200\n",
                        "Duration: 53.70ms\n",
                        "\n",
                        "--------------\n",
                        "RESPONSE BODY:\n",
                        "--------------\n",
                        "{\n",
                        "  \"message\": \"Webhook received\"\n",
                        "}\n",
                        "\n",
                        "--------------\n",
                        "RESPONSE HEADERS:\n",
                        "--------------\n",
                        "{\n",
                        "  \"date\": \"Mon, 03 Feb 2025 16:01:56 GMT\",\n",
                        "  \"server\": \"uvicorn\",\n",
                        "  \"content-length\": \"30\",\n",
                        "  \"content-type\": \"application/json\"\n",
                        "}\n"
                    ]
                }
            ],
            "source": [
                "log = reclient.processors.automations.mailboxes.tests.process(\n",
                "    email=\"test-mailbox-local@devmail.retab.dev\", \n",
                "    document=\"sample_email.eml\"\n",
                ")"
            ]
        },
        {
            "cell_type": "code",
            "execution_count": 19,
            "id": "30ae5593-be76-400c-a5e9-9929a4bc7e99",
            "metadata": {},
            "outputs": [
                {
                    "name": "stdout",
                    "output_type": "stream",
                    "text": [
                        "\n",
                        "TEST EMAIL FORWARDING RESULTS:\n",
                        "\n",
                        "#########################\n",
                        "Email ID: \n",
                        "Subject: FW: Bureaux Cube AI\n",
                        "From: <noreply@retab.dev>\n",
                        "To: <test-mailbox-local@devmail.retab.dev>\n",
                        "Sent at: 2025-02-03 16:02:23.433405\n",
                        "Attachments: 0\n"
                    ]
                }
            ],
            "source": [
                "log = reclient.processors.automations.mailboxes.tests.forward(\n",
                "    email=\"test-mailbox-local@devmail.retab.dev\", \n",
                "    document=\"bureaux_cube_ai.eml\"\n",
                ")"
            ]
        },
        {
            "cell_type": "code",
            "execution_count": null,
            "id": "7d93fbea-003e-4409-bd7e-a1a0ef93a7d6",
            "metadata": {},
            "outputs": [],
            "source": []
        }
    ],
    "metadata": {
        "kernelspec": {
            "display_name": "Python 3 (ipykernel)",
            "language": "python",
            "name": "python3"
        },
        "language_info": {
            "codemirror_mode": {
                "name": "ipython",
                "version": 3
            },
            "file_extension": ".py",
            "mimetype": "text/x-python",
            "name": "python",
            "nbconvert_exporter": "python",
            "pygments_lexer": "ipython3",
            "version": "3.12.4"
        }
    },
    "nbformat": 4,
    "nbformat_minor": 5
}