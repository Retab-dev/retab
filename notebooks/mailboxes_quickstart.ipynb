{
 "cells": [
  {
   "cell_type": "code",
   "execution_count": 1,
   "id": "b8f77dd0-24cf-4f4d-b5ac-4568eda04ac4",
   "metadata": {},
   "outputs": [],
   "source": [
    "from dotenv import load_dotenv\n",
    "assert load_dotenv(\"../.env.local\") \n",
    "\n",
    "from uiform import UiForm\n",
    "from airbnb.airbnb import Deck\n",
    "\n",
    "uiclient = UiForm()"
   ]
  },
  {
   "cell_type": "markdown",
   "id": "e7234696-4dd1-4d6c-9b15-c370772531ba",
   "metadata": {},
   "source": [
    "# Step 1 : Store securely your API key in the secrets "
   ]
  },
  {
   "cell_type": "code",
   "execution_count": 4,
   "id": "f140b8a8-43a0-4a9a-9e42-cfbfe6031fca",
   "metadata": {},
   "outputs": [
    {
     "data": {
      "text/plain": [
       "{'status': 'success', 'message': 'OpenAI API key updated successfully'}"
      ]
     },
     "execution_count": 4,
     "metadata": {},
     "output_type": "execute_result"
    }
   ],
   "source": [
    "import os\n",
    "\n",
    "uiclient.secrets.external_api_keys.create(\n",
    "    provider=\"OpenAI\", \n",
    "    api_key=os.getenv(\"OPENAI_API_KEY\")\n",
    ")"
   ]
  },
  {
   "cell_type": "markdown",
   "id": "0f13fd41-a69f-42a8-a531-f945aeaafe73",
   "metadata": {},
   "source": [
    "# Step 2 : Create a mailbox"
   ]
  },
  {
   "cell_type": "code",
   "execution_count": 5,
   "id": "cc97a1aa-e03b-49e4-9a37-6a83e2b54ceb",
   "metadata": {},
   "outputs": [],
   "source": [
    "from tqdm import tqdm\n",
    "\n",
    "mailbox_obj = uiclient.automations.mailboxes.create(\n",
    "    email=\"test-mailbox-local@devmail.uiform.com\", \n",
    "    model=\"gpt-4o-mini\",\n",
    "    json_schema=Company.model_json_schema(), \n",
    "    webhook_url='http://localhost:4000/test-webhook',\n",
    ")"
   ]
  },
  {
   "cell_type": "code",
   "execution_count": null,
   "id": "14791bcb-ee87-49c0-b097-ee7dcf3791d6",
   "metadata": {},
   "outputs": [],
   "source": [
    "# To delete the object\n",
    "#uiclient.automations.mailboxes.delete(\n",
    "#    email=\"test-mailbox@mailbox.uiform.com\"\n",
    "#)\n",
    "    "
   ]
  },
  {
   "cell_type": "markdown",
   "id": "3e8d409c-bb0d-4f57-98dd-09e452ff0020",
   "metadata": {},
   "source": [
    "# Step 3 : Test the integration"
   ]
  },
  {
   "cell_type": "code",
   "execution_count": 16,
   "id": "b25d2e06-4bac-4d22-8ac1-85e9e113ec1c",
   "metadata": {},
   "outputs": [
    {
     "name": "stdout",
     "output_type": "stream",
     "text": [
      "\n",
      "TEST WEBHOOK RESULTS:\n",
      "\n",
      "#########################\n",
      "Status Code: 200\n",
      "Duration: 50.75ms\n",
      "\n",
      "--------------\n",
      "RESPONSE BODY:\n",
      "--------------\n",
      "{\n",
      "  \"message\": \"Webhook received\"\n",
      "}\n",
      "\n",
      "--------------\n",
      "RESPONSE HEADERS:\n",
      "--------------\n",
      "{\n",
      "  \"date\": \"Mon, 03 Feb 2025 16:01:36 GMT\",\n",
      "  \"server\": \"uvicorn\",\n",
      "  \"content-length\": \"30\",\n",
      "  \"content-type\": \"application/json\"\n",
      "}\n"
     ]
    }
   ],
   "source": [
    "log = uiclient.automations.mailboxes.tests.webhook(\n",
    "    email=\"test-mailbox-local@devmail.uiform.com\", \n",
    ")"
   ]
  },
  {
   "cell_type": "code",
   "execution_count": 17,
   "id": "dba535d0-7a05-47ce-b874-474b322ef177",
   "metadata": {},
   "outputs": [
    {
     "name": "stdout",
     "output_type": "stream",
     "text": [
      "\n",
      "TEST EMAIL PROCESSING RESULTS:\n",
      "\n",
      "#########################\n",
      "Status Code: 200\n",
      "Duration: 53.70ms\n",
      "\n",
      "--------------\n",
      "RESPONSE BODY:\n",
      "--------------\n",
      "{\n",
      "  \"message\": \"Webhook received\"\n",
      "}\n",
      "\n",
      "--------------\n",
      "RESPONSE HEADERS:\n",
      "--------------\n",
      "{\n",
      "  \"date\": \"Mon, 03 Feb 2025 16:01:56 GMT\",\n",
      "  \"server\": \"uvicorn\",\n",
      "  \"content-length\": \"30\",\n",
      "  \"content-type\": \"application/json\"\n",
      "}\n"
     ]
    }
   ],
   "source": [
    "log = uiclient.automations.mailboxes.tests.process(\n",
    "    email=\"test-mailbox-local@devmail.uiform.com\", \n",
    "    document=\"sample_email.eml\"\n",
    ")"
   ]
  },
  {
   "cell_type": "code",
   "execution_count": 19,
   "id": "30ae5593-be76-400c-a5e9-9929a4bc7e99",
   "metadata": {},
   "outputs": [
    {
     "name": "stdout",
     "output_type": "stream",
     "text": [
      "\n",
      "TEST EMAIL FORWARDING RESULTS:\n",
      "\n",
      "#########################\n",
      "Email ID: \n",
      "Subject: FW: Bureaux Cube AI\n",
      "From: <noreply@uiform.com>\n",
      "To: <test-mailbox-local@devmail.uiform.com>\n",
      "Sent at: 2025-02-03 16:02:23.433405\n",
      "Attachments: 0\n"
     ]
    }
   ],
   "source": [
    "log = uiclient.automations.mailboxes.tests.forward(\n",
    "    email=\"test-mailbox-local@devmail.uiform.com\", \n",
    "    document=\"bureaux_cube_ai.eml\"\n",
    ")"
   ]
  },
  {
   "cell_type": "code",
   "execution_count": null,
   "id": "7d93fbea-003e-4409-bd7e-a1a0ef93a7d6",
   "metadata": {},
   "outputs": [],
   "source": []
  }
 ],
 "metadata": {
  "kernelspec": {
   "display_name": "Python 3 (ipykernel)",
   "language": "python",
   "name": "python3"
  },
  "language_info": {
   "codemirror_mode": {
    "name": "ipython",
    "version": 3
   },
   "file_extension": ".py",
   "mimetype": "text/x-python",
   "name": "python",
   "nbconvert_exporter": "python",
   "pygments_lexer": "ipython3",
   "version": "3.12.4"
  }
 },
 "nbformat": 4,
 "nbformat_minor": 5
}
