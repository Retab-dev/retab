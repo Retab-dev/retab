{
 "cells": [
  {
   "cell_type": "markdown",
   "id": "1a2a2fd0-c8ce-4142-8499-ab79701b50f4",
   "metadata": {},
   "source": [
    "### Setup your environnement variables"
   ]
  },
  {
   "cell_type": "code",
   "execution_count": 1,
   "id": "5400407f-31cc-4ad1-89fa-04ee2d482d1b",
   "metadata": {},
   "outputs": [],
   "source": [
    "import os\n",
    "\n",
    "os.environ[\"OPENAI_API_KEY\"] = \"YOUR API KEY\"\n",
    "os.environ[\"UIFORM_API_KEY\"] = \"YOUR API KEY\" # go to https://uiform.com to create your API Key"
   ]
  },
  {
   "cell_type": "markdown",
   "id": "e873ea72-2fa6-4233-8e0d-9f220aeb4a36",
   "metadata": {},
   "source": [
    "# Get started"
   ]
  },
  {
   "cell_type": "code",
   "execution_count": 2,
   "id": "e5bfe9bd-b890-4033-bef0-345149987d88",
   "metadata": {},
   "outputs": [],
   "source": [
    "from dotenv import load_dotenv\n",
    "assert load_dotenv() # Load environment variables from a .env file"
   ]
  },
  {
   "cell_type": "code",
   "execution_count": 3,
   "id": "9c8b5c2f-d6af-4347-8e8f-208cc6aa9b13",
   "metadata": {},
   "outputs": [
    {
     "data": {
      "text/plain": [
       "['claude-3-5-sonnet-latest',\n",
       " 'claude-3-5-sonnet-20241022',\n",
       " 'claude-3-opus-20240229',\n",
       " 'claude-3-sonnet-20240229',\n",
       " 'claude-3-haiku-20240307',\n",
       " 'gpt-4o',\n",
       " 'gpt-4o-mini',\n",
       " 'chatgpt-4o-latest',\n",
       " 'gpt-4o-2024-11-20',\n",
       " 'gpt-4o-2024-08-06',\n",
       " 'gpt-4o-2024-05-13',\n",
       " 'gpt-4o-mini-2024-07-18',\n",
       " 'o1-2024-12-17',\n",
       " 'o1-mini-2024-09-12',\n",
       " 'grok-2-vision-1212',\n",
       " 'grok-2-1212',\n",
       " 'gemini-2.0-flash-exp',\n",
       " 'gemini-1.5-flash-8b',\n",
       " 'gemini-1.5-flash',\n",
       " 'gemini-1.5-pro']"
      ]
     },
     "execution_count": 3,
     "metadata": {},
     "output_type": "execute_result"
    }
   ],
   "source": [
    "from uiform import UiForm\n",
    "uiclient = UiForm()\n",
    "uiclient.models.list()"
   ]
  },
  {
   "cell_type": "code",
   "execution_count": 4,
   "id": "5bd85f94-7728-4496-a7e3-ffb3ab293af0",
   "metadata": {},
   "outputs": [],
   "source": [
    "from uiform import UiForm\n",
    "from openai import OpenAI\n",
    "\n",
    "uiclient = UiForm(api_key = \"sk_3ovI3g3Hq7pmBvySp3tP2OCMlZtHSNsAXfKG6VQjiDI\")\n",
    "\n",
    "doc_msg = uiclient.documents.create_messages(document = \"freight/booking_confirmation.jpg\")\n"
   ]
  },
  {
   "cell_type": "code",
   "execution_count": 5,
   "id": "00b65167-fe26-4c5f-a315-4df3a3a7b326",
   "metadata": {},
   "outputs": [
    {
     "ename": "NameError",
     "evalue": "name 'schema_obj' is not defined",
     "output_type": "error",
     "traceback": [
      "\u001b[0;31m---------------------------------------------------------------------------\u001b[0m",
      "\u001b[0;31mNameError\u001b[0m                                 Traceback (most recent call last)",
      "Cell \u001b[0;32mIn[5], line 1\u001b[0m\n\u001b[0;32m----> 1\u001b[0m \u001b[43mschema_obj\u001b[49m\u001b[38;5;241m.\u001b[39mschema_version\n",
      "\u001b[0;31mNameError\u001b[0m: name 'schema_obj' is not defined"
     ]
    }
   ],
   "source": [
    "schema_obj.schema_version"
   ]
  },
  {
   "cell_type": "code",
   "execution_count": 10,
   "id": "ddfcacaa-f9ae-4ba6-99c6-b67075bc5d90",
   "metadata": {},
   "outputs": [
    {
     "name": "stdout",
     "output_type": "stream",
     "text": [
      "{'id': 'd42502fd-24d5-4287-9636-a5e4b6c7c85e', 'choices': [{'finish_reason': 'stop', 'index': 0, 'logprobs': None, 'message': {'content': '**Document Summary:**\\n\\n**Title:** Confirmation d\\'affrètement (Charter Confirmation)\\n\\n**Company:** ACME Corporation\\n\\n**Details:**\\n- **Date:** 11/8/2024, 11:41:43 AM\\n- **VAT Number:** GB123456789\\n\\n**Company Contact:**\\n- **Name:** Jane Doe\\n- **Phone:** +44 20 7946 0958\\n- **Email:** client@acme.com\\n\\n**Site Details:**\\n- **Address:** 456 Oak Avenue, Floor 3, Manchester, M1 4WP, United Kingdom\\n\\n**Billing Address:**\\n- **Address:** 123 Elm Street, Suite 500, London, WC2N 5DU GB\\n- **Phone:** +44 20 7946 0958\\n- **Email:** client@acme.com\\n- **VAT Number:** GB123456789\\n\\n**Carrier:**\\n- **Name:** TRANSPORTEXPRESS\\n- **Service:** Service Logistique\\n- **Address:** 45 rue Industrielle Est, Bâtiment C, Les Landes Transporteurs, 92130 PARIS, France\\n- **Phone:** +33 1 23 45 67 90\\n- **Fax:** +33 1 23 45 67 90\\n\\n**Carrier Commitments:**\\n- Subscribe to specific goods insurance.\\n- Comply with insurance policy clauses.\\n- Verify goods and accompany with customs documents.\\n- Report incidents and contact customs immediately.\\n- Implement preventive measures for security, including parking in secure areas.\\n\\n**Goods Details:**\\n- **Type:** 500 T Pallets\\n- **Volume:** 1.44 M3\\n- **Weight:** 5.04 ML\\n- **Temperature Range:** 5°C - 25°C (Frais)\\n- **Hazardous Goods:** UN1202 Class 3 - Liquid Flammable\\n\\n**Transport Details:**\\n- **Pickup:** 5/2/2023, 12:00, Acme Corporation, 123 Elm Street, Suite 500, London, WC2N 5DU GB\\n- **Delivery:** 5/3/2023, 16:00, Beta Industries, 789 Pine Street, Munich, Bavaria, 80331 DE\\n\\n**Pricing:**\\n- **Agreed Price:** 1500 EUR HT (excluding VAT)\\n- **Fuel Surcharge Included:** PRIX NEGOCIE GASOIL INCLUS\\n- **Invoice Reference:** BC-67890\\n\\n**Transport and Regulatory Conditions:**\\n- Payment upon receipt of required delivery documents.\\n- Original documents required for payment.\\n- Compliance with transport laws and regulations, including French and EU regulations.\\n- Immediate reporting of incidents.\\n\\n**Special Conditions:**\\n- For European shipments, payment within 8 days, non-refundable 14 days after invoice if not paid.\\n- Return of the \"Bon pour accord\" form with signature required within 8 days.', 'refusal': None, 'role': 'assistant', 'audio': None, 'function_call': None, 'tool_calls': None}}], 'created': 1736928965, 'model': 'grok-2-vision-1212', 'object': 'chat.completion', 'service_tier': None, 'system_fingerprint': 'fp_958d152a61', 'usage': {'completion_tokens': 684, 'prompt_tokens': 1807, 'total_tokens': 2491, 'completion_tokens_details': None, 'prompt_tokens_details': {'audio_tokens': 0, 'cached_tokens': 0, 'text_tokens': 15, 'image_tokens': 1792}}}\n"
     ]
    }
   ],
   "source": [
    "import os\n",
    "from uiform import UiForm\n",
    "from openai import OpenAI\n",
    "\n",
    "\n",
    "doc_msg = uiclient.documents.create_messages(document = \"freight/booking_confirmation.jpg\")\n",
    "\n",
    "client = OpenAI(base_url=\"https://api.x.ai/v1\", api_key=os.getenv(\"XAI_API_KEY\"))\n",
    "completion = client.chat.completions.create(\n",
    "    model=\"grok-2-vision-1212\",\n",
    "    messages=doc_msg.openai_messages + [\n",
    "        {\n",
    "            \"role\": \"user\",\n",
    "            \"content\": \"Summarize the document\"\n",
    "        }\n",
    "    ]\n",
    ")\n",
    "\n",
    "print(completion.model_dump())\n"
   ]
  },
  {
   "cell_type": "code",
   "execution_count": 6,
   "id": "91415461-1879-4c64-aa1f-8be2acd06550",
   "metadata": {},
   "outputs": [
    {
     "name": "stdout",
     "output_type": "stream",
     "text": [
      "ChatCompletion(id='196c9b21-b518-402b-ac98-5543e18d54ad', choices=[Choice(finish_reason='stop', index=0, logprobs=None, message=ChatCompletionMessage(content='{\\n  \"name\": \"Transport of Dangerous Goods\",\\n  \"reasoning___date\": \"From 5/2/2023 to 5/3/2023\",\\n  \"date\": \"2023-02-05T12:00:00Z/2023-03-05T16:00:00Z\"\\n}', refusal=None, role='assistant', audio=None, function_call=None, tool_calls=None))], created=1736929087, model='grok-2-vision-1212', object='chat.completion', service_tier=None, system_fingerprint='fp_958d152a61', usage=CompletionUsage(completion_tokens=89, prompt_tokens=1895, total_tokens=1984, completion_tokens_details=None, prompt_tokens_details=PromptTokensDetails(audio_tokens=0, cached_tokens=0, text_tokens=103, image_tokens=1792)))\n"
     ]
    }
   ],
   "source": [
    "\n",
    "\n",
    "\n",
    "# ------------------------------------------------------------------------------------------------\n",
    "# Structured extraction with OpenAI API\n",
    "client = OpenAI(base_url=\"https://api.x.ai/v1\", api_key=os.getenv(\"XAI_API_KEY\"))\n",
    "\n",
    "\n",
    "from uiform import Schema\n",
    "\n",
    "schema_obj = Schema(\n",
    "    json_schema = {\n",
    "        'X-SystemPrompt': 'You are a useful assistant extracting information from documents.',\n",
    "        'properties': {\n",
    "            'name': {\n",
    "                'X-FieldPrompt': 'Provide a descriptive and concise name for the event.',\n",
    "                'description': 'The name of the calendar event.',\n",
    "                'title': 'Name',\n",
    "                'type': 'string'\n",
    "            },\n",
    "            'date': {\n",
    "                'X-ReasoningPrompt': 'The user can mention it in any format, like **next week** or **tomorrow**. Infer the right date format from the user input.',\n",
    "                'description': 'The date of the calendar event in ISO 8601 format.',\n",
    "                'title': 'Date',\n",
    "                'type': 'string'\n",
    "            }\n",
    "        },\n",
    "        'required': ['name', 'date'],\n",
    "        'title': 'CalendarEvent',\n",
    "        'type': 'object'\n",
    "    }\n",
    ")\n",
    "\n",
    "completion = client.chat.completions.create(\n",
    "    model=\"grok-2-vision-1212\",\n",
    "    messages=schema_obj.openai_messages + doc_msg.openai_messages,\n",
    "    response_format={\n",
    "        \"type\": \"json_schema\",\n",
    "        \"json_schema\": {\n",
    "            \"name\": schema_obj.schema_version,\n",
    "            \"schema\": schema_obj.inference_json_schema,\n",
    "            \"strict\": True\n",
    "        }\n",
    "    }\n",
    ")\n",
    "print(completion)"
   ]
  },
  {
   "cell_type": "code",
   "execution_count": 7,
   "id": "208f6bab-e71c-4ea2-aff8-cc6fb6062d05",
   "metadata": {},
   "outputs": [],
   "source": [
    "\n",
    "# --- OR \n",
    "\n",
    "completion = client.beta.chat.completions.parse(\n",
    "    model=\"grok-2-vision-1212\",\n",
    "    messages=schema_obj.openai_messages + doc_msg.openai_messages,\n",
    "    response_format=schema_obj.inference_pydantic_model\n",
    ")\n"
   ]
  },
  {
   "cell_type": "code",
   "execution_count": 10,
   "id": "a85a8712-0344-499a-8fbb-e60eb1c3d87d",
   "metadata": {},
   "outputs": [],
   "source": [
    "import os\n",
    "\n",
    "doc_msg = uiclient.documents.create_messages(document = \"freight/booking_confirmation.jpg\", modality=\"text\")\n",
    "\n",
    "\n",
    "client = OpenAI(\n",
    "    api_key = os.getenv(\"GEMINI_API_KEY\"),\n",
    "    base_url = \"https://generativelanguage.googleapis.com/v1beta/openai/\"\n",
    ")\n",
    "completion = client.chat.completions.create(\n",
    "    model=\"gemini-1.5-flash\",\n",
    "    messages=schema_obj.openai_messages + doc_msg.openai_messages,\n",
    "    response_format={\n",
    "        \"type\": \"json_schema\",\n",
    "        \"json_schema\": {\n",
    "            \"name\": schema_obj.schema_version,\n",
    "            \"schema\": schema_obj.inference_gemini_json_schema, # Very important ! \n",
    "            # We need to put the inference_gemini_json_schema here because gemini does not allow nullable fields,\n",
    "            # every field is required and the anyOf is not supported.\n",
    "            \"strict\": True\n",
    "        }\n",
    "    }\n",
    ")"
   ]
  },
  {
   "cell_type": "code",
   "execution_count": 11,
   "id": "fd42c0dc-712d-492c-b906-9c80e59561e4",
   "metadata": {},
   "outputs": [
    {
     "data": {
      "text/plain": [
       "ChatCompletion(id=None, choices=[Choice(finish_reason='stop', index=0, logprobs=None, message=ChatCompletionMessage(content='{\"reasoning___date\": \"5/2/2023\", \"date\": \"2023-05-02\", \"name\": \"Goods Transportation\"}', refusal=None, role='assistant', audio=None, function_call=None, tool_calls=None))], created=1736929190, model='gemini-1.5-flash', object='chat.completion', service_tier=None, system_fingerprint=None, usage=CompletionUsage(completion_tokens=38, prompt_tokens=1416, total_tokens=1454, completion_tokens_details=None, prompt_tokens_details=None))"
      ]
     },
     "execution_count": 11,
     "metadata": {},
     "output_type": "execute_result"
    }
   ],
   "source": [
    "completion"
   ]
  },
  {
   "cell_type": "markdown",
   "id": "48beff48-f03e-47fa-b248-a5e40558989b",
   "metadata": {},
   "source": [
    "# Example 1 - Analyze informations from a document"
   ]
  },
  {
   "cell_type": "markdown",
   "id": "8f1e206e-c04e-4a0b-88e2-235cf3ec2047",
   "metadata": {},
   "source": [
    "#### Option A - You use our preprocess endpoint and openAI client"
   ]
  },
  {
   "cell_type": "code",
   "execution_count": 17,
   "id": "acd69f9e-ac82-4122-8b3b-23ebfdcd69c9",
   "metadata": {},
   "outputs": [
    {
     "name": "stdout",
     "output_type": "stream",
     "text": [
      "booking_id='SHIP-001' payment=TransportPriceData(total_price=1500.0, currency='EUR') client=ClientData(company_name='ACME Corporation', VAT_number=None, city='London', postal_code='WC2N 5DU', country='GB', code='BC-67890', email='client@acme.com') shipments=[ShipmentData(shipment_id='SHIP-001', sender=SenderData(company_name='ACME Corporation', address=AddressDataSimple(city='London', postal_code='WC2N 5DU', country='GB', line1='123 Elm Street', line2='Suite 500'), phone_number='+442079460958', email_address='client@acme.com', pickup_datetime=PickupDatetimeData(date='2023-02-05', start_time='08:00:00', end_time='12:00:00'), observations='Reference: SHIP-001'), recipient=RecipientData(company_name='Beta Industries', address=AddressDataSimple(city='Munich', postal_code='80331', country='DE', line1='789 Pine Street', line2=None), phone_number='+4989123456', email_address=None, delivery_datetime=DeliveryDatetimeData(date='2023-03-05', start_time='10:00:00', end_time='16:00:00'), observations='Recipient reference: BC-67890'), goods=GoodsData(packing=PackingData(units=10, packing_type='pallet', supplementary_parcels=None, pallets_on_ground=None, number_eur_pallet=0, observation='Contains dangerous goods UN1202, Class 3.'), dimensions=DimensionsData(loading_meters=0.4, volume=1.44), weight=50.0, temperature_infos=TemperatureInfosData(min_temperature=5.0, max_temperature=25.0, category='Fresh'), dangerous_goods_infos=[DangerousGoodsInfoData(weight=50.0, UN_code=1202, UN_label='Liquide inflammable', UN_class='3', UN_packing_group=None, ADR_tunnel_code=None)]), transport_constraints=TruckData(vehicle_type=None, body_type='Refrigerated', tail_lift=False, crane=False))]\n"
     ]
    }
   ],
   "source": [
    "import json\n",
    "from uiform import UiForm, Schema\n",
    "from openai import OpenAI\n",
    "\n",
    "with open(\"freight/schema.json\", \"r\") as f:\n",
    "    json_schema = json.load(f)\n",
    "\n",
    "\n",
    "uiclient = UiForm()\n",
    "doc_msg = uiclient.documents.create_messages(\n",
    "    document = \"freight/booking_confirmation.jpg\",\n",
    ")\n",
    "\n",
    "schema_obj = Schema(\n",
    "    json_schema = json_schema\n",
    ")\n",
    "\n",
    "\n",
    "# Now you can use your favorite model to analyze your document\n",
    "client = OpenAI()\n",
    "completion = client.chat.completions.create(\n",
    "    model=\"gpt-4o-mini\", \n",
    "    messages=schema_obj.openai_messages + doc_msg.openai_messages,\n",
    "    response_format=schema_obj.response_format_json\n",
    ")\n",
    "\n",
    "# Validate the response against the original schema if you want to remove the reasoning fields\n",
    "assert completion.choices[0].message.content is not None\n",
    "extraction = schema_obj.pydantic_model.model_validate_json(\n",
    "    completion.choices[0].message.content\n",
    ")\n",
    "\n",
    "print(extraction)"
   ]
  },
  {
   "cell_type": "markdown",
   "id": "706be0d2-38b4-4d69-afa1-d072b2f6b8d5",
   "metadata": {},
   "source": [
    "#### You can also add some preprocessing operations to find informations that the LLM struggles to parse"
   ]
  },
  {
   "cell_type": "code",
   "execution_count": 20,
   "id": "d0869eea-d421-4773-b6e4-f37138ca0146",
   "metadata": {},
   "outputs": [],
   "source": [
    "text_operations = {\n",
    "    'regex_instructions' : [\n",
    "        {\n",
    "            \"name\": \"vat_number\",\n",
    "            \"pattern\": r\"[Ff][Rr]\\s*(\\d\\s*){11}\",\n",
    "            \"description\": \"VAT number in the format XX999999999\"\n",
    "        }\n",
    "    ]\n",
    "}\n",
    "\n",
    "doc_msg = uiclient.documents.create_messages(\n",
    "    document = \"freight/booking_confirmation.jpg\",\n",
    "    text_operations=text_operations\n",
    ")"
   ]
  },
  {
   "cell_type": "markdown",
   "id": "56177728-8447-4dc8-a64a-108924e39688",
   "metadata": {},
   "source": [
    "#### Option B - Using UiForm `extract` endpoint"
   ]
  },
  {
   "cell_type": "code",
   "execution_count": 21,
   "id": "9cc3ae43-a24d-433e-8c24-465797becc8a",
   "metadata": {},
   "outputs": [
    {
     "name": "stdout",
     "output_type": "stream",
     "text": [
      "booking_id='SHIP-001' payment=TransportPriceData(total_price=1500.0, currency='EUR') client=ClientData(company_name='ACME Corporation', VAT_number=None, city='London', postal_code='WC2N 5DU', country='GB', code=None, email='client@acme.com') shipments=[ShipmentData(shipment_id='SHIP-001', sender=SenderData(company_name='ACME Corporation', address=AddressDataSimple(city='London', postal_code='WC2N 5DU', country='GB', line1='123 Elm Street', line2='Suite 500'), phone_number='+442079460958', email_address='client@acme.com', pickup_datetime=PickupDatetimeData(date='2023-02-05', start_time='08:00:00', end_time='12:00:00'), observations=None), recipient=RecipientData(company_name='Beta Industries', address=AddressDataSimple(city='Munich', postal_code='80331', country='DE', line1='789 Pine Street', line2=None), phone_number='+4989123456', email_address=None, delivery_datetime=DeliveryDatetimeData(date='2023-03-05', start_time='10:00:00', end_time='16:00:00'), observations=None), goods=GoodsData(packing=PackingData(units=10, packing_type='pallet', supplementary_parcels=None, pallets_on_ground=10.0, number_eur_pallet=0, observation=None), dimensions=DimensionsData(loading_meters=None, volume=1.44), weight=5000.0, temperature_infos=TemperatureInfosData(min_temperature=5.0, max_temperature=25.0, category='Fresh'), dangerous_goods_infos=[DangerousGoodsInfoData(weight=None, UN_code=1203, UN_label='Liquid flammable', UN_class='3', UN_packing_group='II', ADR_tunnel_code=None)]), transport_constraints=None)]\n"
     ]
    }
   ],
   "source": [
    "import json\n",
    "from uiform.client import UiForm\n",
    "\n",
    "uiclient = UiForm()\n",
    "completion = uiclient.documents.extractions.parse(\n",
    "    json_schema = \"freight/schema.json\",\n",
    "    document = \"freight/booking_confirmation.jpg\",\n",
    "    model=\"gpt-4o-mini\",\n",
    "    temperature=0\n",
    ")\n",
    "\n",
    "print(completion.choices[0].message.parsed)"
   ]
  },
  {
   "cell_type": "markdown",
   "id": "38455c97-b600-44c4-b679-f6382bd33279",
   "metadata": {},
   "source": [
    "## Appendix A - Use text as modality"
   ]
  },
  {
   "cell_type": "code",
   "execution_count": 22,
   "id": "257e77d3-8d0b-4ca1-989e-159a8e730f97",
   "metadata": {},
   "outputs": [
    {
     "name": "stdout",
     "output_type": "stream",
     "text": [
      "booking_id='SHIP-001' payment=TransportPriceData(total_price=1500.0, currency='EUR') client=ClientData(company_name='ACME Corporation', VAT_number=None, city='London', postal_code='WC2N S5DU', country='GB', code=None, email='client@acme.com') shipments=[ShipmentData(shipment_id='SHIP-001', sender=SenderData(company_name='ACME Corporation', address=AddressDataSimple(city='Manchester', postal_code='M1 4WP', country='GB', line1='456 Oak Avenue', line2='Floor 3 Suite 500'), phone_number='+442079460958', email_address='client@acme.com', pickup_datetime=PickupDatetimeData(date='2023-02-05', start_time='08:00:00', end_time='12:00:00'), observations=None), recipient=RecipientData(company_name='Beta Industries', address=AddressDataSimple(city='Munich', postal_code='80331', country='DE', line1='789 Pine Street', line2=None), phone_number='+4989123456', email_address=None, delivery_datetime=DeliveryDatetimeData(date='2023-03-05', start_time='10:00:00', end_time='16:00:00'), observations=None), goods=GoodsData(packing=PackingData(units=10, packing_type='pallet', supplementary_parcels=None, pallets_on_ground=5.0, number_eur_pallet=5, observation=None), dimensions=DimensionsData(loading_meters=0.4, volume=1.44), weight=500.0, temperature_infos=TemperatureInfosData(min_temperature=5.0, max_temperature=25.0, category='Fresh'), dangerous_goods_infos=[DangerousGoodsInfoData(weight=500.0, UN_code=1202, UN_label='Flammable Liquid', UN_class='3', UN_packing_group='II', ADR_tunnel_code='B')]), transport_constraints=TruckData(vehicle_type='Carrier', body_type='Tautliner', tail_lift=False, crane=False))]\n"
     ]
    }
   ],
   "source": [
    "from uiform.client import UiForm\n",
    "\n",
    "uiclient = UiForm()\n",
    "\n",
    "completion = uiclient.documents.extractions.parse(\n",
    "    json_schema = \"freight/schema.json\",\n",
    "    document=\"freight/booking_confirmation.jpg\",\n",
    "    model=\"gpt-4o-mini-2024-07-18\",\n",
    "    temperature=0,\n",
    "    modality='text'\n",
    ")\n",
    "\n",
    "print(completion.choices[0].message.parsed)"
   ]
  },
  {
   "cell_type": "markdown",
   "id": "e91fd043-489a-476c-8f03-718737dc7373",
   "metadata": {},
   "source": [
    "## Appendix B - Add text operations"
   ]
  },
  {
   "cell_type": "code",
   "execution_count": null,
   "id": "ff56ae8b-d576-42e4-ae5e-46486d894598",
   "metadata": {},
   "outputs": [],
   "source": [
    "from uiform.client import UiForm\n",
    "\n",
    "uiclient = UiForm()\n",
    "\n",
    "text_operations = {\n",
    "    'regex_instructions' : [\n",
    "        {\n",
    "            \"name\": \"vat_number\",\n",
    "            \"pattern\": r\"[Ff][Rr]\\s*(\\d\\s*){11}\",\n",
    "            \"description\": \"VAT number in the format XX999999999\"\n",
    "        }\n",
    "    ]\n",
    "}\n",
    "\n",
    "completion = uiclient.documents.extractions.parse(\n",
    "    json_schema = \"freight/schema.json\",\n",
    "    document = \"freight/booking_confirmation.jpg\",\n",
    "    model=\"gpt-4o-mini-2024-07-18\",\n",
    "    temperature=0,\n",
    "    text_operations=text_operations\n",
    ")\n",
    "\n",
    "print(completion.choices[0].message.parsed)"
   ]
  },
  {
   "cell_type": "code",
   "execution_count": null,
   "id": "14819628-9780-4c55-8eb3-c86a545ba772",
   "metadata": {},
   "outputs": [],
   "source": []
  }
 ],
 "metadata": {
  "kernelspec": {
   "display_name": "Python 3 (ipykernel)",
   "language": "python",
   "name": "python3"
  },
  "language_info": {
   "codemirror_mode": {
    "name": "ipython",
    "version": 3
   },
   "file_extension": ".py",
   "mimetype": "text/x-python",
   "name": "python",
   "nbconvert_exporter": "python",
   "pygments_lexer": "ipython3",
   "version": "3.12.4"
  }
 },
 "nbformat": 4,
 "nbformat_minor": 5
}
