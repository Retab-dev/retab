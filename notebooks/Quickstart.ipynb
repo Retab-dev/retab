{
 "cells": [
  {
   "cell_type": "markdown",
   "id": "1a2a2fd0-c8ce-4142-8499-ab79701b50f4",
   "metadata": {},
   "source": [
    "### Setup your environnement variables"
   ]
  },
  {
   "cell_type": "code",
   "execution_count": 1,
   "id": "5400407f-31cc-4ad1-89fa-04ee2d482d1b",
   "metadata": {},
   "outputs": [],
   "source": [
    "import os\n",
    "\n",
    "os.environ[\"OPENAI_API_KEY\"] = \"YOUR API KEY\"\n",
    "os.environ[\"UIFORM_API_KEY\"] = \"YOUR API KEY\" # go to https://uiform.com to create your API Key"
   ]
  },
  {
   "cell_type": "code",
   "execution_count": 2,
   "id": "e5bfe9bd-b890-4033-bef0-345149987d88",
   "metadata": {},
   "outputs": [],
   "source": [
    "from dotenv import load_dotenv\n",
    "assert load_dotenv(\"../.env.local\", override=True) # Load environment variables from a .env file"
   ]
  },
  {
   "cell_type": "markdown",
   "id": "e873ea72-2fa6-4233-8e0d-9f220aeb4a36",
   "metadata": {},
   "source": [
    "# Get started"
   ]
  },
  {
   "cell_type": "code",
   "execution_count": 3,
   "id": "9c8b5c2f-d6af-4347-8e8f-208cc6aa9b13",
   "metadata": {},
   "outputs": [
    {
     "name": "stderr",
     "output_type": "stream",
     "text": [
      "/home/vscode/.local/lib/python3.12/site-packages/tqdm/auto.py:21: TqdmWarning: IProgress not found. Please update jupyter and ipywidgets. See https://ipywidgets.readthedocs.io/en/stable/user_install.html\n",
      "  from .autonotebook import tqdm as notebook_tqdm\n"
     ]
    }
   ],
   "source": [
    "from uiform import UiForm\n",
    "from uiform._utils.json_schema import filter_reasoning_fields_json\n",
    "uiclient = UiForm()\n",
    "models_list = uiclient.models.list()"
   ]
  },
  {
   "cell_type": "markdown",
   "id": "48beff48-f03e-47fa-b248-a5e40558989b",
   "metadata": {},
   "source": [
    "# Example 1 - Analyze informations from a document"
   ]
  },
  {
   "cell_type": "markdown",
   "id": "8f1e206e-c04e-4a0b-88e2-235cf3ec2047",
   "metadata": {},
   "source": [
    "#### Option A - You use our preprocess endpoint and openAI client"
   ]
  },
  {
   "cell_type": "code",
   "execution_count": 4,
   "id": "177d3be9",
   "metadata": {},
   "outputs": [],
   "source": [
    "from pydantic import BaseModel\n",
    "\n",
    "class CalendarEvent(BaseModel):\n",
    "    name: str\n",
    "    date: str\n",
    "    participants: list[str]"
   ]
  },
  {
   "cell_type": "code",
   "execution_count": 5,
   "id": "acd69f9e-ac82-4122-8b3b-23ebfdcd69c9",
   "metadata": {},
   "outputs": [],
   "source": [
    "import json\n",
    "from uiform import UiForm, Schema\n",
    "from openai import OpenAI\n",
    "\n",
    "with open(\"freight/schema.json\", \"r\") as f:\n",
    "    json_schema = json.load(f)\n",
    "\n",
    "\n",
    "uiclient = UiForm()\n",
    "doc_msg = uiclient.documents.create_messages(\n",
    "    document = \"freight/booking_confirmation.jpg\",\n",
    ")\n",
    "\n",
    "schema_obj = Schema(\n",
    "    json_schema = json_schema\n",
    ")\n",
    "\n"
   ]
  },
  {
   "cell_type": "code",
   "execution_count": 6,
   "id": "8ac8db23",
   "metadata": {},
   "outputs": [
    {
     "name": "stdout",
     "output_type": "stream",
     "text": [
      "{\"reasoning___root\":\"Analysis shows:\\n- Clear booking confirmation document from ACME Corporation\\n- Involves a single shipment with specific details related to dangerous goods\\n- Client identified as ACME Corporation from the letterhead and includes relevant VAT number\\n- Total price and payment terms clearly stated \\n- All required signatures and dates present, but verification of VAT format needed\",\"booking_id\":\"BC-67890\",\"payment\":{\"total_price\":1500,\"currency\":\"EUR\"},\"client\":{\"company_name\":\"ACME Corporation\",\"reasoning___VAT_number\":\"Found VAT number GB123456789 in the header section labeled as 'VAT Number'. Format conforms to UK VAT number standards.\",\"VAT_number\":\"GB123456789\",\"city\":\"London\",\"postal_code\":\"WC2N 5DU\",\"country\":\"GB\",\"code\":null,\"email\":\"client@acme.com\"},\"reasoning___shipments\":\"Shipment Analysis:\\n1: 500 kg of liquid hazardous material (UN1202) classified as flammable liquid. Requires specific storage conditions as indicated.\",\"shipments\":[{\"shipment_id\":\"SHIP-001\",\"reasoning___sender\":\"I have found within the documents the following information about the sender:\\n- Sender company name: ACME Corporation\\n- Sender address on the format: LINE1: 123 Elm Street / LINE2: Suite 500 / CITY: London / POSTAL_CODE: WC2N 5DU / COUNTRY: GB\\n- Sender phone number: +44 20 7946 0958\\n- Sender email: client@acme.com\\n- Observations: Ensure compliance with hazardous goods handling requirements.\",\"sender\":{\"company_name\":\"ACME Corporation\",\"address\":{\"city\":\"London\",\"postal_code\":\"WC2N 5DU\",\"country\":\"GB\",\"line1\":\"123 Elm Street\",\"line2\":\"Suite 500\"},\"phone_number\":\"+44 20 7946 0958\",\"email_address\":\"client@acme.com\",\"pickup_datetime\":{\"date\":\"2023-02-05\",\"start_time\":\"08:00:00\",\"end_time\":\"12:00:00\"},\"observations\":\"Ensure compliance with hazardous goods handling requirements.\"},\"reasoning___recipient\":\"I have found within the documents the following information about the recipient:\\n- Recipient company name: Beta Industries\\n- Recipient address on the format: LINE1: 769 Pine Street / LINE2:  / CITY: Munich / POSTAL_CODE: 80331 / COUNTRY: DE\\n- Recipient phone number: +49 89 123456\\n- Observations: Delivery timing preferences stated clearly.\",\"recipient\":{\"company_name\":\"Beta Industries\",\"address\":{\"city\":\"Munich\",\"postal_code\":\"80331\",\"country\":\"DE\",\"line1\":\"769 Pine Street\",\"line2\":\"\"},\"phone_number\":\"+49 89 123456\",\"email_address\":null,\"delivery_datetime\":{\"date\":\"2023-03-05\",\"start_time\":\"10:00:00\",\"end_time\":\"16:00:00\"},\"observations\":\"Delivery timing preferences stated clearly.\"},\"reasoning___goods\":\"Source indicates:\\n- Weight: 500 kg\\n- Packing: 5 units on 10 pallets, volume 1.44 M³\\n- Hazardous goods as classified under UN1202 - flammable liquid\",\"goods\":{\"packing\":{\"units\":5,\"packing_type\":\"pallet\",\"supplementary_parcels\":0,\"reasoning___pallets_on_ground\":\"Total of 10 pallets indicated as required for loading, calculated based on unit volume to prevent hazards.\",\"pallets_on_ground\":10,\"number_eur_pallet\":10,\"observation\":\"Ensure proper labels for flammable materials as hazardous.\"},\"dimensions\":{\"reasoning___loading_meters\":\"Each pallet occupies approximately 0.4 loading meters. Total loading meters calculates as follows: 10 pallets x 0.4 = 4.0 loading meters total.\",\"loading_meters\":4,\"reasoning___volume\":\"Total volume calculated as: 1 pallet of 0.144 cubic meters x 10 = 1.44 cubic meters.\",\"volume\":1.44},\"weight\":500,\"temperature_infos\":{\"min_temperature\":-5,\"max_temperature\":-25,\"category\":\"Frozen\"},\"reasoning___dangerous_goods_infos\":\"Dangerous goods identified as UN1202; require special handling and labeling for safety and compliance.\",\"dangerous_goods_infos\":[{\"weight\":500,\"UN_code\":1202,\"UN_label\":\"Liquid flammable\",\"UN_class\":\"3\",\"UN_packing_group\":\"II\",\"ADR_tunnel_code\":\"D\"}]},\"reasoning___transport_constraints\":\"Source specifies: refrigerated transport required for hazardous liquid, loading equipment must be a forklift for safe handling, tail lift needed.\",\"transport_constraints\":{\"vehicle_type\":\"Carrier\",\"body_type\":\"Refrigerated\",\"tail_lift\":true,\"crane\":false}}]}\n"
     ]
    }
   ],
   "source": [
    "\n",
    "# Now you can use your favorite model to analyze your document\n",
    "client = OpenAI()\n",
    "completion = client.chat.completions.create(\n",
    "    model=\"gpt-4o-mini\",\n",
    "    messages=schema_obj.openai_messages + doc_msg.openai_messages,\n",
    "    response_format={\n",
    "        \"type\": \"json_schema\",\n",
    "        \"json_schema\": {\n",
    "            \"name\": schema_obj.id,\n",
    "            \"schema\": schema_obj.inference_json_schema,\n",
    "            \"strict\": True\n",
    "        }\n",
    "    }\n",
    ")\n",
    "print(completion.choices[0].message.content)"
   ]
  },
  {
   "cell_type": "code",
   "execution_count": 7,
   "id": "a6d2eff6-3a03-47e6-8ab6-31488505b435",
   "metadata": {},
   "outputs": [
    {
     "data": {
      "text/plain": [
       "{'booking_id': 'BC-67890',\n",
       " 'payment': {'total_price': 1500, 'currency': 'EUR'},\n",
       " 'client': {'company_name': 'ACME Corporation',\n",
       "  'VAT_number': 'GB123456789',\n",
       "  'city': 'London',\n",
       "  'postal_code': 'WC2N 5DU',\n",
       "  'country': 'GB',\n",
       "  'code': None,\n",
       "  'email': 'client@acme.com'},\n",
       " 'shipments': [{'shipment_id': 'SHIP-001',\n",
       "   'sender': {'company_name': 'ACME Corporation',\n",
       "    'address': {'city': 'London',\n",
       "     'postal_code': 'WC2N 5DU',\n",
       "     'country': 'GB',\n",
       "     'line1': '123 Elm Street',\n",
       "     'line2': 'Suite 500'},\n",
       "    'phone_number': '+44 20 7946 0958',\n",
       "    'email_address': 'client@acme.com',\n",
       "    'pickup_datetime': {'date': '2023-02-05',\n",
       "     'start_time': '08:00:00',\n",
       "     'end_time': '12:00:00'},\n",
       "    'observations': 'Ensure compliance with hazardous goods handling requirements.'},\n",
       "   'recipient': {'company_name': 'Beta Industries',\n",
       "    'address': {'city': 'Munich',\n",
       "     'postal_code': '80331',\n",
       "     'country': 'DE',\n",
       "     'line1': '769 Pine Street',\n",
       "     'line2': ''},\n",
       "    'phone_number': '+49 89 123456',\n",
       "    'email_address': None,\n",
       "    'delivery_datetime': {'date': '2023-03-05',\n",
       "     'start_time': '10:00:00',\n",
       "     'end_time': '16:00:00'},\n",
       "    'observations': 'Delivery timing preferences stated clearly.'},\n",
       "   'goods': {'packing': {'units': 5,\n",
       "     'packing_type': 'pallet',\n",
       "     'supplementary_parcels': 0,\n",
       "     'pallets_on_ground': 10,\n",
       "     'number_eur_pallet': 10,\n",
       "     'observation': 'Ensure proper labels for flammable materials as hazardous.'},\n",
       "    'dimensions': {'loading_meters': 4, 'volume': 1.44},\n",
       "    'weight': 500,\n",
       "    'temperature_infos': {'min_temperature': -5,\n",
       "     'max_temperature': -25,\n",
       "     'category': 'Frozen'},\n",
       "    'dangerous_goods_infos': [{'weight': 500,\n",
       "      'UN_code': 1202,\n",
       "      'UN_label': 'Liquid flammable',\n",
       "      'UN_class': '3',\n",
       "      'UN_packing_group': 'II',\n",
       "      'ADR_tunnel_code': 'D'}]},\n",
       "   'transport_constraints': {'vehicle_type': 'Carrier',\n",
       "    'body_type': 'Refrigerated',\n",
       "    'tail_lift': True,\n",
       "    'crane': False}}]}"
      ]
     },
     "execution_count": 7,
     "metadata": {},
     "output_type": "execute_result"
    }
   ],
   "source": [
    "# Validate the response against the original schema if you want to remove the reasoning fields\n",
    "assert completion.choices[0].message.content is not None\n",
    "extraction = schema_obj.pydantic_model.model_validate(\n",
    "     filter_reasoning_fields_json(completion.choices[0].message.content)\n",
    ")\n",
    "extraction.model_dump()"
   ]
  },
  {
   "cell_type": "code",
   "execution_count": 9,
   "id": "1ac69714",
   "metadata": {},
   "outputs": [
    {
     "data": {
      "text/plain": [
       "{'extraction_id': 'extr_AXl9Rs_HhUM_ARcHJ0awe',\n",
       " 'status': 'success',\n",
       " 'error_message': None}"
      ]
     },
     "execution_count": 9,
     "metadata": {},
     "output_type": "execute_result"
    }
   ],
   "source": [
    "## If you want to log the extraction (keep it in our database)\n",
    "# Limitation: we don't get the likelihoods\n",
    "# For now one might send the messages in UiForm-compatible format.\n",
    "uiclient.documents.extractions.log(\n",
    "    document = \"freight/booking_confirmation.jpg\",\n",
    "    messages = schema_obj.messages + doc_msg.messages,\n",
    "    completion = completion,\n",
    "    json_schema = json_schema,\n",
    "    model = \"gpt-4o-mini\",\n",
    "    temperature = 0,\n",
    ")"
   ]
  },
  {
   "cell_type": "code",
   "execution_count": 8,
   "id": "719db6f6",
   "metadata": {},
   "outputs": [
    {
     "name": "stdout",
     "output_type": "stream",
     "text": [
      "{'extraction_id': 'extr_5LK9bnCsx8MDs3TdeTvbx', 'status': 'success', 'error_message': None}\n"
     ]
    }
   ],
   "source": [
    "# You can use the messages from different providers (but you cannot mix them)\n",
    "out_log_openai = uiclient.documents.extractions.log(\n",
    "    document = \"freight/booking_confirmation.jpg\",\n",
    "    openai_messages = schema_obj.openai_messages + doc_msg.openai_messages,\n",
    "    completion = completion,\n",
    "    json_schema = json_schema,\n",
    "    model = \"gpt-4o-mini\",\n",
    "    temperature = 0,\n",
    ")\n",
    "print(out_log_openai)\n",
    "\n",
    "out_log_anthropic = uiclient.documents.extractions.log(\n",
    "    document = \"freight/booking_confirmation.jpg\",\n",
    "    anthropic_messages = schema_obj.anthropic_messages + doc_msg.anthropic_messages,\n",
    "    anthropic_system_prompt = schema_obj.anthropic_system_prompt,\n",
    "    completion = completion,\n",
    "    json_schema = json_schema,\n",
    "    model = \"gpt-4o-mini\",\n",
    "    temperature = 0,\n",
    ")\n",
    "print(out_log_anthropic)\n",
    "\n",
    "\n",
    "\n"
   ]
  },
  {
   "cell_type": "markdown",
   "id": "56177728-8447-4dc8-a64a-108924e39688",
   "metadata": {},
   "source": [
    "#### Option B - Using UiForm `extract` endpoint"
   ]
  },
  {
   "cell_type": "code",
   "execution_count": 19,
   "id": "9cc3ae43-a24d-433e-8c24-465797becc8a",
   "metadata": {},
   "outputs": [
    {
     "data": {
      "text/plain": [
       "{'booking_id': 'BC-67890',\n",
       " 'payment': {'total_price': 1500, 'currency': 'EUR'},\n",
       " 'client': {'company_name': 'ACME CORPORATION',\n",
       "  'VAT_number': 'GB123456789',\n",
       "  'city': 'London',\n",
       "  'postal_code': 'WC2N 5DU',\n",
       "  'country': 'GB',\n",
       "  'code': None,\n",
       "  'email': 'client@acme.com'},\n",
       " 'shipments': [{'shipment_id': 'SHIP-001',\n",
       "   'sender': {'company_name': 'ACME Corporation',\n",
       "    'address': {'city': 'London',\n",
       "     'postal_code': 'WC2N 5DU',\n",
       "     'country': 'GB',\n",
       "     'line1': '123 Elm Street',\n",
       "     'line2': 'Suite 500'},\n",
       "    'phone_number': '+44 20 7946 0958',\n",
       "    'email_address': 'client@acme.com',\n",
       "    'pickup_datetime': {'date': '2023-02-05',\n",
       "     'start_time': '08:00:00',\n",
       "     'end_time': '12:00:00'},\n",
       "    'observations': None},\n",
       "   'recipient': {'company_name': 'Beta Industries',\n",
       "    'address': {'city': 'Munich',\n",
       "     'postal_code': '80331',\n",
       "     'country': 'DE',\n",
       "     'line1': '769 Pine Street',\n",
       "     'line2': None},\n",
       "    'phone_number': '+49 89 123456',\n",
       "    'email_address': None,\n",
       "    'delivery_datetime': {'date': '2023-03-05',\n",
       "     'start_time': '10:00:00',\n",
       "     'end_time': '16:00:00'},\n",
       "    'observations': None},\n",
       "   'goods': {'packing': {'units': 10,\n",
       "     'packing_type': 'pallet',\n",
       "     'supplementary_parcels': None,\n",
       "     'pallets_on_ground': 5,\n",
       "     'number_eur_pallet': 5,\n",
       "     'observation': 'Dangerous goods: UN1202, Class 3 - Flammable'},\n",
       "    'dimensions': {'loading_meters': 0.4, 'volume': 1.44},\n",
       "    'weight': 500,\n",
       "    'temperature_infos': {'min_temperature': 5,\n",
       "     'max_temperature': 25,\n",
       "     'category': 'Fresh'},\n",
       "    'dangerous_goods_infos': [{'weight': 500,\n",
       "      'UN_code': 1202,\n",
       "      'UN_label': 'Flammable Liquid',\n",
       "      'UN_class': '3',\n",
       "      'UN_packing_group': 'II',\n",
       "      'ADR_tunnel_code': '-'}]},\n",
       "   'transport_constraints': {'vehicle_type': 'Carrier',\n",
       "    'body_type': 'Tautliner',\n",
       "    'tail_lift': None,\n",
       "    'crane': None}}]}"
      ]
     },
     "execution_count": 19,
     "metadata": {},
     "output_type": "execute_result"
    }
   ],
   "source": [
    "import json\n",
    "from uiform.client import UiForm\n",
    "\n",
    "uiclient = UiForm()\n",
    "completion = uiclient.documents.extractions.parse(\n",
    "    json_schema = \"freight/schema.json\",\n",
    "    document = \"freight/booking_confirmation.jpg\",\n",
    "    model=\"gpt-4o-mini\",\n",
    "    temperature=0,\n",
    ")\n",
    "\n",
    "filter_reasoning_fields_json(completion.choices[0].message.content)"
   ]
  },
  {
   "cell_type": "markdown",
   "id": "38455c97-b600-44c4-b679-f6382bd33279",
   "metadata": {},
   "source": [
    "## Appendix A - Use text as modality"
   ]
  },
  {
   "cell_type": "code",
   "execution_count": 22,
   "id": "257e77d3-8d0b-4ca1-989e-159a8e730f97",
   "metadata": {},
   "outputs": [
    {
     "name": "stdout",
     "output_type": "stream",
     "text": [
      "booking_id='SHIP-001' payment=TransportPriceData(total_price=1500.0, currency='EUR') client=ClientData(company_name='ACME Corporation', VAT_number=None, city='London', postal_code='WC2N S5DU', country='GB', code=None, email='client@acme.com') shipments=[ShipmentData(shipment_id='SHIP-001', sender=SenderData(company_name='ACME Corporation', address=AddressDataSimple(city='Manchester', postal_code='M1 4WP', country='GB', line1='456 Oak Avenue', line2='Floor 3 Suite 500'), phone_number='+442079460958', email_address='client@acme.com', pickup_datetime=PickupDatetimeData(date='2023-02-05', start_time='08:00:00', end_time='12:00:00'), observations=None), recipient=RecipientData(company_name='Beta Industries', address=AddressDataSimple(city='Munich', postal_code='80331', country='DE', line1='789 Pine Street', line2=None), phone_number='+4989123456', email_address=None, delivery_datetime=DeliveryDatetimeData(date='2023-03-05', start_time='10:00:00', end_time='16:00:00'), observations=None), goods=GoodsData(packing=PackingData(units=10, packing_type='pallet', supplementary_parcels=None, pallets_on_ground=5.0, number_eur_pallet=5, observation=None), dimensions=DimensionsData(loading_meters=0.4, volume=1.44), weight=500.0, temperature_infos=TemperatureInfosData(min_temperature=5.0, max_temperature=25.0, category='Fresh'), dangerous_goods_infos=[DangerousGoodsInfoData(weight=500.0, UN_code=1202, UN_label='Flammable Liquid', UN_class='3', UN_packing_group='II', ADR_tunnel_code='B')]), transport_constraints=TruckData(vehicle_type='Carrier', body_type='Tautliner', tail_lift=False, crane=False))]\n"
     ]
    }
   ],
   "source": [
    "from uiform.client import UiForm\n",
    "\n",
    "uiclient = UiForm()\n",
    "\n",
    "completion = uiclient.documents.extractions.parse(\n",
    "    json_schema = \"freight/schema.json\",\n",
    "    document=\"freight/booking_confirmation.jpg\",\n",
    "    model=\"gpt-4o-mini-2024-07-18\",\n",
    "    temperature=0,\n",
    "    modality='text'\n",
    ")\n",
    "\n",
    "print(completion.choices[0].message.parsed)"
   ]
  },
  {
   "cell_type": "markdown",
   "id": "e91fd043-489a-476c-8f03-718737dc7373",
   "metadata": {},
   "source": [
    "## Appendix B - Add image settings"
   ]
  },
  {
   "cell_type": "code",
   "execution_count": 20,
   "id": "ff56ae8b-d576-42e4-ae5e-46486d894598",
   "metadata": {},
   "outputs": [
    {
     "name": "stdout",
     "output_type": "stream",
     "text": [
      "booking_id='SHIP-001' payment=TransportPriceData(total_price=1500, currency='EUR') client=ClientData(company_name='ACME Corporation', VAT_number='GB123456789', city='London', postal_code='WC2N 5DU', country='GB', code='BC-67890', email='client@acme.com') shipments=[ShipmentData(shipment_id='SHIP-001', sender=SenderData(company_name='ACME Corporation', address=AddressDataSimple(city='London', postal_code='WC2N 5DU', country='GB', line1='123 Elm Street', line2='Suite 500'), phone_number='+44 20 7946 0958', email_address='client@acme.com', pickup_datetime=PickupDatetimeData(date='2023-05-02', start_time='08:00:00', end_time='12:00:00'), observations=None), recipient=RecipientData(company_name='Beta Industries', address=AddressDataSimple(city='Munich', postal_code='80331', country='DE', line1='789 Pine Street', line2=None), phone_number='+49 89 123456', email_address=None, delivery_datetime=DeliveryDatetimeData(date='2023-05-03', start_time='10:00:00', end_time='16:00:00'), observations=None), goods=GoodsData(packing=PackingData(units=10, packing_type='pallet', supplementary_parcels=None, pallets_on_ground=10, number_eur_pallet=10, observation='Liquid flammable goods, requires special handling.'), dimensions=DimensionsData(loading_meters=8, volume=1.44), weight=400, temperature_infos={'min_temperature': 5, 'max_temperature': 25, 'category': 'Fresh'}, dangerous_goods_infos=[DangerousGoodsInfoData(weight=400, UN_code=1202, UN_label='Liquid flammable', UN_class='3', UN_packing_group='II', ADR_tunnel_code='B')]), transport_constraints=TruckData(vehicle_type='Carrier', body_type='Tautliner', tail_lift=None, crane=None))]\n"
     ]
    }
   ],
   "source": [
    "from uiform.client import UiForm\n",
    "\n",
    "uiclient = UiForm()\n",
    "\n",
    "image_settings = {\n",
    "    'dpi': 72,\n",
    "    'browser_canvas': 'A4', \n",
    "    'image_to_text': 'ocr',\n",
    "    'correct_image_orientation': True\n",
    "}\n",
    "\n",
    "\n",
    "completion = uiclient.documents.extractions.parse(\n",
    "    json_schema = \"freight/schema.json\",\n",
    "    document = \"freight/booking_confirmation.jpg\",\n",
    "    model=\"gpt-4o-mini-2024-07-18\",\n",
    "    temperature=0,\n",
    "    image_settings=image_settings\n",
    ")\n",
    "\n",
    "print(completion.choices[0].message.parsed)"
   ]
  },
  {
   "cell_type": "markdown",
   "id": "cdfb1637",
   "metadata": {},
   "source": [
    "## Appendix C - Use o3-mini model with reasoning effort"
   ]
  },
  {
   "cell_type": "code",
   "execution_count": null,
   "id": "14819628-9780-4c55-8eb3-c86a545ba772",
   "metadata": {},
   "outputs": [],
   "source": [
    "from uiform.client import UiForm\n",
    "\n",
    "uiclient = UiForm()\n",
    "\n",
    "image_settings = {\n",
    "    'dpi': 72,\n",
    "    'browser_canvas': 'A4', \n",
    "    'image_to_text': 'ocr',\n",
    "    'correct_image_orientation': True\n",
    "}\n",
    "\n",
    "\n",
    "completion = uiclient.documents.extractions.parse(\n",
    "    json_schema = \"freight/schema.json\",\n",
    "    document = \"freight/booking_confirmation.jpg\",\n",
    "    model=\"o3-mini\",\n",
    "    temperature=0,\n",
    "    reasoning_effort=\"low\",\n",
    "    image_settings=image_settings\n",
    ")\n",
    "\n",
    "print(completion.choices[0].message.parsed)"
   ]
  },
  {
   "cell_type": "markdown",
   "id": "124516c7",
   "metadata": {},
   "source": [
    "## Appendix D - Consensus extraction"
   ]
  },
  {
   "cell_type": "markdown",
   "id": "2e690f99",
   "metadata": {},
   "source": [
    "You can also benefit from consensus by running multiple extractions (with non-zero temperature) and gathering the best results with a more reliable likelihoods.\n",
    "\n",
    "Be careful, the cost of consensus is as much higher as the number of consensus model you run. ($Total = N * Cost(model)$)"
   ]
  },
  {
   "cell_type": "code",
   "execution_count": 16,
   "id": "13007a26",
   "metadata": {},
   "outputs": [
    {
     "data": {
      "text/plain": [
       "{'booking_id': 'BC-67890',\n",
       " 'payment': {'total_price': 1500, 'currency': 'EUR'},\n",
       " 'client': {'company_name': 'ACME Corporation',\n",
       "  'VAT_number': 'GB123456789',\n",
       "  'city': 'London',\n",
       "  'postal_code': 'WC2N 5DU',\n",
       "  'country': 'GB',\n",
       "  'code': None,\n",
       "  'email': 'client@acme.com'},\n",
       " 'shipments': [{'shipment_id': 'SHIP-001',\n",
       "   'sender': {'company_name': 'ACME Corporation',\n",
       "    'address': {'city': 'London',\n",
       "     'postal_code': 'WC2N 5DU',\n",
       "     'country': 'GB',\n",
       "     'line1': '123 Elm Street',\n",
       "     'line2': 'Suite 500'},\n",
       "    'phone_number': '+44 20 7946 0958',\n",
       "    'email_address': 'client@acme.com',\n",
       "    'pickup_datetime': {'date': '2023-02-05',\n",
       "     'start_time': '08:00:00',\n",
       "     'end_time': '12:00:00'},\n",
       "    'observations': None},\n",
       "   'recipient': {'company_name': 'Beta Industries',\n",
       "    'address': {'city': 'Munich',\n",
       "     'postal_code': '80331',\n",
       "     'country': 'DE',\n",
       "     'line1': '789 Pine Street',\n",
       "     'line2': None},\n",
       "    'phone_number': '+49 89 123456',\n",
       "    'email_address': None,\n",
       "    'delivery_datetime': {'date': '2023-03-05',\n",
       "     'start_time': '10:00:00',\n",
       "     'end_time': '16:00:00'},\n",
       "    'observations': None},\n",
       "   'goods': {'packing': {'units': 5,\n",
       "     'packing_type': 'pallet',\n",
       "     'supplementary_parcels': None,\n",
       "     'pallets_on_ground': 5,\n",
       "     'number_eur_pallet': 5,\n",
       "     'observation': 'None'},\n",
       "    'dimensions': {'loading_meters': 0.4, 'volume': 1.44},\n",
       "    'weight': 500,\n",
       "    'temperature_infos': {'min_temperature': 5,\n",
       "     'max_temperature': 25,\n",
       "     'category': 'Fresh'},\n",
       "    'dangerous_goods_infos': [{'weight': 500,\n",
       "      'UN_code': 1202,\n",
       "      'UN_label': 'Liquid inflammable',\n",
       "      'UN_class': '3',\n",
       "      'UN_packing_group': 'II',\n",
       "      'ADR_tunnel_code': None}]},\n",
       "   'transport_constraints': {'vehicle_type': 'Carrier',\n",
       "    'body_type': 'Tautliner',\n",
       "    'tail_lift': False,\n",
       "    'crane': False}}]}"
      ]
     },
     "execution_count": 16,
     "metadata": {},
     "output_type": "execute_result"
    }
   ],
   "source": [
    "from uiform.client import UiForm\n",
    "\n",
    "uiclient = UiForm()\n",
    "\n",
    "completion = uiclient.documents.extractions.parse(\n",
    "    json_schema = \"freight/schema.json\",\n",
    "    document = \"freight/booking_confirmation.jpg\",\n",
    "    model=\"gpt-4o-mini\",\n",
    "    temperature=0.5,\n",
    "    # image_settings=image_settings,\n",
    "    n_consensus=5\n",
    ")\n",
    "\n",
    "filter_reasoning_fields_json(completion.choices[0].message.content or \"{}\")"
   ]
  },
  {
   "cell_type": "code",
   "execution_count": 17,
   "id": "02effad7",
   "metadata": {},
   "outputs": [
    {
     "data": {
      "text/plain": [
       "{'reasoning___root': 1.0,\n",
       " 'booking_id': 1.0,\n",
       " 'payment': {'total_price': 1.0, 'currency': 1.0, '_consensus_score': 1.0},\n",
       " 'client': {'company_name': 1.0,\n",
       "  'reasoning___VAT_number': 1.0,\n",
       "  'VAT_number': 1.0,\n",
       "  'city': 1.0,\n",
       "  'postal_code': 1.0,\n",
       "  'country': 1.0,\n",
       "  'code': 0.6,\n",
       "  'email': 1.0,\n",
       "  '_consensus_score': 0.94286},\n",
       " 'reasoning___shipments': 1.0,\n",
       " 'shipments': [{'shipment_id': 0.8,\n",
       "   'reasoning___sender': 1.0,\n",
       "   'sender': {'company_name': 1.0,\n",
       "    'address': {'city': 0.8,\n",
       "     'postal_code': 0.8,\n",
       "     'country': 1.0,\n",
       "     'line1': 0.8,\n",
       "     'line2': 0.8,\n",
       "     '_consensus_score': 0.84},\n",
       "    'phone_number': 1.0,\n",
       "    'email_address': 1.0,\n",
       "    'pickup_datetime': {'date': 1.0,\n",
       "     'start_time': 1.0,\n",
       "     'end_time': 1.0,\n",
       "     '_consensus_score': 1.0},\n",
       "    'observations': 0.6,\n",
       "    '_consensus_score': 0.90667},\n",
       "   'reasoning___recipient': 1.0,\n",
       "   'recipient': {'company_name': 1.0,\n",
       "    'address': {'city': 1.0,\n",
       "     'postal_code': 1.0,\n",
       "     'country': 1.0,\n",
       "     'line1': 0.8,\n",
       "     'line2': 0.8,\n",
       "     '_consensus_score': 0.92},\n",
       "    'phone_number': 1.0,\n",
       "    'email_address': 0.8,\n",
       "    'delivery_datetime': {'date': 1.0,\n",
       "     'start_time': 1.0,\n",
       "     'end_time': 1.0,\n",
       "     '_consensus_score': 1.0},\n",
       "    'observations': 0.6,\n",
       "    '_consensus_score': 0.88667},\n",
       "   'reasoning___goods': 1.0,\n",
       "   'goods': {'packing': {'units': 0.8,\n",
       "     'packing_type': 0.8,\n",
       "     'supplementary_parcels': 0.8,\n",
       "     'reasoning___pallets_on_ground': 1.0,\n",
       "     'pallets_on_ground': 0.86,\n",
       "     'number_eur_pallet': 0.6,\n",
       "     'observation': 0.4,\n",
       "     '_consensus_score': 0.71},\n",
       "    'dimensions': {'reasoning___loading_meters': 1.0,\n",
       "     'loading_meters': 0.49556,\n",
       "     'reasoning___volume': 1.0,\n",
       "     'volume': 1.0,\n",
       "     '_consensus_score': 0.74778},\n",
       "    'weight': 1.0,\n",
       "    'temperature_infos': {'min_temperature': 1.0,\n",
       "     'max_temperature': 1.0,\n",
       "     'category': 1.0,\n",
       "     '_consensus_score': 1.0},\n",
       "    'reasoning___dangerous_goods_infos': 1.0,\n",
       "    'dangerous_goods_infos': [{'weight': 1.0,\n",
       "      'UN_code': 1.0,\n",
       "      'UN_label': 0.4,\n",
       "      'UN_class': 1.0,\n",
       "      'UN_packing_group': 1.0,\n",
       "      'ADR_tunnel_code': 0.6,\n",
       "      '_consensus_score': 0.83333}],\n",
       "    '_consensus_score': 0.85822},\n",
       "   'reasoning___transport_constraints': 1.0,\n",
       "   'transport_constraints': {'vehicle_type': 0.8,\n",
       "    'body_type': 0.4,\n",
       "    'tail_lift': 1.0,\n",
       "    'crane': 1.0,\n",
       "    '_consensus_score': 0.8},\n",
       "   '_consensus_score': 0.85031}],\n",
       " '_consensus_score': 0.94829}"
      ]
     },
     "execution_count": 17,
     "metadata": {},
     "output_type": "execute_result"
    }
   ],
   "source": [
    "completion.likelihoods"
   ]
  }
 ],
 "metadata": {
  "kernelspec": {
   "display_name": "Python 3",
   "language": "python",
   "name": "python3"
  },
  "language_info": {
   "codemirror_mode": {
    "name": "ipython",
    "version": 3
   },
   "file_extension": ".py",
   "mimetype": "text/x-python",
   "name": "python",
   "nbconvert_exporter": "python",
   "pygments_lexer": "ipython3",
   "version": "3.12.7"
  }
 },
 "nbformat": 4,
 "nbformat_minor": 5
}
