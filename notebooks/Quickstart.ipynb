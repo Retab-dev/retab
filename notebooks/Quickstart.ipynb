{
 "cells": [
  {
   "cell_type": "markdown",
   "id": "1a2a2fd0-c8ce-4142-8499-ab79701b50f4",
   "metadata": {},
   "source": [
    "### Setup your environnement variables"
   ]
  },
  {
   "cell_type": "code",
   "execution_count": 1,
   "id": "5400407f-31cc-4ad1-89fa-04ee2d482d1b",
   "metadata": {},
   "outputs": [],
   "source": [
    "import os\n",
    "\n",
    "os.environ[\"OPENAI_API_KEY\"] = \"YOUR API KEY\"\n",
    "os.environ[\"UIFORM_API_KEY\"] = \"YOUR API KEY\" # go to https://uiform.com to create your API Key"
   ]
  },
  {
   "cell_type": "code",
   "execution_count": 1,
   "id": "e5bfe9bd-b890-4033-bef0-345149987d88",
   "metadata": {},
   "outputs": [],
   "source": [
    "from dotenv import load_dotenv\n",
    "assert load_dotenv(\"../.env.production\") # Load environment variables from a .env file"
   ]
  },
  {
   "cell_type": "markdown",
   "id": "e873ea72-2fa6-4233-8e0d-9f220aeb4a36",
   "metadata": {},
   "source": [
    "# Get started"
   ]
  },
  {
   "cell_type": "code",
   "execution_count": 2,
   "id": "9c8b5c2f-d6af-4347-8e8f-208cc6aa9b13",
   "metadata": {},
   "outputs": [
    {
     "data": {
      "text/plain": [
       "['claude-3-5-sonnet-latest',\n",
       " 'claude-3-5-sonnet-20241022',\n",
       " 'claude-3-opus-20240229',\n",
       " 'claude-3-sonnet-20240229',\n",
       " 'claude-3-haiku-20240307',\n",
       " 'gpt-4o',\n",
       " 'gpt-4o-mini',\n",
       " 'chatgpt-4o-latest',\n",
       " 'gpt-4o-2024-11-20',\n",
       " 'gpt-4o-2024-08-06',\n",
       " 'gpt-4o-2024-05-13',\n",
       " 'gpt-4o-mini-2024-07-18',\n",
       " 'o1-2024-12-17',\n",
       " 'o1-mini-2024-09-12',\n",
       " 'grok-2-vision-1212',\n",
       " 'grok-2-1212',\n",
       " 'gemini-2.0-flash-exp',\n",
       " 'gemini-1.5-flash-8b',\n",
       " 'gemini-1.5-flash',\n",
       " 'gemini-1.5-pro']"
      ]
     },
     "execution_count": 2,
     "metadata": {},
     "output_type": "execute_result"
    }
   ],
   "source": [
    "from uiform import UiForm\n",
    "uiclient = UiForm()\n",
    "uiclient.models.list()"
   ]
  },
  {
   "cell_type": "markdown",
   "id": "48beff48-f03e-47fa-b248-a5e40558989b",
   "metadata": {},
   "source": [
    "# Example 1 - Analyze informations from a document"
   ]
  },
  {
   "cell_type": "markdown",
   "id": "8f1e206e-c04e-4a0b-88e2-235cf3ec2047",
   "metadata": {},
   "source": [
    "#### Option A - You use our preprocess endpoint and openAI client"
   ]
  },
  {
   "cell_type": "code",
   "execution_count": 3,
   "id": "acd69f9e-ac82-4122-8b3b-23ebfdcd69c9",
   "metadata": {},
   "outputs": [],
   "source": [
    "import json\n",
    "from uiform import UiForm, Schema\n",
    "from openai import OpenAI\n",
    "\n",
    "with open(\"freight/schema.json\", \"r\") as f:\n",
    "    json_schema = json.load(f)\n",
    "\n",
    "\n",
    "uiclient = UiForm()\n",
    "doc_msg = uiclient.documents.create_messages(\n",
    "    document = \"freight/booking_confirmation.jpg\",\n",
    ")\n",
    "\n",
    "schema_obj = Schema(\n",
    "    json_schema = json_schema\n",
    ")\n",
    "\n",
    "\n",
    "# Now you can use your favorite model to analyze your document\n",
    "client = OpenAI()\n",
    "completion = client.beta.chat.completions.parse(\n",
    "    model=\"gpt-4o-mini\", \n",
    "    messages=schema_obj.openai_messages + doc_msg.openai_messages,\n",
    "    response_format=schema_obj.inference_pydantic_model\n",
    ")"
   ]
  },
  {
   "cell_type": "code",
   "execution_count": 4,
   "id": "a6d2eff6-3a03-47e6-8ab6-31488505b435",
   "metadata": {},
   "outputs": [],
   "source": [
    "# Validate the response against the original schema if you want to remove the reasoning fields\n",
    "from uiform._utils.json_schema import filter_reasoning_fields_json\n",
    "assert completion.choices[0].message.content is not None\n",
    "extraction = schema_obj.pydantic_model.model_validate(\n",
    "     filter_reasoning_fields_json(completion.choices[0].message.content, schema_obj.pydantic_model)\n",
    ")"
   ]
  },
  {
   "cell_type": "markdown",
   "id": "706be0d2-38b4-4d69-afa1-d072b2f6b8d5",
   "metadata": {},
   "source": [
    "#### You can also add some preprocessing operations to find informations that the LLM struggles to parse"
   ]
  },
  {
   "cell_type": "code",
   "execution_count": 20,
   "id": "d0869eea-d421-4773-b6e4-f37138ca0146",
   "metadata": {},
   "outputs": [],
   "source": [
    "text_operations = {\n",
    "    'regex_instructions' : [\n",
    "        {\n",
    "            \"name\": \"vat_number\",\n",
    "            \"pattern\": r\"[Ff][Rr]\\s*(\\d\\s*){11}\",\n",
    "            \"description\": \"VAT number in the format XX999999999\"\n",
    "        }\n",
    "    ]\n",
    "}\n",
    "\n",
    "doc_msg = uiclient.documents.create_messages(\n",
    "    document = \"freight/booking_confirmation.jpg\",\n",
    "    text_operations=text_operations\n",
    ")"
   ]
  },
  {
   "cell_type": "markdown",
   "id": "56177728-8447-4dc8-a64a-108924e39688",
   "metadata": {},
   "source": [
    "#### Option B - Using UiForm `extract` endpoint"
   ]
  },
  {
   "cell_type": "code",
   "execution_count": 3,
   "id": "9cc3ae43-a24d-433e-8c24-465797becc8a",
   "metadata": {},
   "outputs": [
    {
     "name": "stdout",
     "output_type": "stream",
     "text": [
      "None\n"
     ]
    }
   ],
   "source": [
    "import json\n",
    "from uiform.client import UiForm\n",
    "\n",
    "uiclient = UiForm()\n",
    "completion = uiclient.documents.extractions.parse(\n",
    "    json_schema = \"freight/schema.json\",\n",
    "    document = \"freight/booking_confirmation.jpg\",\n",
    "    model=\"gpt-4o-mini\",\n",
    "    temperature=0\n",
    ")\n",
    "\n",
    "print(completion.choices[0].message.parsed)"
   ]
  },
  {
   "cell_type": "markdown",
   "id": "38455c97-b600-44c4-b679-f6382bd33279",
   "metadata": {},
   "source": [
    "## Appendix A - Use text as modality"
   ]
  },
  {
   "cell_type": "code",
   "execution_count": 22,
   "id": "257e77d3-8d0b-4ca1-989e-159a8e730f97",
   "metadata": {},
   "outputs": [
    {
     "name": "stdout",
     "output_type": "stream",
     "text": [
      "booking_id='SHIP-001' payment=TransportPriceData(total_price=1500.0, currency='EUR') client=ClientData(company_name='ACME Corporation', VAT_number=None, city='London', postal_code='WC2N S5DU', country='GB', code=None, email='client@acme.com') shipments=[ShipmentData(shipment_id='SHIP-001', sender=SenderData(company_name='ACME Corporation', address=AddressDataSimple(city='Manchester', postal_code='M1 4WP', country='GB', line1='456 Oak Avenue', line2='Floor 3 Suite 500'), phone_number='+442079460958', email_address='client@acme.com', pickup_datetime=PickupDatetimeData(date='2023-02-05', start_time='08:00:00', end_time='12:00:00'), observations=None), recipient=RecipientData(company_name='Beta Industries', address=AddressDataSimple(city='Munich', postal_code='80331', country='DE', line1='789 Pine Street', line2=None), phone_number='+4989123456', email_address=None, delivery_datetime=DeliveryDatetimeData(date='2023-03-05', start_time='10:00:00', end_time='16:00:00'), observations=None), goods=GoodsData(packing=PackingData(units=10, packing_type='pallet', supplementary_parcels=None, pallets_on_ground=5.0, number_eur_pallet=5, observation=None), dimensions=DimensionsData(loading_meters=0.4, volume=1.44), weight=500.0, temperature_infos=TemperatureInfosData(min_temperature=5.0, max_temperature=25.0, category='Fresh'), dangerous_goods_infos=[DangerousGoodsInfoData(weight=500.0, UN_code=1202, UN_label='Flammable Liquid', UN_class='3', UN_packing_group='II', ADR_tunnel_code='B')]), transport_constraints=TruckData(vehicle_type='Carrier', body_type='Tautliner', tail_lift=False, crane=False))]\n"
     ]
    }
   ],
   "source": [
    "from uiform.client import UiForm\n",
    "\n",
    "uiclient = UiForm()\n",
    "\n",
    "completion = uiclient.documents.extractions.parse(\n",
    "    json_schema = \"freight/schema.json\",\n",
    "    document=\"freight/booking_confirmation.jpg\",\n",
    "    model=\"gpt-4o-mini-2024-07-18\",\n",
    "    temperature=0,\n",
    "    modality='text'\n",
    ")\n",
    "\n",
    "print(completion.choices[0].message.parsed)"
   ]
  },
  {
   "cell_type": "markdown",
   "id": "e91fd043-489a-476c-8f03-718737dc7373",
   "metadata": {},
   "source": [
    "## Appendix B - Add text operations"
   ]
  },
  {
   "cell_type": "code",
   "execution_count": null,
   "id": "ff56ae8b-d576-42e4-ae5e-46486d894598",
   "metadata": {},
   "outputs": [],
   "source": [
    "from uiform.client import UiForm\n",
    "\n",
    "uiclient = UiForm()\n",
    "\n",
    "text_operations = {\n",
    "    'regex_instructions' : [\n",
    "        {\n",
    "            \"name\": \"vat_number\",\n",
    "            \"pattern\": r\"[Ff][Rr]\\s*(\\d\\s*){11}\",\n",
    "            \"description\": \"VAT number in the format XX999999999\"\n",
    "        }\n",
    "    ]\n",
    "}\n",
    "\n",
    "completion = uiclient.documents.extractions.parse(\n",
    "    json_schema = \"freight/schema.json\",\n",
    "    document = \"freight/booking_confirmation.jpg\",\n",
    "    model=\"gpt-4o-mini-2024-07-18\",\n",
    "    temperature=0,\n",
    "    text_operations=text_operations\n",
    ")\n",
    "\n",
    "print(completion.choices[0].message.parsed)"
   ]
  },
  {
   "cell_type": "code",
   "execution_count": null,
   "id": "14819628-9780-4c55-8eb3-c86a545ba772",
   "metadata": {},
   "outputs": [],
   "source": []
  }
 ],
 "metadata": {
  "kernelspec": {
   "display_name": "Python 3 (ipykernel)",
   "language": "python",
   "name": "python3"
  },
  "language_info": {
   "codemirror_mode": {
    "name": "ipython",
    "version": 3
   },
   "file_extension": ".py",
   "mimetype": "text/x-python",
   "name": "python",
   "nbconvert_exporter": "python",
   "pygments_lexer": "ipython3",
   "version": "3.12.4"
  }
 },
 "nbformat": 4,
 "nbformat_minor": 5
}
