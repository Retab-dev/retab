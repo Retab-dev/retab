{
 "cells": [
  {
   "cell_type": "markdown",
   "id": "1a2a2fd0-c8ce-4142-8499-ab79701b50f4",
   "metadata": {},
   "source": [
    "# Step 0 - Setup your environnement variables"
   ]
  },
  {
   "cell_type": "code",
   "execution_count": 1,
   "id": "5400407f-31cc-4ad1-89fa-04ee2d482d1b",
   "metadata": {},
   "outputs": [],
   "source": [
    "import os\n",
    "\n",
    "os.environ[\"OPENAI_API_KEY\"] = \"YOUR API KEY\"\n",
    "os.environ[\"UIFORM_API_KEY\"] = \"YOUR API KEY\""
   ]
  },
  {
   "cell_type": "markdown",
   "id": "48beff48-f03e-47fa-b248-a5e40558989b",
   "metadata": {},
   "source": [
    "# Example 1 - Analyze informations from an email"
   ]
  },
  {
   "cell_type": "code",
   "execution_count": null,
   "id": "8124bcf7-dd14-4b9e-943d-4a09172c62fa",
   "metadata": {},
   "outputs": [],
   "source": [
    "import json\n",
    "from uiform.client import UiForm\n",
    "\n",
    "with open(\"tldr_email_schema.json\", \"r\") as f:\n",
    "    json_schema = json.load(f)\n",
    "\n",
    "print(\"Schema\")\n",
    "print(json.dumps(json_schema, indent=2))\n",
    "\n",
    "document = \"tldr_07_01_25.eml\"\n",
    "\n",
    "client = UiForm()\n",
    "response = client.documents.extract(\n",
    "    json_schema = json_schema,\n",
    "    document = document,\n",
    "    model=\"gpt-4o-2024-11-20\",\n",
    "    temperature=0\n",
    ")"
   ]
  },
  {
   "cell_type": "markdown",
   "id": "9404e807-7abc-4b13-a8c8-9d45b8081d1c",
   "metadata": {},
   "source": [
    "# Example 2 - Extract informations from a complex document"
   ]
  },
  {
   "cell_type": "code",
   "execution_count": 4,
   "id": "e94d136d-e7df-4ffa-a985-2e9b2c1fbf3a",
   "metadata": {},
   "outputs": [],
   "source": [
    "import json\n",
    "from uiform.client import UiForm\n",
    "\n",
    "with open(\"booking_confirmation_json_schema.json\", \"r\") as f:\n",
    "    json_schema = json.load(f)\n",
    "\n",
    "document = \"booking_confirmation.jpg\"\n",
    "\n",
    "client = UiForm()\n",
    "response = client.documents.extract(\n",
    "    json_schema = json_schema,\n",
    "    document = document,\n",
    "    model=\"gpt-4o-mini\",\n",
    "    temperature=0\n",
    ")"
   ]
  },
  {
   "cell_type": "markdown",
   "id": "38455c97-b600-44c4-b679-f6382bd33279",
   "metadata": {},
   "source": [
    "## Appendix A - Use text as modality"
   ]
  },
  {
   "cell_type": "code",
   "execution_count": null,
   "id": "257e77d3-8d0b-4ca1-989e-159a8e730f97",
   "metadata": {},
   "outputs": [],
   "source": [
    "import json\n",
    "from uiform.client import UiForm\n",
    "\n",
    "with open(\"booking_confirmation_json_schema.json\", \"r\") as f:\n",
    "    json_schema = json.load(f)\n",
    "\n",
    "client = UiForm()\n",
    "\n",
    "response = client.documents.extract(\n",
    "    json_schema = json_schema,\n",
    "    document=\"booking_confirmation.jpg\",\n",
    "    model=\"gpt-4o-mini-2024-07-18\",\n",
    "    temperature=0,\n",
    "    modality='text'\n",
    ")"
   ]
  },
  {
   "cell_type": "markdown",
   "id": "e91fd043-489a-476c-8f03-718737dc7373",
   "metadata": {},
   "source": [
    "## Appendix B - Add additional context"
   ]
  },
  {
   "cell_type": "code",
   "execution_count": null,
   "id": "ff56ae8b-d576-42e4-ae5e-46486d894598",
   "metadata": {},
   "outputs": [],
   "source": [
    "import json\n",
    "from uiform.client import UiForm\n",
    "\n",
    "with open(\"booking_confirmation_json_schema.json\", \"r\") as f:\n",
    "    json_schema = json.load(f)\n",
    "\n",
    "client = UiForm()\n",
    "\n",
    "additional_context = {'regex_instructions' : [\n",
    "        {\n",
    "            \"name\": \"vat_number\",\n",
    "            \"pattern\": r\"[Ff][Rr]\\s*(\\d\\s*){11}\",\n",
    "            \"description\": \"VAT number in the format XX999999999\"\n",
    "        }\n",
    "    ]\n",
    "}\n",
    "\n",
    "response = client.documents.extract(\n",
    "    json_schema = json_schema,\n",
    "    document = \"booking_confirmation.jpg\",\n",
    "    model=\"gpt-4o-mini-2024-07-18\",\n",
    "    temperature=0,\n",
    "    additional_context=additional_context\n",
    ")"
   ]
  }
 ],
 "metadata": {
  "kernelspec": {
   "display_name": "Python 3 (ipykernel)",
   "language": "python",
   "name": "python3"
  },
  "language_info": {
   "codemirror_mode": {
    "name": "ipython",
    "version": 3
   },
   "file_extension": ".py",
   "mimetype": "text/x-python",
   "name": "python",
   "nbconvert_exporter": "python",
   "pygments_lexer": "ipython3",
   "version": "3.12.4"
  }
 },
 "nbformat": 4,
 "nbformat_minor": 5
}
