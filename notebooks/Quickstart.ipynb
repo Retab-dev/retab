{
 "cells": [
  {
   "cell_type": "markdown",
   "id": "1a2a2fd0-c8ce-4142-8499-ab79701b50f4",
   "metadata": {},
   "source": [
    "### Setup your environnement variables"
   ]
  },
  {
   "cell_type": "code",
   "execution_count": 1,
   "id": "5400407f-31cc-4ad1-89fa-04ee2d482d1b",
   "metadata": {},
   "outputs": [],
   "source": [
    "import os\n",
    "\n",
    "os.environ[\"OPENAI_API_KEY\"] = \"YOUR API KEY\"\n",
    "os.environ[\"UIFORM_API_KEY\"] = \"YOUR API KEY\" # go to https://uiform.com to create your API Key"
   ]
  },
  {
   "cell_type": "markdown",
   "id": "e873ea72-2fa6-4233-8e0d-9f220aeb4a36",
   "metadata": {},
   "source": [
    "# Get started"
   ]
  },
  {
   "cell_type": "code",
   "execution_count": 2,
   "id": "e5bfe9bd-b890-4033-bef0-345149987d88",
   "metadata": {},
   "outputs": [],
   "source": [
    "from dotenv import load_dotenv\n",
    "assert load_dotenv(override=True) # Load environment variables from a .env file"
   ]
  },
  {
   "cell_type": "code",
   "execution_count": null,
   "id": "9c8b5c2f-d6af-4347-8e8f-208cc6aa9b13",
   "metadata": {},
   "outputs": [],
   "source": [
    "from uiform import UiForm\n",
    "uiclient = UiForm()\n",
    "uiclient.models.list()"
   ]
  },
  {
   "cell_type": "markdown",
   "id": "48beff48-f03e-47fa-b248-a5e40558989b",
   "metadata": {},
   "source": [
    "# Example 1 - Analyze informations from a document"
   ]
  },
  {
   "cell_type": "markdown",
   "id": "8f1e206e-c04e-4a0b-88e2-235cf3ec2047",
   "metadata": {},
   "source": [
    "#### Option A - You use our preprocess endpoint and openAI client"
   ]
  },
  {
   "cell_type": "code",
   "execution_count": null,
   "id": "acd69f9e-ac82-4122-8b3b-23ebfdcd69c9",
   "metadata": {},
   "outputs": [],
   "source": [
    "import json\n",
    "from uiform import UiForm, Schema\n",
    "from openai import OpenAI\n",
    "\n",
    "with open(\"freight/schema.json\", \"r\") as f:\n",
    "    json_schema = json.load(f)\n",
    "\n",
    "\n",
    "uiclient = UiForm()\n",
    "doc_msg = uiclient.documents.create_messages(\n",
    "    document = \"freight/booking_confirmation.jpg\",\n",
    ")\n",
    "\n",
    "schema_obj = Schema(\n",
    "    json_schema = json_schema\n",
    ")\n",
    "\n",
    "\n",
    "# Now you can use your favorite model to analyze your document\n",
    "client = OpenAI()\n",
    "completion = client.chat.completions.create(\n",
    "    model=\"gpt-4o-mini\", \n",
    "    messages=schema_obj.openai_messages + doc_msg.openai_messages,\n",
    "    response_format=schema_obj.response_format_json\n",
    ")\n",
    "\n",
    "# Validate the response against the original schema if you want to remove the reasoning fields\n",
    "assert completion.choices[0].message.content is not None\n",
    "extraction = schema_obj.pydantic_model.model_validate_json(\n",
    "    completion.choices[0].message.content\n",
    ")\n",
    "\n",
    "print(extraction)"
   ]
  },
  {
   "cell_type": "code",
   "execution_count": null,
   "id": "ce2950f3",
   "metadata": {},
   "outputs": [],
   "source": [
    "extraction.model_dump()"
   ]
  },
  {
   "cell_type": "markdown",
   "id": "706be0d2-38b4-4d69-afa1-d072b2f6b8d5",
   "metadata": {},
   "source": [
    "#### You can also add some preprocessing operations to find informations that the LLM struggles to parse"
   ]
  },
  {
   "cell_type": "code",
   "execution_count": 12,
   "id": "d0869eea-d421-4773-b6e4-f37138ca0146",
   "metadata": {},
   "outputs": [],
   "source": [
    "text_operations = {\n",
    "    'regex_instructions' : [\n",
    "        {\n",
    "            \"name\": \"vat_number\",\n",
    "            \"pattern\": r\"[Ff][Rr]\\s*(\\d\\s*){11}\",\n",
    "            \"description\": \"VAT number in the format XX999999999\"\n",
    "        }\n",
    "    ]\n",
    "}\n",
    "\n",
    "doc_msg = uiclient.documents.create_messages(\n",
    "    document = \"freight/booking_confirmation.jpg\",\n",
    "    text_operations=text_operations\n",
    ")"
   ]
  },
  {
   "cell_type": "markdown",
   "id": "56177728-8447-4dc8-a64a-108924e39688",
   "metadata": {},
   "source": [
    "#### Option B - Using UiForm `extractions.parse` endpoint"
   ]
  },
  {
   "cell_type": "code",
   "execution_count": null,
   "id": "9cc3ae43-a24d-433e-8c24-465797becc8a",
   "metadata": {},
   "outputs": [],
   "source": [
    "import json\n",
    "from uiform.client import UiForm\n",
    "\n",
    "uiclient = UiForm()\n",
    "completion = uiclient.documents.extractions.parse(\n",
    "    json_schema = \"freight/schema.json\",\n",
    "    document = \"freight/booking_confirmation.jpg\",\n",
    "    model=\"gpt-4o-mini\",\n",
    "    temperature=0\n",
    ")\n",
    "\n",
    "print(completion.choices[0].message.parsed)"
   ]
  },
  {
   "cell_type": "markdown",
   "id": "bb6b2565",
   "metadata": {},
   "source": [
    "#### Option C - Using UiForm `extractions.stream` endpoint"
   ]
  },
  {
   "cell_type": "code",
   "execution_count": null,
   "id": "5460312c",
   "metadata": {},
   "outputs": [],
   "source": [
    "import json\n",
    "from uiform.client import UiForm\n",
    "from IPython.display import clear_output, display\n",
    "\n",
    "uiclient = UiForm()\n",
    "\n",
    "for completion in uiclient.documents.extractions.stream(\n",
    "    json_schema = \"freight/schema.json\",\n",
    "    document = \"freight/booking_confirmation.jpg\",\n",
    "    model=\"gpt-4o-mini\",\n",
    "    temperature=0\n",
    "):\n",
    "    clear_output(wait=True)\n",
    "    if completion.choices[0].message.parsed is not None:\n",
    "        display(completion.choices[0].message.parsed.model_dump())"
   ]
  },
  {
   "cell_type": "code",
   "execution_count": null,
   "id": "3df6d4ec",
   "metadata": {},
   "outputs": [],
   "source": [
    "completion.choices[0].message.parsed"
   ]
  },
  {
   "cell_type": "markdown",
   "id": "38455c97-b600-44c4-b679-f6382bd33279",
   "metadata": {},
   "source": [
    "## Appendix A - Use text as modality"
   ]
  },
  {
   "cell_type": "code",
   "execution_count": null,
   "id": "257e77d3-8d0b-4ca1-989e-159a8e730f97",
   "metadata": {},
   "outputs": [],
   "source": [
    "from uiform.client import UiForm\n",
    "\n",
    "uiclient = UiForm()\n",
    "\n",
    "completion = uiclient.documents.extractions.parse(\n",
    "    json_schema = \"freight/schema.json\",\n",
    "    document=\"freight/booking_confirmation.jpg\",\n",
    "    model=\"gpt-4o-mini-2024-07-18\",\n",
    "    temperature=0,\n",
    "    modality='text'\n",
    ")\n",
    "\n",
    "print(completion.choices[0].message.parsed)"
   ]
  },
  {
   "cell_type": "markdown",
   "id": "e91fd043-489a-476c-8f03-718737dc7373",
   "metadata": {},
   "source": [
    "## Appendix B - Add text operations"
   ]
  },
  {
   "cell_type": "code",
   "execution_count": null,
   "id": "ff56ae8b-d576-42e4-ae5e-46486d894598",
   "metadata": {},
   "outputs": [],
   "source": [
    "from uiform.client import UiForm\n",
    "\n",
    "uiclient = UiForm()\n",
    "\n",
    "text_operations = {\n",
    "    'regex_instructions' : [\n",
    "        {\n",
    "            \"name\": \"vat_number\",\n",
    "            \"pattern\": r\"[Ff][Rr]\\s*(\\d\\s*){11}\",\n",
    "            \"description\": \"VAT number in the format XX999999999\"\n",
    "        }\n",
    "    ]\n",
    "}\n",
    "\n",
    "completion = uiclient.documents.extractions.parse(\n",
    "    json_schema = \"freight/schema.json\",\n",
    "    document = \"freight/booking_confirmation.jpg\",\n",
    "    model=\"gpt-4o-mini-2024-07-18\",\n",
    "    temperature=0,\n",
    "    text_operations=text_operations\n",
    ")\n",
    "\n",
    "print(completion.choices[0].message.parsed)"
   ]
  },
  {
   "cell_type": "code",
   "execution_count": null,
   "id": "14819628-9780-4c55-8eb3-c86a545ba772",
   "metadata": {},
   "outputs": [],
   "source": []
  }
 ],
 "metadata": {
  "kernelspec": {
   "display_name": "Python 3",
   "language": "python",
   "name": "python3"
  },
  "language_info": {
   "codemirror_mode": {
    "name": "ipython",
    "version": 3
   },
   "file_extension": ".py",
   "mimetype": "text/x-python",
   "name": "python",
   "nbconvert_exporter": "python",
   "pygments_lexer": "ipython3",
   "version": "3.12.7"
  }
 },
 "nbformat": 4,
 "nbformat_minor": 5
}
