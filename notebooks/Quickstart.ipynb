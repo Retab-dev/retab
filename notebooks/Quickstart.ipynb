{
    "cells": [
        {
            "cell_type": "markdown",
            "id": "1a2a2fd0-c8ce-4142-8499-ab79701b50f4",
            "metadata": {},
            "source": [
                "### Setup your environnement variables"
            ]
        },
        {
            "cell_type": "code",
            "execution_count": 1,
            "id": "e5bfe9bd-b890-4033-bef0-345149987d88",
            "metadata": {},
            "outputs": [],
            "source": [
                "from dotenv import load_dotenv\n",
                "assert load_dotenv(\"../.env.local\", override=True) # Load environment variables from a .env file\n",
                "# setup OPENAI_API_KEY and RETAB_API_KEY in the .env.local file\n",
                "# Or you can set them directly in the code:\n",
                "# import os\n",
                "# os.environ[\"OPENAI_API_KEY\"] = \"YOUR API KEY\"\n",
                "# os.environ[\"RETAB_API_KEY\"] = \"YOUR API KEY\" # go to https://retab.dev to create your API Key"
            ]
        },
        {
            "cell_type": "markdown",
            "id": "e873ea72-2fa6-4233-8e0d-9f220aeb4a36",
            "metadata": {},
            "source": [
                "# Get started"
            ]
        },
        {
            "cell_type": "code",
            "execution_count": 2,
            "id": "9c8b5c2f-d6af-4347-8e8f-208cc6aa9b13",
            "metadata": {},
            "outputs": [
                {
                    "name": "stderr",
                    "output_type": "stream",
                    "text": [
                        "/home/vscode/.local/lib/python3.12/site-packages/tqdm/auto.py:21: TqdmWarning: IProgress not found. Please update jupyter and ipywidgets. See https://ipywidgets.readthedocs.io/en/stable/user_install.html\n",
                        "  from .autonotebook import tqdm as notebook_tqdm\n"
                    ]
                }
            ],
            "source": [
                "from retab import Retab\n",
                "from retab._utils.json_schema import filter_auxiliary_fields_json\n",
                "reclient = Retab()\n",
                "models_list = reclient.models.list()"
            ]
        },
        {
            "cell_type": "markdown",
            "id": "48beff48-f03e-47fa-b248-a5e40558989b",
            "metadata": {},
            "source": [
                "# Example 1 - Analyze informations from a document"
            ]
        },
        {
            "cell_type": "markdown",
            "id": "8f1e206e-c04e-4a0b-88e2-235cf3ec2047",
            "metadata": {},
            "source": [
                "#### Option A - You use our preprocess endpoint and openAI client"
            ]
        },
        {
            "cell_type": "code",
            "execution_count": 3,
            "id": "acd69f9e-ac82-4122-8b3b-23ebfdcd69c9",
            "metadata": {},
            "outputs": [],
            "source": [
                "import json\n",
                "from retab import Retab, Schema\n",
                "from openai import OpenAI\n",
                "\n",
                "with open(\"freight/schema.json\", \"r\") as f:\n",
                "    json_schema = json.load(f)\n",
                "\n",
                "\n",
                "reclient = Retab()\n",
                "doc_msg = reclient.documents.create_messages(\n",
                "    document = \"freight/booking_confirmation.jpg\",\n",
                ")\n",
                "\n",
                "schema_obj = Schema(\n",
                "    json_schema = json_schema\n",
                ")\n",
                "\n"
            ]
        },
        {
            "cell_type": "code",
            "execution_count": 4,
            "id": "8ac8db23",
            "metadata": {},
            "outputs": [
                {
                    "name": "stdout",
                    "output_type": "stream",
                    "text": [
                        "{\"reasoning___root\":\"The document appears to be a detailed freight transport confirmation, including client and shipment details, with clear segmentation into transporter info, goods, and addresses. The document type is a 'Confirmation d'affrètement' (Freight Booking Confirmation) from ACME CORPORATION, with explicit freight, shipping, and invoice details. It includes transportation instructions, company info, and specific shipment details with references. The overall structure defines client info, transporter's engagement, and multiple shipment entries, each with sender, recipient, goods, and constraints.\",\"booking_id\":null,\"payment\":{\"total_price\":1500,\"currency\":\"EUR\"},\"client\":{\"company_name\":\"ACME Corporation\",\"reasoning___VAT_number\":\"\",\"VAT_number\":null,\"city\":\"Manchester\",\"postal_code\":\"M1 4WP\",\"country\":\"GB\",\"code\":null,\"email\":\"client@acme.com\"},\"reasoning___shipments\":\"The document lists a single shipment (though formatted in a way resembling multiple list entries). The shipment details include description, sender, recipient, goods specifics, and transport constraints. Extracted info based on explicit labels and structured form. The shipment appears to be part of a bulk order with detailed descriptions including dangerous goods and temperature requirements, but only one overall shipment entry is present.\",\"shipments\":[{\"reasoning___item\":\"Source indicates a single shipment: description states 'NATURE DES MARCHANDISES: Poids: 500 T Pallets: 5 Unités: 10 Volume: 1.44 M3' and 'Prise en charge le 5/2/2023'. The sender info includes transporter details with 'TRANSPORTEUR EXPRESS' and detailed address in Manchester, UK. The recipient details are in Munich, Germany. Goods info specify 500 pallets, 10 units, 1.44 m3 volume, and possibly dangerous goods with UN codes not explicitly enumerated in this segment. The constraints mention a standard truck with no unusual constraints.\",\"shipment_id\":null,\"reasoning___sender\":\"The sender information was explicitly provided in the section starting with 'Transporteur:', listing 'TRANSPORTEUR EXPRESS' and their complete address and contact details. The pickup date is 5/2/2023, between 08:00 and 12:00, explicitly stated under 'Prise en charge le 5/2/2023 12:00'.\",\"sender\":{\"company_name\":\"TRANSPORTEUR EXPRESS\",\"address\":{\"city\":\"Manchester\",\"postal_code\":\"M1 4WP\",\"country\":\"GB\",\"line1\":\"Site de : Zone Industrielle Est, Bâtiment C\",\"line2\":\"\"},\"phone_number\":\"+44 23 45 67 89\",\"email_address\":\"\" ,\"pickup_datetime\":{\"date\":\"2023-02-05\",\"start_time\":\"08:00:00\",\"end_time\":\"12:00:00\"},\"observations\":\"La note indique que le transport doit respecter la capacité, la température contrôlée si nécessaire, et les contraintes de déchargement.\"},\"reasoning___recipient\":\"Recipient information is explicitly indicated with address in Munich: 'Munich, Bavaria, 80331 DE'. The delivery window is from 10:00 to 16:00 on 5/3/2023, with references noted accordingly. Observations and contact details are not explicitly detailed in the extract, so default nulls are used.\",\"recipient\":{\"company_name\":\"\",\"address\":{\"city\":\"Munich\",\"postal_code\":\"80331\",\"country\":\"DE\",\"line1\":\"Beta Industries\",\"line2\":\"\"},\"phone_number\":null,\"email_address\":null,\"delivery_datetime\":{\"date\":\"2023-03-05\",\"start_time\":\"10:00:00\",\"end_time\":\"16:00:00\"},\"observations\":\"\"},\"reasoning___goods\":\"The goods are described as 'Poids: 500 T Pallets: 5 Unités: 10 Volume: 1.44 M3', indicating 500 tonnes of pallets, 10 units, and a total volume of 1.44 cubic meters. The hazardous nature is implied but not explicitly itemized with UN codes. Handling notes specify standard cargo, with no explicit mention of special handling beyond standard freight constraints.\",\"goods\":{\"packing\":{\"units\":10,\"packing_type\":\"pallet\",\"supplementary_parcels\":0,\"reasoning___pallets_on_ground\":\"Total pallets are 5, all euro pallets, and no ground pallets are specified.\",\"pallets_on_ground\":0,\"number_eur_pallet\":5,\"observation\":\"\"},\"dimensions\":{\"reasoning___loading_meters\":\"(length × width) / 2.4 calculation not explicitly given, but the total loading meters are often approximated based on the linear footage of the pallets. Since 500T of pallets are involved, a typical pallet size is assumed, but explicit dimensions are not detailed in the document.\",\"loading_meters\":10,\"reasoning___volume\":\"Total volume is explicitly stated as 1.44 cubic meters, matching the gross volume. Calculations for individual item volumes are not provided.\",\"volume\":1.44},\"weight\":500,\"temperature_infos\":{\"min_temperature\":null,\"max_temperature\":null,\"category\":null},\"reasoning___dangerous_goods_infos\":\"No explicit UN codes or dangerous goods labels are provided; thus, danger is assumed but not specifically coded. The description mentions 'matière dangereuse' without specific UN codes.\",\"dangerous_goods_infos\":[]},\"reasoning___transport_constraints\":\"Standard freight with no special vehicle constraints, no mention of temperature needs, no tail lift or crane indicated.\",\"transport_constraints\":{\"vehicle_type\":null,\"body_type\":null,\"tail_lift\":null,\"crane\":null}}]}\n"
                    ]
                }
            ],
            "source": [
                "\n",
                "# Now you can use your favorite model to analyze your document\n",
                "client = OpenAI()\n",
                "completion = client.chat.completions.create(\n",
                "    model=\"gpt-4.1-nano\",\n",
                "    messages=schema_obj.openai_messages + doc_msg.openai_messages,\n",
                "    response_format={\n",
                "        \"type\": \"json_schema\",\n",
                "        \"json_schema\": {\n",
                "            \"name\": schema_obj.id,\n",
                "            \"schema\": schema_obj.inference_json_schema,\n",
                "            \"strict\": True\n",
                "        }\n",
                "    }\n",
                ")\n",
                "print(completion.choices[0].message.content)"
            ]
        },
        {
            "cell_type": "code",
            "execution_count": 5,
            "id": "a6d2eff6-3a03-47e6-8ab6-31488505b435",
            "metadata": {},
            "outputs": [
                {
                    "data": {
                        "text/plain": [
                            "{'booking_id': None,\n",
                            " 'payment': {'total_price': 1500.0, 'currency': 'EUR'},\n",
                            " 'client': {'company_name': 'ACME Corporation',\n",
                            "  'VAT_number': None,\n",
                            "  'city': 'Manchester',\n",
                            "  'postal_code': 'M1 4WP',\n",
                            "  'country': 'GB',\n",
                            "  'code': None,\n",
                            "  'email': 'client@acme.com'},\n",
                            " 'shipments': [{'shipment_id': None,\n",
                            "   'sender': {'company_name': 'TRANSPORTEUR EXPRESS',\n",
                            "    'address': {'city': 'Manchester',\n",
                            "     'postal_code': 'M1 4WP',\n",
                            "     'country': 'GB',\n",
                            "     'line1': 'Site de : Zone Industrielle Est, Bâtiment C',\n",
                            "     'line2': ''},\n",
                            "    'phone_number': '+44 23 45 67 89',\n",
                            "    'email_address': '',\n",
                            "    'pickup_datetime': {'date': '2023-02-05',\n",
                            "     'start_time': '08:00:00',\n",
                            "     'end_time': '12:00:00'},\n",
                            "    'observations': 'La note indique que le transport doit respecter la capacité, la température contrôlée si nécessaire, et les contraintes de déchargement.'},\n",
                            "   'recipient': {'company_name': '',\n",
                            "    'address': {'city': 'Munich',\n",
                            "     'postal_code': '80331',\n",
                            "     'country': 'DE',\n",
                            "     'line1': 'Beta Industries',\n",
                            "     'line2': ''},\n",
                            "    'phone_number': None,\n",
                            "    'email_address': None,\n",
                            "    'delivery_datetime': {'date': '2023-03-05',\n",
                            "     'start_time': '10:00:00',\n",
                            "     'end_time': '16:00:00'},\n",
                            "    'observations': ''},\n",
                            "   'goods': {'packing': {'units': 10,\n",
                            "     'packing_type': 'pallet',\n",
                            "     'supplementary_parcels': 0,\n",
                            "     'pallets_on_ground': 0.0,\n",
                            "     'number_eur_pallet': 5,\n",
                            "     'observation': ''},\n",
                            "    'dimensions': {'loading_meters': 10.0, 'volume': 1.44},\n",
                            "    'weight': 500.0,\n",
                            "    'temperature_infos': {'min_temperature': None,\n",
                            "     'max_temperature': None,\n",
                            "     'category': None},\n",
                            "    'dangerous_goods_infos': []},\n",
                            "   'transport_constraints': {'vehicle_type': None,\n",
                            "    'body_type': None,\n",
                            "    'tail_lift': None,\n",
                            "    'crane': None}}]}"
                        ]
                    },
                    "execution_count": 5,
                    "metadata": {},
                    "output_type": "execute_result"
                }
            ],
            "source": [
                "# Validate the response against the original schema if you want to remove the reasoning fields\n",
                "assert completion.choices[0].message.content is not None\n",
                "extraction = schema_obj.pydantic_model.model_validate(\n",
                "     filter_auxiliary_fields_json(completion.choices[0].message.content)\n",
                ")\n",
                "extraction.model_dump()"
            ]
        },
        {
            "cell_type": "code",
            "execution_count": 6,
            "id": "1ac69714",
            "metadata": {},
            "outputs": [
                {
                    "data": {
                        "text/plain": [
                            "{'extraction_id': 'extr_z8loUSIi9cfMcD5lRdlZr',\n",
                            " 'status': 'success',\n",
                            " 'error_message': None}"
                        ]
                    },
                    "execution_count": 6,
                    "metadata": {},
                    "output_type": "execute_result"
                }
            ],
            "source": [
                "## If you want to log the extraction (keep it in our database)\n",
                "# Limitation: we don't get the likelihoods\n",
                "# For now one might send the messages in Retab-compatible format.\n",
                "reclient.documents.extractions.log(\n",
                "    document = \"freight/booking_confirmation.jpg\",\n",
                "    messages = schema_obj.messages + doc_msg.messages,\n",
                "    completion = completion,\n",
                "    json_schema = json_schema,\n",
                "    model = \"gpt-4.1-nano\",\n",
                "    temperature = 0,\n",
                ")"
            ]
        },
        {
            "cell_type": "code",
            "execution_count": 7,
            "id": "719db6f6",
            "metadata": {},
            "outputs": [],
            "source": [
                "# You can use the messages from different providers (but you cannot mix them)\n",
                "# out_log_openai = reclient.documents.extractions.log(\n",
                "#     document = \"freight/booking_confirmation.jpg\",\n",
                "#     openai_messages = schema_obj.openai_messages + doc_msg.openai_messages,\n",
                "#     completion = completion,\n",
                "#     json_schema = json_schema,\n",
                "#     model = \"gpt-4.1-nano\",\n",
                "#     temperature = 0,\n",
                "# )\n",
                "# print(out_log_openai)\n",
                "\n",
                "# out_log_anthropic = reclient.documents.extractions.log(\n",
                "#     document = \"freight/booking_confirmation.jpg\",\n",
                "#     anthropic_messages = schema_obj.anthropic_messages + doc_msg.anthropic_messages,\n",
                "#     anthropic_system_prompt = schema_obj.anthropic_system_prompt,\n",
                "#     completion = completion,\n",
                "#     json_schema = json_schema,\n",
                "#     model = \"gpt-4.1-nano\",\n",
                "#     temperature = 0,\n",
                "# )\n",
                "# print(out_log_anthropic)"
            ]
        },
        {
            "cell_type": "markdown",
            "id": "56177728-8447-4dc8-a64a-108924e39688",
            "metadata": {},
            "source": [
                "#### Option B - Using Retab `extract` endpoint"
            ]
        },
        {
            "cell_type": "code",
            "execution_count": 8,
            "id": "9cc3ae43-a24d-433e-8c24-465797becc8a",
            "metadata": {},
            "outputs": [
                {
                    "data": {
                        "text/plain": [
                            "{'booking_id': None,\n",
                            " 'payment': {'total_price': 1500, 'currency': 'EUR'},\n",
                            " 'client': {'company_name': 'ACME Corporation',\n",
                            "  'VAT_number': None,\n",
                            "  'city': None,\n",
                            "  'postal_code': None,\n",
                            "  'country': None,\n",
                            "  'code': None,\n",
                            "  'email': None},\n",
                            " 'shipments': [{'shipment_id': 'SHIP-001',\n",
                            "   'sender': {'company_name': 'Transport Express',\n",
                            "    'address': {'city': None,\n",
                            "     'postal_code': None,\n",
                            "     'country': None,\n",
                            "     'line1': 'Zone Industrielle Est, Bâtiment C',\n",
                            "     'line2': None},\n",
                            "    'phone_number': '+01 23 45 67 89',\n",
                            "    'email_address': None,\n",
                            "    'pickup_datetime': {'date': None, 'start_time': None, 'end_time': None},\n",
                            "    'observations': None},\n",
                            "   'recipient': {'company_name': 'Beta Industries',\n",
                            "    'address': {'city': 'Munich',\n",
                            "     'postal_code': '80331',\n",
                            "     'country': None,\n",
                            "     'line1': '79 Prime Street',\n",
                            "     'line2': None},\n",
                            "    'phone_number': None,\n",
                            "    'email_address': None,\n",
                            "    'delivery_datetime': {'date': '2023-03-05',\n",
                            "     'start_time': None,\n",
                            "     'end_time': None},\n",
                            "    'observations': None},\n",
                            "   'goods': {'packing': {'units': None,\n",
                            "     'packing_type': None,\n",
                            "     'supplementary_parcels': None,\n",
                            "     'pallets_on_ground': None,\n",
                            "     'number_eur_pallet': None,\n",
                            "     'observation': None},\n",
                            "    'dimensions': {'loading_meters': None, 'volume': None},\n",
                            "    'weight': None,\n",
                            "    'temperature_infos': {'min_temperature': None,\n",
                            "     'max_temperature': None,\n",
                            "     'category': 'Frozen'},\n",
                            "    'dangerous_goods_infos': [{'weight': None,\n",
                            "      'UN_code': 1022,\n",
                            "      'UN_label': 'Inflammable Liquids, UN 1022',\n",
                            "      'UN_class': '3',\n",
                            "      'UN_packing_group': 'II',\n",
                            "      'ADR_tunnel_code': None}]},\n",
                            "   'transport_constraints': {'vehicle_type': None,\n",
                            "    'body_type': None,\n",
                            "    'tail_lift': None,\n",
                            "    'crane': None}}]}"
                        ]
                    },
                    "execution_count": 8,
                    "metadata": {},
                    "output_type": "execute_result"
                }
            ],
            "source": [
                "import json\n",
                "from retab.client import Retab\n",
                "\n",
                "reclient = Retab()\n",
                "completion = reclient.documents.extractions.parse(\n",
                "    json_schema = \"freight/schema.json\",\n",
                "    document = \"freight/booking_confirmation.jpg\",\n",
                "    model=\"gpt-4.1-nano\",\n",
                "    temperature=0,\n",
                ")\n",
                "\n",
                "filter_auxiliary_fields_json(completion.choices[0].message.content or \"{}\")\n",
                "\n",
                "# For streaming:\n",
                "# from IPython.display import clear_output, display\n",
                "\n",
                "# with reclient.documents.extractions.stream(\n",
                "#     json_schema = \"freight/schema.json\",\n",
                "#     document = \"freight/booking_confirmation.jpg\",\n",
                "#     model=\"gpt-4.1-nano\",\n",
                "#     temperature=0,\n",
                "# ) as stream:\n",
                "#     for chunk in stream:\n",
                "#         clear_output(wait=True)\n",
                "#         display(chunk.model_dump())\n",
                "        \n"
            ]
        },
        {
            "cell_type": "markdown",
            "id": "38455c97-b600-44c4-b679-f6382bd33279",
            "metadata": {},
            "source": [
                "## Appendix A - Use text as modality"
            ]
        },
        {
            "cell_type": "code",
            "execution_count": 10,
            "id": "257e77d3-8d0b-4ca1-989e-159a8e730f97",
            "metadata": {},
            "outputs": [
                {
                    "data": {
                        "text/plain": [
                            "{'booking_id': 'SHIP-001',\n",
                            " 'payment': {'total_price': 1500, 'currency': 'EUR'},\n",
                            " 'client': {'company_name': 'ACME CORPORATION',\n",
                            "  'VAT_number': 'FR12 345 678 901',\n",
                            "  'city': 'London',\n",
                            "  'postal_code': 'WC2N 5DU',\n",
                            "  'country': 'GB',\n",
                            "  'code': None,\n",
                            "  'email': 'client@acme.com'}}"
                        ]
                    },
                    "execution_count": 10,
                    "metadata": {},
                    "output_type": "execute_result"
                }
            ],
            "source": [
                "from retab.client import Retab\n",
                "\n",
                "reclient = Retab()\n",
                "\n",
                "completion = reclient.documents.extractions.parse(\n",
                "    json_schema = \"freight/schema.json\",\n",
                "    document=\"freight/booking_confirmation.jpg\",\n",
                "    model=\"gpt-4.1-nano\",\n",
                "    temperature=0,\n",
                "    modality='text'\n",
                ")\n",
                "\n",
                "filter_auxiliary_fields_json(completion.choices[0].message.content or \"{}\")"
            ]
        },
        {
            "cell_type": "markdown",
            "id": "e91fd043-489a-476c-8f03-718737dc7373",
            "metadata": {},
            "source": [
                "## Appendix B - Add image settings"
            ]
        },
        {
            "cell_type": "code",
            "execution_count": 11,
            "id": "ff56ae8b-d576-42e4-ae5e-46486d894598",
            "metadata": {},
            "outputs": [
                {
                    "data": {
                        "text/plain": [
                            "{'booking_id': None,\n",
                            " 'payment': {'total_price': 1500, 'currency': None},\n",
                            " 'client': {'company_name': 'Acme Corporation',\n",
                            "  'VAT_number': None,\n",
                            "  'city': None,\n",
                            "  'postal_code': None,\n",
                            "  'country': None,\n",
                            "  'code': None,\n",
                            "  'email': None},\n",
                            " 'shipments': [{'shipment_id': 'BC-67890',\n",
                            "   'sender': {'company_name': 'TRANSPORTE EXPRESS',\n",
                            "    'address': {'city': 'Zone Industrielle Est, Bâtiment C',\n",
                            "     'postal_code': None,\n",
                            "     'country': None,\n",
                            "     'line1': 'Poids: 500 Tallets',\n",
                            "     'line2': 'Etc.'},\n",
                            "    'phone_number': None,\n",
                            "    'email_address': None,\n",
                            "    'pickup_datetime': {'date': '2023-05-02',\n",
                            "     'start_time': None,\n",
                            "     'end_time': None},\n",
                            "    'observations': None},\n",
                            "   'recipient': {'company_name': None,\n",
                            "    'address': {'city': 'Munich',\n",
                            "     'postal_code': '80331',\n",
                            "     'country': 'DE',\n",
                            "     'line1': 'Karlsplatz 10',\n",
                            "     'line2': ''},\n",
                            "    'phone_number': None,\n",
                            "    'email_address': None,\n",
                            "    'delivery_datetime': {'date': '2023-05-03',\n",
                            "     'start_time': None,\n",
                            "     'end_time': None},\n",
                            "    'observations': None},\n",
                            "   'goods': {'packing': {'units': None,\n",
                            "     'packing_type': None,\n",
                            "     'supplementary_parcels': None,\n",
                            "     'pallets_on_ground': None,\n",
                            "     'number_eur_pallet': None,\n",
                            "     'observation': None},\n",
                            "    'dimensions': {'loading_meters': None, 'volume': 1.44},\n",
                            "    'weight': None,\n",
                            "    'temperature_infos': {'min_temperature': None,\n",
                            "     'max_temperature': None,\n",
                            "     'category': None},\n",
                            "    'dangerous_goods_infos': [{'weight': None,\n",
                            "      'UN_code': 1202,\n",
                            "      'UN_label': 'Liquide inflammable',\n",
                            "      'UN_class': '3',\n",
                            "      'UN_packing_group': None,\n",
                            "      'ADR_tunnel_code': None}]},\n",
                            "   'transport_constraints': {'vehicle_type': None,\n",
                            "    'body_type': None,\n",
                            "    'tail_lift': None,\n",
                            "    'crane': None}}]}"
                        ]
                    },
                    "execution_count": 11,
                    "metadata": {},
                    "output_type": "execute_result"
                }
            ],
            "source": [
                "from retab.client import Retab\n",
                "\n",
                "reclient = Retab()\n",
                "\n",
                "completion = reclient.documents.extractions.parse(\n",
                "    json_schema = \"freight/schema.json\",\n",
                "    document = \"freight/booking_confirmation.jpg\",\n",
                "    model=\"gpt-4.1-nano\",\n",
                "    temperature=0,\n",
                "    image_resolution_dpi=96,\n",
                "    browser_canvas=\"A4\",\n",
                "    n_consensus=1\n",
                ")\n",
                "\n",
                "filter_auxiliary_fields_json(completion.choices[0].message.content or \"{}\")"
            ]
        },
        {
            "cell_type": "markdown",
            "id": "cdfb1637",
            "metadata": {},
            "source": [
                "## Appendix C - Use o3-mini model with reasoning effort"
            ]
        },
        {
            "cell_type": "code",
            "execution_count": 12,
            "id": "14819628-9780-4c55-8eb3-c86a545ba772",
            "metadata": {},
            "outputs": [
                {
                    "data": {
                        "text/plain": [
                            "{'booking_id': None,\n",
                            " 'payment': {'total_price': 1500, 'currency': 'EUR'},\n",
                            " 'client': {'company_name': 'Acme Corporation',\n",
                            "  'VAT_number': 'GB123456789',\n",
                            "  'city': 'London',\n",
                            "  'postal_code': 'WC2N 5DU',\n",
                            "  'country': 'GB',\n",
                            "  'code': None,\n",
                            "  'email': 'client@acme.com'},\n",
                            " 'shipments': [{'shipment_id': 'SHIP-001',\n",
                            "   'sender': {'company_name': 'Acme Corporation',\n",
                            "    'address': {'city': 'London, Greater London',\n",
                            "     'postal_code': 'WC2N 5DU',\n",
                            "     'country': 'GB',\n",
                            "     'line1': '123 Elm Street',\n",
                            "     'line2': 'Suite 500'},\n",
                            "    'phone_number': '+44 20 7946 0958',\n",
                            "    'email_address': 'client@acme.com',\n",
                            "    'pickup_datetime': {'date': '2023-02-05',\n",
                            "     'start_time': '08:00:00',\n",
                            "     'end_time': '12:00:00'},\n",
                            "    'observations': None},\n",
                            "   'recipient': {'company_name': 'Beta Industries',\n",
                            "    'address': {'city': None,\n",
                            "     'postal_code': '80331',\n",
                            "     'country': 'DE',\n",
                            "     'line1': '789 Pine Street',\n",
                            "     'line2': 'Munich, Bavaria'},\n",
                            "    'phone_number': '+49 89 123456',\n",
                            "    'email_address': None,\n",
                            "    'delivery_datetime': {'date': '2023-03-05',\n",
                            "     'start_time': '10:00:00',\n",
                            "     'end_time': '16:00:00'},\n",
                            "    'observations': None},\n",
                            "   'goods': {'packing': {'units': 10,\n",
                            "     'packing_type': 'pallet',\n",
                            "     'supplementary_parcels': None,\n",
                            "     'pallets_on_ground': 5,\n",
                            "     'number_eur_pallet': 5,\n",
                            "     'observation': None},\n",
                            "    'dimensions': {'loading_meters': 0.4, 'volume': 1.44},\n",
                            "    'weight': 500000,\n",
                            "    'temperature_infos': {'min_temperature': 5,\n",
                            "     'max_temperature': 25,\n",
                            "     'category': 'Fresh'},\n",
                            "    'dangerous_goods_infos': [{'weight': None,\n",
                            "      'UN_code': 1202,\n",
                            "      'UN_label': 'Liquide inflammable',\n",
                            "      'UN_class': '3',\n",
                            "      'UN_packing_group': None,\n",
                            "      'ADR_tunnel_code': None}]},\n",
                            "   'transport_constraints': {'vehicle_type': None,\n",
                            "    'body_type': None,\n",
                            "    'tail_lift': None,\n",
                            "    'crane': None}}]}"
                        ]
                    },
                    "execution_count": 12,
                    "metadata": {},
                    "output_type": "execute_result"
                }
            ],
            "source": [
                "from retab.client import Retab\n",
                "\n",
                "reclient = Retab()\n",
                "\n",
                "completion = reclient.documents.extractions.parse(\n",
                "    json_schema = \"freight/schema.json\",\n",
                "    document = \"freight/booking_confirmation.jpg\",\n",
                "    model=\"o3-mini\",\n",
                "    temperature=0,\n",
                "    reasoning_effort=\"low\",\n",
                "    modality=\"text\",\n",
                "    image_resolution_dpi=96,\n",
                "    browser_canvas=\"A4\",\n",
                ")\n",
                "\n",
                "filter_auxiliary_fields_json(completion.choices[0].message.content or \"{}\")"
            ]
        },
        {
            "cell_type": "markdown",
            "id": "124516c7",
            "metadata": {},
            "source": [
                "## Appendix D - Consensus extraction"
            ]
        },
        {
            "cell_type": "markdown",
            "id": "2e690f99",
            "metadata": {},
            "source": [
                "You can also benefit from consensus by running multiple extractions (with non-zero temperature) and gathering the best results with a more reliable likelihoods.\n",
                "\n",
                "Be careful, the cost of consensus is as much higher as the number of consensus model you run. ($Total = N * Cost(model)$)"
            ]
        },
        {
            "cell_type": "code",
            "execution_count": 13,
            "id": "13007a26",
            "metadata": {},
            "outputs": [
                {
                    "data": {
                        "text/plain": [
                            "{'booking_id': None,\n",
                            " 'payment': {'total_price': 1500, 'currency': 'EUR'},\n",
                            " 'client': {'company_name': 'Acme Corporation',\n",
                            "  'VAT_number': 'FR12345678901',\n",
                            "  'city': 'Manchester',\n",
                            "  'postal_code': 'M1 4WP',\n",
                            "  'country': 'GB',\n",
                            "  'code': None,\n",
                            "  'email': 'client@acme.com'},\n",
                            " 'shipments': [{'shipment_id': 'BC-67890',\n",
                            "   'sender': {'company_name': 'Acme Corporation',\n",
                            "    'address': {'city': 'Manchester',\n",
                            "     'postal_code': '80331',\n",
                            "     'country': 'GB',\n",
                            "     'line1': 'Uncertain',\n",
                            "     'line2': 'Floor 3'},\n",
                            "    'phone_number': '+49 89 123456',\n",
                            "    'email_address': 'client@acme.com',\n",
                            "    'pickup_datetime': {'date': '2023-05-02',\n",
                            "     'start_time': '08:00:00',\n",
                            "     'end_time': '12:00:00'},\n",
                            "    'observations': 'Goods are fragile, some pallets contain liquids, handle with care, special temperature conditions likely required.'},\n",
                            "   'recipient': {'company_name': 'Beta Industries',\n",
                            "    'address': {'city': 'Munich',\n",
                            "     'postal_code': '80331',\n",
                            "     'country': 'DE',\n",
                            "     'line1': '123 Elm Street',\n",
                            "     'line2': 'Suite 500'},\n",
                            "    'phone_number': None,\n",
                            "    'email_address': 'client@acme.com',\n",
                            "    'delivery_datetime': {'date': '2023-05-03',\n",
                            "     'start_time': '10:00:00',\n",
                            "     'end_time': '16:00:00'},\n",
                            "    'observations': 'Deliver fragile cargo, handle with care, ensure delivery within time window.'},\n",
                            "   'goods': {'packing': {'units': None,\n",
                            "     'packing_type': 'pallet',\n",
                            "     'supplementary_parcels': None,\n",
                            "     'pallets_on_ground': None,\n",
                            "     'number_eur_pallet': None,\n",
                            "     'observation': 'All pallets are standard EUR size, suitable for European freight.'},\n",
                            "    'dimensions': {'loading_meters': None, 'volume': 1.44},\n",
                            "    'weight': 5000,\n",
                            "    'temperature_infos': {'min_temperature': 5,\n",
                            "     'max_temperature': 25,\n",
                            "     'category': 'Dry'}},\n",
                            "   'transport_constraints': {'vehicle_type': None,\n",
                            "    'body_type': None,\n",
                            "    'tail_lift': None,\n",
                            "    'crane': None}}]}"
                        ]
                    },
                    "execution_count": 13,
                    "metadata": {},
                    "output_type": "execute_result"
                }
            ],
            "source": [
                "from retab.client import Retab\n",
                "\n",
                "reclient = Retab()\n",
                "\n",
                "completion = reclient.documents.extractions.parse(\n",
                "    json_schema = \"freight/schema.json\",\n",
                "    document = \"freight/booking_confirmation.jpg\",\n",
                "    model=\"gpt-4.1-nano\",\n",
                "    temperature=0.5,\n",
                "    # image_settings=image_settings,\n",
                "    n_consensus=5\n",
                ")\n",
                "\n",
                "filter_auxiliary_fields_json(completion.choices[0].message.content or \"{}\")"
            ]
        },
        {
            "cell_type": "markdown",
            "id": "6de3eaca",
            "metadata": {},
            "source": [
                "## Appendix E - Using OpenAI Responses API"
            ]
        },
        {
            "cell_type": "code",
            "execution_count": 14,
            "id": "05dd774d",
            "metadata": {},
            "outputs": [
                {
                    "data": {
                        "text/plain": [
                            "{'booking_id': None,\n",
                            " 'payment': {'total_price': 1500, 'currency': 'EUR'},\n",
                            " 'client': {'company_name': 'ACME Corporation',\n",
                            "  'VAT_number': None,\n",
                            "  'city': None,\n",
                            "  'postal_code': None,\n",
                            "  'country': None,\n",
                            "  'code': None,\n",
                            "  'email': None},\n",
                            " 'shipments': [{'shipment_id': None,\n",
                            "   'sender': {'company_name': 'ACME Corporation',\n",
                            "    'address': {'city': 'Manchester',\n",
                            "     'postal_code': 'M1 4WP',\n",
                            "     'country': 'GB',\n",
                            "     'line1': '456 Oak Avenue',\n",
                            "     'line2': 'Floor 3'},\n",
                            "    'phone_number': '+44 20 7946 0958',\n",
                            "    'email_address': 'client@acme.com',\n",
                            "    'pickup_datetime': {'date': None, 'start_time': None, 'end_time': None},\n",
                            "    'observations': None},\n",
                            "   'recipient': {'company_name': 'Beta Industries',\n",
                            "    'address': {'city': 'Munich',\n",
                            "     'postal_code': '80331',\n",
                            "     'country': 'DE',\n",
                            "     'line1': '789 Business Street',\n",
                            "     'line2': None},\n",
                            "    'phone_number': '+49 89 12345',\n",
                            "    'email_address': 'contact@betaind.com',\n",
                            "    'delivery_datetime': {'date': '2023-05-03',\n",
                            "     'start_time': '10:00:00',\n",
                            "     'end_time': '16:00:00'},\n",
                            "    'observations': None},\n",
                            "   'goods': {'packing': {'units': None,\n",
                            "     'packing_type': None,\n",
                            "     'supplementary_parcels': None,\n",
                            "     'pallets_on_ground': None,\n",
                            "     'number_eur_pallet': None,\n",
                            "     'observation': None},\n",
                            "    'dimensions': {'loading_meters': 10, 'volume': 1.44},\n",
                            "    'weight': 10,\n",
                            "    'temperature_infos': {'min_temperature': 5,\n",
                            "     'max_temperature': 25,\n",
                            "     'category': 'Frozen'},\n",
                            "    'dangerous_goods_infos': []},\n",
                            "   'transport_constraints': {'vehicle_type': None,\n",
                            "    'body_type': None,\n",
                            "    'tail_lift': None,\n",
                            "    'crane': None}}]}"
                        ]
                    },
                    "execution_count": 14,
                    "metadata": {},
                    "output_type": "execute_result"
                }
            ],
            "source": [
                "from openai import OpenAI\n",
                "\n",
                "# Now you can use your favorite model to analyze your document\n",
                "client = OpenAI()\n",
                "\n",
                "responses_output = client.responses.create(\n",
                "    model=\"gpt-4.1-nano\",\n",
                "    input=schema_obj.openai_responses_input + doc_msg.openai_responses_input,\n",
                "    text={\n",
                "        \"format\": {\n",
                "            \"type\": \"json_schema\",\n",
                "            \"name\": schema_obj.id,\n",
                "            \"schema\": schema_obj.inference_json_schema,\n",
                "            \"strict\": True\n",
                "        }\n",
                "    },\n",
                "    temperature=0,\n",
                "    store=False\n",
                ")\n",
                "# print(responses_output.output_text)\n",
                "filter_auxiliary_fields_json(responses_output.output_text or \"{}\")\n",
                "\n"
            ]
        },
        {
            "cell_type": "code",
            "execution_count": 15,
            "id": "e47096c5",
            "metadata": {},
            "outputs": [
                {
                    "data": {
                        "text/plain": [
                            "{'extraction_id': 'extr__AzcorEJRCl2uu2X0qH0O',\n",
                            " 'status': 'success',\n",
                            " 'error_message': None}"
                        ]
                    },
                    "execution_count": 15,
                    "metadata": {},
                    "output_type": "execute_result"
                }
            ],
            "source": [
                "# IF you want to keep it with us:\n",
                "reclient.documents.extractions.log(\n",
                "    document = \"freight/booking_confirmation.jpg\",\n",
                "    openai_responses_input = schema_obj.openai_responses_input + doc_msg.openai_responses_input,\n",
                "    openai_responses_output = responses_output,\n",
                "    json_schema = json_schema,\n",
                "    model = \"gpt-4.1-nano\",\n",
                "    temperature = 0,\n",
                ")"
            ]
        },
        {
            "cell_type": "code",
            "execution_count": 16,
            "id": "13a6ed3c",
            "metadata": {},
            "outputs": [
                {
                    "data": {
                        "text/plain": [
                            "{'reasoning___root': \"The document is clearly a shipping confirmation or freight booking document from Acme Corporation, titled 'Confirmation d'affrètement'. The information on the company's contact details, site, and address confirms the sender's identity. The document contains sections about the transporter, the shipper's engagement, references, and package details. The detailed shipping instructions, site address, and freight details align with a transport booking confirmation. The presence of a title, company logo, and structured data about shipment, transport constraints, and goods confirms this is a formal transport booking document with high confidence.\",\n",
                            " 'booking_id': None,\n",
                            " 'payment': {'total_price': None, 'currency': None},\n",
                            " 'client': {'company_name': 'ACME CORPORATION',\n",
                            "  'reasoning___VAT_number': \"VAT number is explicitly mentioned as 'VAT Number: GB123456789' on the top right, next to the VAT number label. It matches the typical format of UK VAT numbers, which can be alphanumeric starting with GB and followed by 9 digits or characters. Since the VAT number is explicitly provided, I extracted 'GB123456789'.\",\n",
                            "  'VAT_number': 'GB123456789',\n",
                            "  'city': None,\n",
                            "  'postal_code': None,\n",
                            "  'country': None,\n",
                            "  'code': None,\n",
                            "  'email': 'client@acme.com'},\n",
                            " 'reasoning___shipments': 'The document references a single shipment with details about the transporter, goods, and addresses. The shipment appears to involve multiple pieces, but no large list or multiple entries are visible; thus, I interpret it as a single shipment. The key details about the goods, addresses for pickup and delivery, and specific instructions support this. The shipment reference is not explicitly listed as a separate number, so I set it to null. The detailed goods description, transportation constraints, and multiple address fields confirm the shipment involves cargo from the site address to the delivery address.',\n",
                            " 'shipments': [{'reasoning___item': \"The source mentions 'Nature des marchandises' with details about the weight (Poids: 950 kg), description ('Transporteur express'), and freight details. The shipment is a single consignment from the address with multiple details about the goods, manufacturer, and handling. No multiple shipment lines are explicitly visible.\",\n",
                            "   'shipment_id': None,\n",
                            "   'reasoning___sender': \"The sender's info is extracted from the 'Transporteur' section: 'Transporteur EXPRESS à l'attention du Service Logistique ...' with the address 'Zone Industrielle Est, Bâtiment C, 45 rue des Transports, 75001 Paris.' Contact details are not explicitly listed but inferred from the header. The pickup is from Paris, with the address and site details provided.\",\n",
                            "   'sender': {'company_name': 'TRANSPORTEUR EXPRESS',\n",
                            "    'address': {'city': 'Paris',\n",
                            "     'postal_code': '75001',\n",
                            "     'country': 'FR',\n",
                            "     'line1': '45 rue des Transports',\n",
                            "     'line2': 'Zone Industrielle Est, Bâtiment C'},\n",
                            "    'phone_number': None,\n",
                            "    'email_address': None,\n",
                            "    'pickup_datetime': {'date': None, 'start_time': None, 'end_time': None},\n",
                            "    'observations': None},\n",
                            "   'reasoning___recipient': \"Recipient details come from the 'Site de' and address sections: Site address in London with the address '123 Elm Street, Suite 500, London, Greater London.' The delivery date is specified as 5/3/2023 within the 'Livraison' section, and the recipient company isn't explicitly listed but I'll assume it is in the context.\",\n",
                            "   'recipient': {'company_name': 'ACME Corporation',\n",
                            "    'address': {'city': 'London',\n",
                            "     'postal_code': 'SW2D7',\n",
                            "     'country': 'GB',\n",
                            "     'line1': '123 Elm Street',\n",
                            "     'line2': 'Suite 500'},\n",
                            "    'phone_number': None,\n",
                            "    'email_address': None,\n",
                            "    'delivery_datetime': {'date': '2023-05-03',\n",
                            "     'start_time': '10:00:00',\n",
                            "     'end_time': '16:00:00'},\n",
                            "    'observations': None},\n",
                            "   'reasoning___goods': \"The 'Nature des marchandises' specifies: 'Poids: 950 kg', no detailed description or reference to hazardous goods. The goods are likely general cargo. No special handling instructions or dangerous goods info are given.\",\n",
                            "   'goods': {'packing': {'units': None,\n",
                            "     'packing_type': None,\n",
                            "     'supplementary_parcels': None,\n",
                            "     'reasoning___pallets_on_ground': 'No explicit mention of pallets or ground loading, so null.',\n",
                            "     'pallets_on_ground': None,\n",
                            "     'number_eur_pallet': None,\n",
                            "     'observation': None},\n",
                            "    'dimensions': {'reasoning___loading_meters': \"No explicit 'Mètre linéaire' or dimensions are provided, so default to null.\",\n",
                            "     'loading_meters': None,\n",
                            "     'reasoning___volume': 'No explicit volume or dimensions are given, so null.',\n",
                            "     'volume': None},\n",
                            "    'weight': 950,\n",
                            "    'temperature_infos': None,\n",
                            "    'reasoning___dangerous_goods_infos': \"No dangerous goods info is explicitly specified; thus, the string notes: 'Aucune mention de marchandises dangereuses.'\",\n",
                            "    'dangerous_goods_infos': []},\n",
                            "   'reasoning___transport_constraints': 'No explicit vehicle type or constraints are listed in the source; the section on constraints is blank, indicating no special requirements.',\n",
                            "   'transport_constraints': {'vehicle_type': None,\n",
                            "    'body_type': None,\n",
                            "    'tail_lift': None,\n",
                            "    'crane': None}}]}"
                        ]
                    },
                    "metadata": {},
                    "output_type": "display_data"
                }
            ],
            "source": [
                "## This also work with streaming!\n",
                "from jiter import from_json\n",
                "from IPython.display import clear_output, display\n",
                "\n",
                "client = OpenAI()\n",
                "output_text_cum = \"\"\n",
                "with client.responses.stream(\n",
                "    model=\"gpt-4.1-nano\",\n",
                "    input=schema_obj.openai_responses_input + doc_msg.openai_responses_input,\n",
                "    text={\n",
                "        \"format\": {\n",
                "            \"type\": \"json_schema\",\n",
                "            \"name\": schema_obj.id,\n",
                "            \"schema\": schema_obj.inference_json_schema,\n",
                "            \"strict\": True\n",
                "        }\n",
                "    } \n",
                ") as stream:\n",
                "    for event in stream:\n",
                "        if event.type == \"response.output_text.delta\":\n",
                "            output_text_cum += event.delta\n",
                "            clear_output(wait=True)\n",
                "            # Use this if you want to parse partial json objects.\n",
                "            display(from_json(bytes(output_text_cum, \"utf-8\"), partial_mode=\"trailing-strings\"))\n",
                "        elif event.type == \"response.completed\":\n",
                "            clear_output(wait=True)\n",
                "            # Should be directly a valid json object!\n",
                "            display(json.loads(event.response.output_text))\n"
            ]
        }
    ],
    "metadata": {
        "kernelspec": {
            "display_name": "Python 3",
            "language": "python",
            "name": "python3"
        },
        "language_info": {
            "codemirror_mode": {
                "name": "ipython",
                "version": 3
            },
            "file_extension": ".py",
            "mimetype": "text/x-python",
            "name": "python",
            "nbconvert_exporter": "python",
            "pygments_lexer": "ipython3",
            "version": "3.12.7"
        }
    },
    "nbformat": 4,
    "nbformat_minor": 5
}