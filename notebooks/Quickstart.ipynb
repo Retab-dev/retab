{
 "cells": [
  {
   "cell_type": "markdown",
   "id": "1a2a2fd0-c8ce-4142-8499-ab79701b50f4",
   "metadata": {},
   "source": [
    "### Setup your environnement variables"
   ]
  },
  {
   "cell_type": "code",
   "execution_count": 1,
   "id": "5400407f-31cc-4ad1-89fa-04ee2d482d1b",
   "metadata": {},
   "outputs": [],
   "source": [
    "import os\n",
    "\n",
    "os.environ[\"OPENAI_API_KEY\"] = \"YOUR API KEY\"\n",
    "os.environ[\"UIFORM_API_KEY\"] = \"YOUR API KEY\" # go to https://uiform.com to create your API Key"
   ]
  },
  {
   "cell_type": "code",
   "execution_count": 2,
   "id": "e5bfe9bd-b890-4033-bef0-345149987d88",
   "metadata": {},
   "outputs": [],
   "source": [
    "from dotenv import load_dotenv\n",
    "assert load_dotenv(\"../.env.local\", override=True) # Load environment variables from a .env file"
   ]
  },
  {
   "cell_type": "markdown",
   "id": "e873ea72-2fa6-4233-8e0d-9f220aeb4a36",
   "metadata": {},
   "source": [
    "# Get started"
   ]
  },
  {
   "cell_type": "code",
   "execution_count": 3,
   "id": "9c8b5c2f-d6af-4347-8e8f-208cc6aa9b13",
   "metadata": {},
   "outputs": [
    {
     "name": "stderr",
     "output_type": "stream",
     "text": [
      "/home/vscode/.local/lib/python3.12/site-packages/tqdm/auto.py:21: TqdmWarning: IProgress not found. Please update jupyter and ipywidgets. See https://ipywidgets.readthedocs.io/en/stable/user_install.html\n",
      "  from .autonotebook import tqdm as notebook_tqdm\n"
     ]
    }
   ],
   "source": [
    "from uiform import UiForm\n",
    "from uiform._utils.json_schema import filter_reasoning_fields_json\n",
    "uiclient = UiForm()\n",
    "models_list = uiclient.models.list()"
   ]
  },
  {
   "cell_type": "markdown",
   "id": "48beff48-f03e-47fa-b248-a5e40558989b",
   "metadata": {},
   "source": [
    "# Example 1 - Analyze informations from a document"
   ]
  },
  {
   "cell_type": "markdown",
   "id": "8f1e206e-c04e-4a0b-88e2-235cf3ec2047",
   "metadata": {},
   "source": [
    "#### Option A - You use our preprocess endpoint and openAI client"
   ]
  },
  {
   "cell_type": "code",
   "execution_count": 4,
   "id": "acd69f9e-ac82-4122-8b3b-23ebfdcd69c9",
   "metadata": {},
   "outputs": [],
   "source": [
    "import json\n",
    "from uiform import UiForm, Schema\n",
    "from openai import OpenAI\n",
    "\n",
    "with open(\"freight/schema.json\", \"r\") as f:\n",
    "    json_schema = json.load(f)\n",
    "\n",
    "\n",
    "uiclient = UiForm()\n",
    "doc_msg = uiclient.documents.create_messages(\n",
    "    document = \"freight/booking_confirmation.jpg\",\n",
    ")\n",
    "\n",
    "schema_obj = Schema(\n",
    "    json_schema = json_schema\n",
    ")\n",
    "\n"
   ]
  },
  {
   "cell_type": "code",
   "execution_count": null,
   "id": "8ac8db23",
   "metadata": {},
   "outputs": [],
   "source": [
    "\n",
    "# Now you can use your favorite model to analyze your document\n",
    "client = OpenAI()\n",
    "completion = client.chat.completions.create(\n",
    "    model=\"gpt-4o-mini\",\n",
    "    messages=schema_obj.openai_messages + doc_msg.openai_messages,\n",
    "    response_format={\n",
    "        \"type\": \"json_schema\",\n",
    "        \"json_schema\": {\n",
    "            \"name\": schema_obj.id,\n",
    "            \"schema\": schema_obj.inference_json_schema,\n",
    "            \"strict\": True\n",
    "        }\n",
    "    }\n",
    ")\n",
    "print(completion.choices[0].message.content)"
   ]
  },
  {
   "cell_type": "code",
   "execution_count": null,
   "id": "a6d2eff6-3a03-47e6-8ab6-31488505b435",
   "metadata": {},
   "outputs": [],
   "source": [
    "# Validate the response against the original schema if you want to remove the reasoning fields\n",
    "assert completion.choices[0].message.content is not None\n",
    "extraction = schema_obj.pydantic_model.model_validate(\n",
    "     filter_reasoning_fields_json(completion.choices[0].message.content)\n",
    ")\n",
    "extraction.model_dump()"
   ]
  },
  {
   "cell_type": "code",
   "execution_count": null,
   "id": "2c9c1585",
   "metadata": {},
   "outputs": [],
   "source": []
  },
  {
   "cell_type": "code",
   "execution_count": null,
   "id": "1ac69714",
   "metadata": {},
   "outputs": [],
   "source": [
    "## If you want to log the extraction (keep it in our database)\n",
    "# Limitation: we don't get the likelihoods\n",
    "# For now one might send the messages in UiForm-compatible format.\n",
    "uiclient.documents.extractions.log(\n",
    "    document = \"freight/booking_confirmation.jpg\",\n",
    "    messages = schema_obj.messages + doc_msg.messages,\n",
    "    completion = completion,\n",
    "    json_schema = json_schema,\n",
    "    model = \"gpt-4o-mini\",\n",
    "    temperature = 0,\n",
    ")"
   ]
  },
  {
   "cell_type": "code",
   "execution_count": null,
   "id": "719db6f6",
   "metadata": {},
   "outputs": [],
   "source": [
    "# You can use the messages from different providers (but you cannot mix them)\n",
    "out_log_openai = uiclient.documents.extractions.log(\n",
    "    document = \"freight/booking_confirmation.jpg\",\n",
    "    openai_messages = schema_obj.openai_messages + doc_msg.openai_messages,\n",
    "    completion = completion,\n",
    "    json_schema = json_schema,\n",
    "    model = \"gpt-4o-mini\",\n",
    "    temperature = 0,\n",
    ")\n",
    "print(out_log_openai)\n",
    "\n",
    "out_log_anthropic = uiclient.documents.extractions.log(\n",
    "    document = \"freight/booking_confirmation.jpg\",\n",
    "    anthropic_messages = schema_obj.anthropic_messages + doc_msg.anthropic_messages,\n",
    "    anthropic_system_prompt = schema_obj.anthropic_system_prompt,\n",
    "    completion = completion,\n",
    "    json_schema = json_schema,\n",
    "    model = \"gpt-4o-mini\",\n",
    "    temperature = 0,\n",
    ")\n",
    "print(out_log_anthropic)\n",
    "\n",
    "\n",
    "\n"
   ]
  },
  {
   "cell_type": "markdown",
   "id": "56177728-8447-4dc8-a64a-108924e39688",
   "metadata": {},
   "source": [
    "#### Option B - Using UiForm `extract` endpoint"
   ]
  },
  {
   "cell_type": "code",
   "execution_count": null,
   "id": "9cc3ae43-a24d-433e-8c24-465797becc8a",
   "metadata": {},
   "outputs": [],
   "source": [
    "import json\n",
    "from uiform.client import UiForm\n",
    "\n",
    "uiclient = UiForm()\n",
    "completion = uiclient.documents.extractions.parse(\n",
    "    json_schema = \"freight/schema.json\",\n",
    "    document = \"freight/booking_confirmation.jpg\",\n",
    "    model=\"gpt-4o-mini\",\n",
    "    temperature=0,\n",
    ")\n",
    "\n",
    "filter_reasoning_fields_json(completion.choices[0].message.content)\n",
    "\n",
    "# For streaming:\n",
    "# from IPython.display import clear_output, display\n",
    "\n",
    "# with uiclient.documents.extractions.stream(\n",
    "#     json_schema = \"freight/schema.json\",\n",
    "#     document = \"freight/booking_confirmation.jpg\",\n",
    "#     model=\"gpt-4o-mini\",\n",
    "#     temperature=0,\n",
    "# ) as stream:\n",
    "#     for chunk in stream:\n",
    "#         clear_output(wait=True)\n",
    "#         display(chunk.model_dump())\n",
    "        \n"
   ]
  },
  {
   "cell_type": "markdown",
   "id": "38455c97-b600-44c4-b679-f6382bd33279",
   "metadata": {},
   "source": [
    "## Appendix A - Use text as modality"
   ]
  },
  {
   "cell_type": "code",
   "execution_count": null,
   "id": "257e77d3-8d0b-4ca1-989e-159a8e730f97",
   "metadata": {},
   "outputs": [],
   "source": [
    "from uiform.client import UiForm\n",
    "\n",
    "uiclient = UiForm()\n",
    "\n",
    "completion = uiclient.documents.extractions.parse(\n",
    "    json_schema = \"freight/schema.json\",\n",
    "    document=\"freight/booking_confirmation.jpg\",\n",
    "    model=\"gpt-4o-mini-2024-07-18\",\n",
    "    temperature=0,\n",
    "    modality='text'\n",
    ")\n",
    "\n",
    "print(completion.choices[0].message.parsed)"
   ]
  },
  {
   "cell_type": "markdown",
   "id": "e91fd043-489a-476c-8f03-718737dc7373",
   "metadata": {},
   "source": [
    "## Appendix B - Add image settings"
   ]
  },
  {
   "cell_type": "code",
   "execution_count": null,
   "id": "ff56ae8b-d576-42e4-ae5e-46486d894598",
   "metadata": {},
   "outputs": [],
   "source": [
    "from uiform.client import UiForm\n",
    "\n",
    "uiclient = UiForm()\n",
    "\n",
    "image_settings = {\n",
    "    'dpi': 72,\n",
    "    'browser_canvas': 'A4', \n",
    "    'image_to_text': 'ocr',\n",
    "    'correct_image_orientation': True\n",
    "}\n",
    "\n",
    "\n",
    "completion = uiclient.documents.extractions.parse(\n",
    "    json_schema = \"freight/schema.json\",\n",
    "    document = \"freight/booking_confirmation.jpg\",\n",
    "    model=\"gpt-4o-mini-2024-07-18\",\n",
    "    temperature=0,\n",
    "    image_settings=image_settings\n",
    ")\n",
    "\n",
    "print(completion.choices[0].message.parsed)"
   ]
  },
  {
   "cell_type": "markdown",
   "id": "cdfb1637",
   "metadata": {},
   "source": [
    "## Appendix C - Use o3-mini model with reasoning effort"
   ]
  },
  {
   "cell_type": "code",
   "execution_count": null,
   "id": "14819628-9780-4c55-8eb3-c86a545ba772",
   "metadata": {},
   "outputs": [],
   "source": [
    "from uiform.client import UiForm\n",
    "\n",
    "uiclient = UiForm()\n",
    "\n",
    "image_settings = {\n",
    "    'dpi': 72,\n",
    "    'browser_canvas': 'A4', \n",
    "    'image_to_text': 'ocr',\n",
    "    'correct_image_orientation': True\n",
    "}\n",
    "\n",
    "\n",
    "completion = uiclient.documents.extractions.parse(\n",
    "    json_schema = \"freight/schema.json\",\n",
    "    document = \"freight/booking_confirmation.jpg\",\n",
    "    model=\"o3-mini\",\n",
    "    temperature=0,\n",
    "    reasoning_effort=\"low\",\n",
    "    image_settings=image_settings\n",
    ")\n",
    "\n",
    "print(completion.choices[0].message.parsed)"
   ]
  },
  {
   "cell_type": "markdown",
   "id": "124516c7",
   "metadata": {},
   "source": [
    "## Appendix D - Consensus extraction"
   ]
  },
  {
   "cell_type": "markdown",
   "id": "2e690f99",
   "metadata": {},
   "source": [
    "You can also benefit from consensus by running multiple extractions (with non-zero temperature) and gathering the best results with a more reliable likelihoods.\n",
    "\n",
    "Be careful, the cost of consensus is as much higher as the number of consensus model you run. ($Total = N * Cost(model)$)"
   ]
  },
  {
   "cell_type": "code",
   "execution_count": null,
   "id": "13007a26",
   "metadata": {},
   "outputs": [],
   "source": [
    "from uiform.client import UiForm\n",
    "\n",
    "uiclient = UiForm()\n",
    "\n",
    "completion = uiclient.documents.extractions.parse(\n",
    "    json_schema = \"freight/schema.json\",\n",
    "    document = \"freight/booking_confirmation.jpg\",\n",
    "    model=\"gpt-4o-mini\",\n",
    "    temperature=0.5,\n",
    "    # image_settings=image_settings,\n",
    "    n_consensus=5\n",
    ")\n",
    "\n",
    "filter_reasoning_fields_json(completion.choices[0].message.content or \"{}\")"
   ]
  },
  {
   "cell_type": "markdown",
   "id": "6de3eaca",
   "metadata": {},
   "source": [
    "## Appendix E - Using OpenAI Responses API"
   ]
  },
  {
   "cell_type": "code",
   "execution_count": 6,
   "id": "05dd774d",
   "metadata": {},
   "outputs": [
    {
     "name": "stdout",
     "output_type": "stream",
     "text": [
      "{\"reasoning___root\":\"Analysis shows:\\n- Document type identified as a freight booking confirmation from ACME Corporation.\\n- Key parties involved: Client is ACME Corporation (details include contact name, telephone number, and email), and Carrier is Transport Express.\\n- Overall structure includes detailed shipment information and sender/recipient addresses.\\n- Critical booking details include specific handling conditions for dangerous goods and applicable temperatures for transport.\\n- Clear ambiguities regarding additional context on loading and unloading procedures noted.\\n\\nOverall, the document is well-structured, with all critical information explicitly stated.\",\"booking_id\":\"BC-67890\",\"payment\":{\"total_price\":1500,\"currency\":\"EUR\"},\"client\":{\"company_name\":\"ACME Corporation\",\"reasoning___VAT_number\":\"Found VAT number GB123456789 in the header of the document.\",\"VAT_number\":\"GB123456789\",\"city\":\"London\",\"postal_code\":\"WC2N 5DU\",\"country\":\"GB\",\"code\":\"ACME001\",\"email\":\"client@acme.com\"},\"reasoning___shipments\":\"Shipment Analysis:\\n1: Dangerous goods - UN1202, Class 3 - Liquid flammable\\n2: Weight: 500 kg, Total Volume: 1.44 M3\\n3: Temperature requirements: 5°C - 25°C (Fridge)\",\"shipments\":[{\"shipment_id\":\"SHIP-001\",\"reasoning___sender\":\"I have found within the documents the following information about the sender:\\n- Sender company name: ACME Corporation\\n- Sender address: LINE1: 123 Elm Street / LINE2: Suite 500 / CITY: London / POSTAL_CODE: WC2N 5DU / COUNTRY: GB\\n- Sender phone number: +44 20 7946 0958\\n- Sender email: client@acme.com\\n- Sender pickup date and time: Pickup scheduled for 5/2/2023 between 08:00 - 12:00.\\n\",\"sender\":{\"company_name\":\"ACME Corporation\",\"address\":{\"city\":\"London\",\"postal_code\":\"WC2N 5DU\",\"country\":\"GB\",\"line1\":\"123 Elm Street\",\"line2\":\"Suite 500\"},\"phone_number\":\"+44 20 7946 0958\",\"email_address\":\"client@acme.com\",\"pickup_datetime\":{\"date\":\"2023-02-05\",\"start_time\":\"08:00:00\",\"end_time\":\"12:00:00\"},\"observations\":\"Pickup is from ACME Corporation, with specific handling instructions for hazardous materials.\"},\"reasoning___recipient\":\"I have found within the documents the following information about the recipient:\\n- Recipient company name: Beta Industrial\\n- Recipient address: LINE1: 769 Pine Street / LINE2: Munich / CITY: Munich / POSTAL_CODE: 80331 / COUNTRY: DE\\n- Recipient phone number: +49 489 123456\\n- Recipient email: Not provided\\n- Delivery scheduled for 5/3/2023 between 10:00 - 16:00.\",\"recipient\":{\"company_name\":\"Beta Industrial\",\"address\":{\"city\":\"Munich\",\"postal_code\":\"80331\",\"country\":\"DE\",\"line1\":\"769 Pine Street\",\"line2\":\"\"},\"phone_number\":\"+49 489 123456\",\"email_address\":null,\"delivery_datetime\":{\"date\":\"2023-03-05\",\"start_time\":\"10:00:00\",\"end_time\":\"16:00:00\"},\"observations\":\"Delivery is to Beta Industrial, specific loading procedures need to be confirmed at arrival.\"},\"reasoning___goods\":\"Source indicates:\\n- Goods being transported include hazardous material classified under UN1202 (Liquid flammable).\\n- Weight of the goods is 500 kg with a total volume of 1.44 cubic meters.\\n- Special handling requirements related to temperature are outlined.\",\"goods\":{\"packing\":{\"units\":5,\"packing_type\":\"pallet\",\"supplementary_parcels\":0,\"reasoning___pallets_on_ground\":\"Calculations based on the unit specifications: (4 pallets).\",\"pallets_on_ground\":5,\"number_eur_pallet\":5,\"observation\":\"Goods require temperature control between 5°C and 25°C. Handling precautions necessary for hazardous material.\"},\"dimensions\":{\"reasoning___loading_meters\":\"The loading meter calculation based on loading specifications: 0.4m for loading adjustment yields a practical need for handling.\\n\",\"loading_meters\":0.4,\"reasoning___volume\":\"Calculated total volume using dimensions provided:\\nTotal volume = 1.44m³ based on given figures in the documentation.\\n\",\"volume\":1.44},\"weight\":500,\"temperature_infos\":{\"min_temperature\":5,\"max_temperature\":25,\"category\":\"Fresh\"},\"reasoning___dangerous_goods_infos\":\"Document indicates the following dangerous goods information:\\n- UN code: 1202, UN label: 'Liquid flammable', UN class: 3, UN packing group: II.\\n\",\"dangerous_goods_infos\":[{\"weight\":500,\"UN_code\":1202,\"UN_label\":\"Liquid flammable\",\"UN_class\":\"3\",\"UN_packing_group\":\"II\",\"ADR_tunnel_code\":\"B\"}]},\"reasoning___transport_constraints\":\"Source specifies: Ensure safe handling of hazardous materials at all stages. Standard vehicle for hazardous materials transport required following all legal guidelines.\",\"transport_constraints\":{\"vehicle_type\":\"Carrier\",\"body_type\":\"Tanker\",\"tail_lift\":false,\"crane\":false}}]}\n"
     ]
    }
   ],
   "source": [
    "from openai import OpenAI\n",
    "\n",
    "# Now you can use your favorite model to analyze your document\n",
    "client = OpenAI()\n",
    "\n",
    "completion = client.responses.create(\n",
    "    model=\"gpt-4o-mini\",\n",
    "    input=schema_obj.openai_responses_input + doc_msg.openai_responses_input,\n",
    "    text={\n",
    "        \"format\": {\n",
    "            \"type\": \"json_schema\",\n",
    "            \"name\": schema_obj.id,\n",
    "            \"schema\": schema_obj.inference_json_schema,\n",
    "            \"strict\": True\n",
    "        }\n",
    "    }\n",
    ")\n",
    "print(completion.output_text)"
   ]
  },
  {
   "cell_type": "code",
   "execution_count": null,
   "id": "13a6ed3c",
   "metadata": {},
   "outputs": [
    {
     "data": {
      "text/plain": [
       "{'reasoning___root': 'Analysis shows:\\n- Clear booking confirmation document from ACME CORPORATION\\n- Single shipment under booking reference BC-67890\\n- Client identified as ACME CORPORATION from letterhead\\n- Shipping address and billing address provided\\n- All required signatures and VAT information is present',\n",
       " 'booking_id': 'BC-67890',\n",
       " 'payment': {'total_price': 1500, 'currency': 'EUR'},\n",
       " 'client': {'company_name': 'ACME CORPORATION',\n",
       "  'reasoning___VAT_number': 'Found VAT number GB123456789 in header next to company details',\n",
       "  'VAT_number': 'GB123456789',\n",
       "  'city': 'London',\n",
       "  'postal_code': 'WC2N 5DU',\n",
       "  'country': 'GB',\n",
       "  'code': None,\n",
       "  'email': 'client@acme.com'},\n",
       " 'reasoning___shipments': 'Shipment Analysis:\\n1: Dangerous goods - 5 pallets at a weight of 500 kg (UN1202, liquid, Class 3)\\n2: Total volume of 1.44 m³\\n3: Temperature range of 5°C to 25°C, Fracht considerations to be observed during the transport',\n",
       " 'shipments': [{'shipment_id': 'SHIP-001',\n",
       "   'reasoning___sender': 'I have found within the documents the following information about the sender:\\n- Sender company name: ACME Corporation\\n- Sender address: LINE1: 123 Elm Street / LINE2: Suite 500 / CITY: London / POSTAL_CODE: WC2N 5DU / COUNTRY: GB\\n- Sender phone number: +44 20 7946 0958\\n- Sender email: client@acme.com\\n- Pickup date: 5/2/2023, from 08:00 to 12:00\\n- Observations: Transport secured according to specific conditions stated in the document.',\n",
       "   'sender': {'company_name': 'ACME Corporation',\n",
       "    'address': {'city': 'London',\n",
       "     'postal_code': 'WC2N 5DU',\n",
       "     'country': 'GB',\n",
       "     'line1': '123 Elm Street',\n",
       "     'line2': 'Suite 500'},\n",
       "    'phone_number': '+44 20 7946 0958',\n",
       "    'email_address': 'client@acme.com',\n",
       "    'pickup_datetime': {'date': '2023-02-05',\n",
       "     'start_time': '08:00:00',\n",
       "     'end_time': '12:00:00'},\n",
       "    'observations': 'Ensure compliance with HAZMAT policies.'},\n",
       "   'reasoning___recipient': 'I have found within the documents the following information about the recipient:\\n- Recipient company name: Beta Industries\\n- Recipient address: LINE1: 769 Pine Street / LINE2: Munich / CITY: Munich / POSTAL_CODE: 80331 / COUNTRY: DE\\n- Recipient phone number: +49 89 123456\\n- Delivery date: 5/3/2023, from 10:00 to 16:00',\n",
       "   'recipient': {'company_name': 'Beta Industries',\n",
       "    'address': {'city': 'Munich',\n",
       "     'postal_code': '80331',\n",
       "     'country': 'DE',\n",
       "     'line1': '769 Pine Street',\n",
       "     'line2': ''},\n",
       "    'phone_number': '+49 89 123456',\n",
       "    'email_address': None,\n",
       "    'delivery_datetime': {'date': '2023-03-05',\n",
       "     'start_time': '10:00:00',\n",
       "     'end_time': '16:00:00'},\n",
       "    'observations': 'Check for loading dock access before arrival.'},\n",
       "   'reasoning___goods': 'Source indicates:\\n- 5 pallets of flammable liquid (UN1202 Class 3)\\n- Requires specific handling procedures for dangerous goods.\\n- Ensure temperature does not exceed 25°C during transit.',\n",
       "   'goods': {'packing': {'units': 5,\n",
       "     'packing_type': 'pallet',\n",
       "     'supplementary_parcels': 0,\n",
       "     'reasoning___pallets_on_ground': 'Each pallet occupies an area of 1.2m × 0.8m. Total 5 pallets result in a floor pallet equivalent of 5.',\n",
       "     'pallets_on_ground': 5,\n",
       "     'number_eur_pallet': 5,\n",
       "     'observation': 'Handling requires compliance with hazardous material regulations.'},\n",
       "    'dimensions': {'reasoning___loading_meters': 'Loading meters calculation based on dimensions to ensure proper fitting in the transport vehicle: Using provided value of 0.4 meters for loading space.',\n",
       "     'loading_meters': 0.4,\n",
       "     'reasoning___volume': 'Volume calculated as 1.44 m³ based on documented measurements of the pallets.',\n",
       "     'volume': 1.44},\n",
       "    'weight': 500,\n",
       "    'temperature_infos': {'min_temperature': 5,\n",
       "     'max_temperature': 25,\n",
       "     'category': 'Fresh'},\n",
       "    'reasoning___dangerous_goods_infos': \"Document contains:\\n- UN code: 1202, UN label: 'Flammable liquid', UN class: 3, UN packing group: II\\n\",\n",
       "    'dangerous_goods_infos': [{'weight': 500,\n",
       "      'UN_code': 1202,\n",
       "      'UN_label': 'Flammable liquid',\n",
       "      'UN_class': '3',\n",
       "      'UN_packing_group': 'II',\n",
       "      'ADR_tunnel_code': 'B'}]},\n",
       "   'reasoning___transport_constraints': 'Transport secured and contained with regards to HAZMAT requirements. Ensure the vehicle can accommodate temperature control and comply with loading/unloading protocols.',\n",
       "   'transport_constraints': {'vehicle_type': 'Carrier',\n",
       "    'body_type': 'Tanker',\n",
       "    'tail_lift': False,\n",
       "    'crane': False}}]}"
      ]
     },
     "metadata": {},
     "output_type": "display_data"
    }
   ],
   "source": [
    "## This also work with streaming!\n",
    "from jiter import from_json\n",
    "from IPython.display import clear_output, display\n",
    "\n",
    "client = OpenAI()\n",
    "output_text_cum = \"\"\n",
    "with client.responses.stream(\n",
    "    model=\"gpt-4o-mini\",\n",
    "    input=schema_obj.openai_responses_input + doc_msg.openai_responses_input,\n",
    "    text={\n",
    "        \"format\": {\n",
    "            \"type\": \"json_schema\",\n",
    "            \"name\": schema_obj.id,\n",
    "            \"schema\": schema_obj.inference_json_schema,\n",
    "            \"strict\": True\n",
    "        }\n",
    "    } \n",
    ") as stream:\n",
    "    for event in stream:\n",
    "        if event.type == \"response.output_text.delta\":\n",
    "            output_text_cum += event.delta\n",
    "            clear_output(wait=True)\n",
    "            # Use this if you want to parse partial json objects.\n",
    "            display(from_json(bytes(output_text_cum, \"utf-8\"), partial_mode=\"trailing-strings\"))\n",
    "        elif event.type == \"response.completed\":\n",
    "            clear_output(wait=True)\n",
    "            # Should be directly a valid json object!\n",
    "            display(json.loads(event.response.output_text))\n"
   ]
  }
 ],
 "metadata": {
  "kernelspec": {
   "display_name": "Python 3",
   "language": "python",
   "name": "python3"
  },
  "language_info": {
   "codemirror_mode": {
    "name": "ipython",
    "version": 3
   },
   "file_extension": ".py",
   "mimetype": "text/x-python",
   "name": "python",
   "nbconvert_exporter": "python",
   "pygments_lexer": "ipython3",
   "version": "3.12.7"
  }
 },
 "nbformat": 4,
 "nbformat_minor": 5
}
